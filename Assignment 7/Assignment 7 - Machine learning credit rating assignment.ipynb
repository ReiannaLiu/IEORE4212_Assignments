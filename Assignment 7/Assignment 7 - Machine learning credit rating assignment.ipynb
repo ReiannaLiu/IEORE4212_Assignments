{
 "cells": [
  {
   "cell_type": "markdown",
   "metadata": {},
   "source": [
    "<h1 style=\"color:red;\">Credit rating assignment</h1>\n",
    "<p></p>\n",
    "In this assignment, we'll work our way through a simple ML exercise. Machine learning is an iterative process that starts with feature engineering (making the features ready for ML), works it way through various models and hyperparameter tuning exercises, until we find a model that seems to work well for us. "
   ]
  },
  {
   "cell_type": "markdown",
   "metadata": {},
   "source": [
    "<h3 style=\"color:green;\">The problem: Rating creditworthiness of loan applicants</h3>\n",
    "\n",
    "When banks issue loans to individuals, they have two goals that conflict with each other:\n",
    "<ol>\n",
    "    <li>Give as many loans as possible (fees, interest, all add to revenue)</li>\n",
    "    <li>Try not to give loans to individuals who won't pay it back (lose money on the loan, collection costs, etc.)</li>\n",
    "</ol>\n",
    "    \n",
    "<li>A typical machine learning program in this space tries to find a suitable tradeoff between finding many good loans and not calling a bad loan good</li>\n",
    "\n",
    "<li>In this assignment, we'll try to build a \"good\" model that finds a good tradeoff between these two objectives</li>\n",
    "\n",
    "<li>In machine learning terms, the proportion of times we get our guess right (i.e., we call a bad loan a bad loan and a good loan a good loan divided by the total number of cases) is called <span style=\"color:blue\">accuracy</span></li>\n",
    "\n",
    "<li>The proportion of actual good loans that we identify as good loans is known as <span style=\"color:blue\">recall</span></li>\n",
    "\n",
    "<li>The probability that if a loan is called good it actually is good is called <span style=\"color:blue\">precision</span></li>\n",
    "\n",
    "<li>The precision recall tradeoff is measured through a score called <span style=\"color:blue\">f1 score</span></li>\n",
    "\n",
    "<li>An important part of running an ML model is trying to figure out \"which metric is right for you\"</li>\n",
    "\n",
    "\n",
    "    \n",
    "    \n",
    "<ol>\n",
    "    <li>We'll try the SGD classifier, tune hyperparameters using grid search, and examine the results</li>\n",
    "    <li>then, set up the data for a random forest classifier, run a grid search, and examine the results</li>\n",
    "        <ul><li>finally, run a couple of gradient booster models</li></ul>\n",
    "    <li>draw precision recall curves and roc curves for the two classifiers and compare the results</li>\n",
    "    <li>note that grid search is a computing intensive activity. I've simplified the search to a few options but even those can take a long while (less than 15 minutes on my laptop but could be a couple of hours if you have an older machine)</li>\n",
    "</ol>"
   ]
  },
  {
   "cell_type": "markdown",
   "metadata": {},
   "source": [
    "<h3 style=\"color:green;\">The models</h3>\n",
    "<p></p>\n",
    "<li><b>Model 1 SGD Classifier</b>: Vanilla version with max_iter set to 1000</li>\n",
    "<li><b>Model 2 SGD Classifier round 2</b>: SGD Classifier with positive cases assigned a higher weight. One issue with our data is that positive cases are vastly outnumbered by negative cases (in other words, a model that says all cases are negative will have a pretty good accuracy). By overweighting positive cases in our model, we increase the efficacy of the model in finding an actual good solution</li>\n",
    "<li><b>Model 3 SGD Classifier round 3</b>: Best SGD Classifier model after grid search</li>\n",
    "<li><b>Model 4 Random Forest Classifier round 1</b>: Random Forest Classifier with base parameters (see below)</li>\n",
    "<li><b>Model 5 Random Forest Classifier round 2</b>: Best model from grid search</li>\n",
    "<li><b>Model 6 Gradient Booster Classfier</b></li>\n",
    "<li><b>Model 7 Gradient Booster Classifier (2nd model)</b></li>"
   ]
  },
  {
   "cell_type": "code",
   "execution_count": null,
   "metadata": {},
   "outputs": [],
   "source": []
  },
  {
   "cell_type": "markdown",
   "metadata": {},
   "source": [
    "For each model, collect model metrics in the following dataframe results_df. After each model run, replace the 0.0 with the appropriate metric value\n"
   ]
  },
  {
   "cell_type": "code",
   "execution_count": 1,
   "metadata": {},
   "outputs": [
    {
     "data": {
      "text/html": [
       "<div>\n",
       "<style scoped>\n",
       "    .dataframe tbody tr th:only-of-type {\n",
       "        vertical-align: middle;\n",
       "    }\n",
       "\n",
       "    .dataframe tbody tr th {\n",
       "        vertical-align: top;\n",
       "    }\n",
       "\n",
       "    .dataframe thead th {\n",
       "        text-align: right;\n",
       "    }\n",
       "</style>\n",
       "<table border=\"1\" class=\"dataframe\">\n",
       "  <thead>\n",
       "    <tr style=\"text-align: right;\">\n",
       "      <th></th>\n",
       "      <th>accuracy</th>\n",
       "      <th>precision</th>\n",
       "      <th>recall</th>\n",
       "      <th>f1_score</th>\n",
       "      <th>AUC</th>\n",
       "      <th>AP</th>\n",
       "    </tr>\n",
       "    <tr>\n",
       "      <th>Model</th>\n",
       "      <th></th>\n",
       "      <th></th>\n",
       "      <th></th>\n",
       "      <th></th>\n",
       "      <th></th>\n",
       "      <th></th>\n",
       "    </tr>\n",
       "  </thead>\n",
       "  <tbody>\n",
       "    <tr>\n",
       "      <th>1</th>\n",
       "      <td>0.0</td>\n",
       "      <td>0.0</td>\n",
       "      <td>0.0</td>\n",
       "      <td>0.0</td>\n",
       "      <td>0.0</td>\n",
       "      <td>0.0</td>\n",
       "    </tr>\n",
       "    <tr>\n",
       "      <th>2</th>\n",
       "      <td>0.0</td>\n",
       "      <td>0.0</td>\n",
       "      <td>0.0</td>\n",
       "      <td>0.0</td>\n",
       "      <td>0.0</td>\n",
       "      <td>0.0</td>\n",
       "    </tr>\n",
       "    <tr>\n",
       "      <th>3</th>\n",
       "      <td>0.0</td>\n",
       "      <td>0.0</td>\n",
       "      <td>0.0</td>\n",
       "      <td>0.0</td>\n",
       "      <td>0.0</td>\n",
       "      <td>0.0</td>\n",
       "    </tr>\n",
       "    <tr>\n",
       "      <th>4</th>\n",
       "      <td>0.0</td>\n",
       "      <td>0.0</td>\n",
       "      <td>0.0</td>\n",
       "      <td>0.0</td>\n",
       "      <td>0.0</td>\n",
       "      <td>0.0</td>\n",
       "    </tr>\n",
       "    <tr>\n",
       "      <th>5</th>\n",
       "      <td>0.0</td>\n",
       "      <td>0.0</td>\n",
       "      <td>0.0</td>\n",
       "      <td>0.0</td>\n",
       "      <td>0.0</td>\n",
       "      <td>0.0</td>\n",
       "    </tr>\n",
       "    <tr>\n",
       "      <th>6</th>\n",
       "      <td>0.0</td>\n",
       "      <td>0.0</td>\n",
       "      <td>0.0</td>\n",
       "      <td>0.0</td>\n",
       "      <td>0.0</td>\n",
       "      <td>0.0</td>\n",
       "    </tr>\n",
       "    <tr>\n",
       "      <th>7</th>\n",
       "      <td>0.0</td>\n",
       "      <td>0.0</td>\n",
       "      <td>0.0</td>\n",
       "      <td>0.0</td>\n",
       "      <td>0.0</td>\n",
       "      <td>0.0</td>\n",
       "    </tr>\n",
       "  </tbody>\n",
       "</table>\n",
       "</div>"
      ],
      "text/plain": [
       "       accuracy  precision  recall  f1_score  AUC   AP\n",
       "Model                                                 \n",
       "1           0.0        0.0     0.0       0.0  0.0  0.0\n",
       "2           0.0        0.0     0.0       0.0  0.0  0.0\n",
       "3           0.0        0.0     0.0       0.0  0.0  0.0\n",
       "4           0.0        0.0     0.0       0.0  0.0  0.0\n",
       "5           0.0        0.0     0.0       0.0  0.0  0.0\n",
       "6           0.0        0.0     0.0       0.0  0.0  0.0\n",
       "7           0.0        0.0     0.0       0.0  0.0  0.0"
      ]
     },
     "execution_count": 1,
     "metadata": {},
     "output_type": "execute_result"
    }
   ],
   "source": [
    "import pandas as pd\n",
    "import numpy as np\n",
    "results_df = pd.DataFrame(np.zeros(shape=(7,6)))\n",
    "results_df.index=[1,2,3,4,5,6,7]\n",
    "results_df.columns = [\"accuracy\",\"precision\",\"recall\",\"f1_score\",\"AUC\",\"AP\"]\n",
    "results_df.index.rename(\"Model\",inplace=True)\n",
    "results_df"
   ]
  },
  {
   "cell_type": "markdown",
   "metadata": {},
   "source": [
    "<h3 style=\"color:green;\">The data</h3>\n",
    "<p></p>\n",
    "<li>A curated extract from the popular Lending club loan data. The data is in the file loan_data_small.csv</li>\n",
    "<li>The dataset contains information about loan applications. Very basic information about the applicant and the status of the loan</li>\n",
    "<li>The goal of the ML exercise is to build a model that uses information about the loan to predict whether a loan is a \"good\" one (i.e., it will be paid back) or a \"bad\" one (the money is unrecoverable)</li>\n",
    "<li>Note that we're only using a fraction of the data. If you're interested, I can share the curated extract on a larger fraction which gives better results (but can crash your machine!)</li>"
   ]
  },
  {
   "cell_type": "markdown",
   "metadata": {},
   "source": [
    "<h1 style=\"color:red;font-size:xx-large\">Data preparation and feature engineering</h1>\n"
   ]
  },
  {
   "cell_type": "markdown",
   "metadata": {},
   "source": [
    "<h3 style=\"color:green;\">Build a binary target</h3>\n",
    "\n",
    "<li>For the purposes of this analysis, drop rows that contain any NaN values</li>\n",
    "<li><b>Target</b>: For the classifier, classify any loans that have a loan_status value of \"Charged Off\",\"Default\", or \"Does not meet the credit policy. Status:Charged Off\" as a bad loan and give these loans a target value of 1 (we're predicting bad loans)</li>\n",
    "<li><b>Input features</b>: create the input feature dataframe (i.e., drop any columns that are not an independent variable). The input variables we're interested in are \"int_rate\", \"grade\", \"home_ownership\",\"annual_income\", \"loan_amt\", and \"purpose\"</li>\n",
    "<p></p>\n",
    "<li>The data should look like:</li>\n",
    "<pre>\n",
    "<class 'pandas.core.frame.DataFrame'>\n",
    "RangeIndex: 565167 entries, 0 to 565166\n",
    "Data columns (total 7 columns):\n",
    " #   Column          Non-Null Count   Dtype  \n",
    "---  ------          --------------   -----  \n",
    " 0   Unnamed: 0.1    565167 non-null  int64  \n",
    " 1   int_rate        565167 non-null  float64\n",
    " 2   grade           565167 non-null  object \n",
    " 3   home_ownership  565167 non-null  object \n",
    " 4   annual_inc      565167 non-null  float64\n",
    " 5   loan_amnt       565167 non-null  int64  \n",
    " 6   purpose         565167 non-null  object \n",
    "dtypes: float64(2), int64(2), object(3)\n",
    "memory usage: 30.2+ MB\n",
    "Out[108]:\n",
    "0         False\n",
    "1          True\n",
    "2         False\n",
    "3         False\n",
    "4          True\n",
    "          ...  \n",
    "565162    False\n",
    "565163    False\n",
    "565164    False\n",
    "565165     True\n",
    "565166    False\n",
    "Name: loan_status, Length: 565167, dtype: bool\n",
    "\n",
    "</pre>"
   ]
  },
  {
   "cell_type": "code",
   "execution_count": 2,
   "metadata": {},
   "outputs": [
    {
     "name": "stdout",
     "output_type": "stream",
     "text": [
      "<class 'pandas.core.frame.DataFrame'>\n",
      "RangeIndex: 565167 entries, 0 to 565166\n",
      "Data columns (total 7 columns):\n",
      " #   Column          Non-Null Count   Dtype  \n",
      "---  ------          --------------   -----  \n",
      " 0   Unnamed: 0.1    565167 non-null  int64  \n",
      " 1   int_rate        565167 non-null  float64\n",
      " 2   grade           565167 non-null  object \n",
      " 3   home_ownership  565167 non-null  object \n",
      " 4   annual_inc      565167 non-null  float64\n",
      " 5   loan_amnt       565167 non-null  int64  \n",
      " 6   purpose         565167 non-null  object \n",
      "dtypes: float64(2), int64(2), object(3)\n",
      "memory usage: 30.2+ MB\n"
     ]
    }
   ],
   "source": [
    "#read the file\n",
    "import pandas as pd\n",
    "import numpy as np\n",
    "import matplotlib.pyplot as plt\n",
    "df = pd.read_csv(\"Resources/loan_data_small.csv\")\n",
    "\n",
    "#Drop rows with NaN values\n",
    "df.dropna(inplace=True)\n",
    "\n",
    "#Prepare the y (target) variable\n",
    "#The target variable should be 1 if loan_status is \"Charged Off\",\"Default\", or \"Does not meet the credit policy. Status:Charged Off\"\n",
    "#And 0 otherwise\n",
    "#(Hint: Create a boolean mask series)\n",
    "\n",
    "y = df[\"loan_status\"].isin([\"Charged Off\",\"Default\",\"Does not meet the credit policy. Status:Charged Off\"])\n",
    "\n",
    "#remove unwanted input features \"Unnamed: 0\" and \"loan_status\"\n",
    "df.drop(columns=[\"Unnamed: 0\",\"loan_status\"],inplace=True)\n",
    "\n",
    "#Examine the df and the target\n",
    "df.info()"
   ]
  },
  {
   "cell_type": "code",
   "execution_count": 3,
   "metadata": {},
   "outputs": [
    {
     "data": {
      "text/plain": [
       "0         False\n",
       "1          True\n",
       "2         False\n",
       "3         False\n",
       "4          True\n",
       "          ...  \n",
       "565162    False\n",
       "565163    False\n",
       "565164    False\n",
       "565165     True\n",
       "565166    False\n",
       "Name: loan_status, Length: 565167, dtype: bool"
      ]
     },
     "execution_count": 3,
     "metadata": {},
     "output_type": "execute_result"
    }
   ],
   "source": [
    "y"
   ]
  },
  {
   "cell_type": "markdown",
   "metadata": {},
   "source": [
    "<h3 style=\"color:green;\">Label Encoding</h3>\n",
    "<li>Since we're using regression as our underlying algorithm, all values need to be numerical. ML Models generally deal with numerical data</li>\n",
    "<li>But, <span style=\"color:blue\">grade</span>, <span style=\"color:blue\">purpose</span>, and <span style=\"color:blue\">home_ownership</span> are not</li>\n",
    "</li>\n",
    "<li>sklearn's <a href=\"https://scikit-learn.org/stable/modules/generated/sklearn.preprocessing.LabelEncoder.html\">LabelEncoder</a> assigns numerical values to categorical data</li>\n",
    "<li>LabelEncoder replaces each categorical string value with an integer - 0, 1, 2, ...</li>\n",
    "<li>After label encoding, df.info() should return:</li>\n",
    "<pre>\n",
    "<class 'pandas.core.frame.DataFrame'>\n",
    "RangeIndex: 565167 entries, 0 to 565166\n",
    "Data columns (total 7 columns):\n",
    " #   Column          Non-Null Count   Dtype  \n",
    "---  ------          --------------   -----  \n",
    " 0   Unnamed: 0.1    565167 non-null  int64  \n",
    " 1   int_rate        565167 non-null  float64\n",
    " 2   grade           565167 non-null  int64  \n",
    " 3   home_ownership  565167 non-null  int64  \n",
    " 4   annual_inc      565167 non-null  float64\n",
    " 5   loan_amnt       565167 non-null  int64  \n",
    " 6   purpose         565167 non-null  int64  \n",
    "dtypes: float64(2), int64(5)\n",
    "memory usage: 30.2 MB\n",
    "</pre>"
   ]
  },
  {
   "cell_type": "code",
   "execution_count": 4,
   "metadata": {},
   "outputs": [],
   "source": [
    "#replace grade, purpose, and home_ownership by label encoded versions\n",
    "from sklearn.preprocessing import LabelEncoder\n",
    "le = LabelEncoder()\n",
    "df[\"grade\"] = le.fit_transform(df[\"grade\"])\n",
    "df[\"purpose\"] = le.fit_transform(df[\"purpose\"])\n",
    "df[\"home_ownership\"] = le.fit_transform(df[\"home_ownership\"])\n"
   ]
  },
  {
   "cell_type": "code",
   "execution_count": 5,
   "metadata": {},
   "outputs": [
    {
     "name": "stdout",
     "output_type": "stream",
     "text": [
      "<class 'pandas.core.frame.DataFrame'>\n",
      "RangeIndex: 565167 entries, 0 to 565166\n",
      "Data columns (total 7 columns):\n",
      " #   Column          Non-Null Count   Dtype  \n",
      "---  ------          --------------   -----  \n",
      " 0   Unnamed: 0.1    565167 non-null  int64  \n",
      " 1   int_rate        565167 non-null  float64\n",
      " 2   grade           565167 non-null  int32  \n",
      " 3   home_ownership  565167 non-null  int32  \n",
      " 4   annual_inc      565167 non-null  float64\n",
      " 5   loan_amnt       565167 non-null  int64  \n",
      " 6   purpose         565167 non-null  int32  \n",
      "dtypes: float64(2), int32(3), int64(2)\n",
      "memory usage: 23.7 MB\n"
     ]
    }
   ],
   "source": [
    "df.info()"
   ]
  },
  {
   "cell_type": "markdown",
   "metadata": {},
   "source": [
    "<h3 style=\"color:green;\">One-hot encoding</h3>\n",
    "\n",
    "<p></p>\n",
    "<li>In regression, the assumption is that values associated with a feature are ordered</li>\n",
    "<li>But, this is not necessarily so for the label encoded categorical values</li>\n",
    "<li>The way to deal with this in regression is to create dummy variables, one for each category, that take the value 1 if the category is present in the row and 0 otherwise</li>\n",
    "<li>In ML, a procedure known as <a href=\"https://en.wikipedia.org/wiki/One-hot\">one-hot encoding</a> is used to do this conversion</li>\n",
    "<li>One hot encoding is the process of converting a single column of categorical (integer) data with k categories into k-1 columns of 0 or 1 values</li>\n",
    "<li>for example, the array with three possible categories [1,2,3,2,1] will be converted into the matrix:</li>\n",
    "\n",
    "$$\\begin{bmatrix} 0 & 0 \\\\ 1 & 0 \\\\ 0 & 1 \\\\ 1 & 0 \\\\ 0 & 0 \\end{bmatrix}$$\n",
    "\n",
    "<li>1's are replaced by (0, 0); 2's by (1, 0); and 3's by (0, 1). Note that category 1 is implicitly coded</li>\n",
    "<li><b>Documentation</b>: <a href=\"https://scikit-learn.org/stable/modules/generated/sklearn.preprocessing.OneHotEncoder.html\">https://scikit-learn.org/stable/modules/generated/sklearn.preprocessing.OneHotEncoder.html</a>"
   ]
  },
  {
   "cell_type": "markdown",
   "metadata": {},
   "source": [
    "<h3 style=\"color:green;\">Scaling</h3>\n",
    "\n",
    "<p></p>\n",
    "<li>Non-categorical independent variables need to be scaled so that they follow the same underlying distribution</li>\n",
    "<li>We will normalize them so that the mean is 0 and standard deviation is 1 using sklearn's StandardScaler feature transformer</li>\n",
    "<li><a href=\"https://scikit-learn.org/stable/modules/generated/sklearn.preprocessing.StandardScaler.html\">https://scikit-learn.org/stable/modules/generated/sklearn.preprocessing.StandardScaler.html</a></li>"
   ]
  },
  {
   "cell_type": "markdown",
   "metadata": {},
   "source": [
    "<li>All feature transformations can be encapsulated in the sklearn <a href=\"https://scikit-learn.org/stable/modules/generated/sklearn.compose.make_column_transformer.html\">make_column_transformer</a> object</li>\n",
    "<li>Use <span style=\"color:blue\">make_column_transformer</span> to encapsulate both the one-hot coding as well as standard scaling. Note that the one-hot encoded columns are not scaled!</li>"
   ]
  },
  {
   "cell_type": "code",
   "execution_count": 6,
   "metadata": {},
   "outputs": [
    {
     "data": {
      "text/plain": [
       "(565167, 26)"
      ]
     },
     "execution_count": 6,
     "metadata": {},
     "output_type": "execute_result"
    }
   ],
   "source": [
    "\n",
    "from sklearn.preprocessing import StandardScaler, OneHotEncoder\n",
    "from sklearn.compose import ColumnTransformer, make_column_transformer\n",
    "\n",
    "#Make a column transformer object that scales (using StandardScaler) the two non-categorical columns\n",
    "# and one hot encodes (using OneHotEncoder) the three categorical columns\n",
    "# Using make_column_transformer \n",
    "preprocess = make_column_transformer(\n",
    "    (StandardScaler(),['int_rate', 'annual_inc'], ),\n",
    "    (OneHotEncoder(categories=\"auto\",drop=\"first\"),['grade', 'home_ownership','purpose'], )\n",
    ")\n",
    "\n",
    "#Generate the independent variable df\n",
    "X = preprocess.fit_transform(df).toarray()\n",
    "X.shape\n",
    "#Should return (565167, 26)"
   ]
  },
  {
   "cell_type": "markdown",
   "metadata": {},
   "source": [
    "<h3 style=\"color:green;\">Train/Test split</h3>\n",
    "\n",
    "<li><a href=\"https://scikit-learn.org/stable/modules/generated/sklearn.model_selection.train_test_split.html\">https://scikit-learn.org/stable/modules/generated/sklearn.model_selection.train_test_split.html</a></li>\n",
    "<li>split the data into 70% training and 30% testing</li>\n",
    "<li>make sure the x and y datasets are aligned</li>\n",
    "<li>use random_state=42 to get the same split as in my code </li>\n",
    "<li>x and y training data shapes: (395616, 26) (395616,)</li>\n",
    "<li>x and y testing data shapes: (169551, 26) (169551,)</li>"
   ]
  },
  {
   "cell_type": "code",
   "execution_count": 7,
   "metadata": {},
   "outputs": [
    {
     "name": "stdout",
     "output_type": "stream",
     "text": [
      "(395616, 26) (395616,)\n",
      "(169551, 26) (169551,)\n"
     ]
    },
    {
     "data": {
      "text/plain": [
       "'\\nShould return:\\n(395616, 26) (395616,)\\n(169551, 26) (169551,)\\n'"
      ]
     },
     "execution_count": 7,
     "metadata": {},
     "output_type": "execute_result"
    }
   ],
   "source": [
    "from sklearn.model_selection import train_test_split\n",
    "#Get x_train, x_test, y_train, y_test\n",
    "x_train, x_test, y_train, y_test = train_test_split(X,y,test_size=0.3,random_state=42)\n",
    "\n",
    "#And check the shape\n",
    "print(x_train.shape,y_train.shape)\n",
    "print(x_test.shape,y_test.shape)\n",
    "\n",
    "\"\"\"\n",
    "Should return:\n",
    "(395616, 26) (395616,)\n",
    "(169551, 26) (169551,)\n",
    "\"\"\""
   ]
  },
  {
   "cell_type": "code",
   "execution_count": 8,
   "metadata": {},
   "outputs": [
    {
     "data": {
      "text/plain": [
       "array([[ 0.27542382, -0.54678873,  0.        , ...,  0.        ,\n",
       "         0.        ,  0.        ],\n",
       "       [-0.81078196,  1.05693436,  1.        , ...,  0.        ,\n",
       "         0.        ,  0.        ],\n",
       "       [-0.20043776,  0.4221273 ,  1.        , ...,  0.        ,\n",
       "         0.        ,  0.        ],\n",
       "       ...,\n",
       "       [ 0.79059571, -0.3930986 ,  0.        , ...,  0.        ,\n",
       "         0.        ,  0.        ],\n",
       "       [-1.18940226, -0.85299293,  0.        , ...,  0.        ,\n",
       "         0.        ,  0.        ],\n",
       "       [-0.09698959, -0.0656718 ,  0.        , ...,  0.        ,\n",
       "         0.        ,  0.        ]])"
      ]
     },
     "execution_count": 8,
     "metadata": {},
     "output_type": "execute_result"
    }
   ],
   "source": [
    "x_test"
   ]
  },
  {
   "cell_type": "markdown",
   "metadata": {},
   "source": [
    "<h1 style=\"color:green\">The models</h1>\n",
    "<li>For each model, do the following</li>\n",
    "<ol>\n",
    "    <li>Fit a classifier to the training data</li>\n",
    "    <li>calculate the metrics</li>\n",
    "    <ul>\n",
    "        <li>training accuracy</li>\n",
    "        <li>testing accuracy</li>\n",
    "        <li>precision on test dataset</li>\n",
    "        <li>recall on test dataset</li>\n",
    "        <li>f1 score on test dataset</li>\n",
    "        <li>area under the curve on test dataset</li>\n",
    "        <li>average precision on the test dataset</li>\n",
    "    </ul>\n",
    "    <li>Write up a brief (pointwise) interpretation of the results\n",
    "</ol>\n",
    "<li>Chart the various metrics</li>\n"
   ]
  },
  {
   "cell_type": "markdown",
   "metadata": {},
   "source": [
    "<h1 style=\"color:red;font-size:xx-large\">Build Model 1</h1>\n"
   ]
  },
  {
   "cell_type": "markdown",
   "metadata": {},
   "source": [
    "<h3 style=\"color:green;\">Build the model on the training data set</h3>\n",
    "\n",
    "<li>set random_state to 42 (if you want to get the same results that I got) and max_iter to 1000</li>\n",
    "<li>set the loss function to \"log_loss\" (\"log\" if using sklearn 1.0.x or on colab)</li>\n"
   ]
  },
  {
   "cell_type": "code",
   "execution_count": 11,
   "metadata": {},
   "outputs": [
    {
     "name": "stdout",
     "output_type": "stream",
     "text": [
      "0.8846634109843889\n",
      "0.8843828700508991\n"
     ]
    },
    {
     "data": {
      "text/plain": [
       "'\\nYou should get:\\n0.8846634109843889\\n0.8843828700508991\\n'"
      ]
     },
     "execution_count": 11,
     "metadata": {},
     "output_type": "execute_result"
    }
   ],
   "source": [
    "from sklearn.linear_model import SGDClassifier\n",
    "model_1 = SGDClassifier(loss=\"log_loss\",random_state=42, max_iter=1000)\n",
    "model_1.fit(x_train,y_train) #change if you used different variable names\n",
    "\n",
    "print(model_1.score(x_train,y_train))\n",
    "print(model_1.score(x_test,y_test))\n",
    "\"\"\"\n",
    "You should get:\n",
    "0.8846634109843889\n",
    "0.8843828700508991\n",
    "\"\"\""
   ]
  },
  {
   "cell_type": "markdown",
   "metadata": {},
   "source": [
    "\n",
    "<h3 style=\"color:green;\">Model 1 metrics</h3>\n",
    "<li>Report the following on the <b>test</b> data:</li>\n",
    "<ul>\n",
    "<li>the confusion matrix</li>\n",
    "<li>the accuracy, precision, recall, f1-score, AUC, and AP </li>\n",
    "</ul>\n"
   ]
  },
  {
   "cell_type": "code",
   "execution_count": 13,
   "metadata": {},
   "outputs": [
    {
     "name": "stdout",
     "output_type": "stream",
     "text": [
      "Confusion Matrix: \n",
      " [[149948      1]\n",
      " [ 19602      0]]\n",
      "Training accuracy:  0.8846634109843889\n",
      "Testing  accuracy:  0.8843828700508991\n",
      "Precision:  0.0\n",
      "Recall:  0.0\n",
      "F1-Score:  0.0\n",
      "AUC:  0.6929621775583543\n",
      "Average Precision:  0.2277691812634675\n"
     ]
    },
    {
     "data": {
      "text/plain": [
       "'\\n\\nYou should see:\\n\\nConfusion Matrix: \\n [[149948      1]\\n [ 19602      0]]\\nTraining accuracy:  0.8846634109843889\\nTesting  accuracy:  0.8843828700508991\\nPrecision:  0.0\\nRecall:  0.0\\nF1-Score:  0.0\\nAUC:  0.692962177388246\\nAverage Precision:  0.11561123201868465\\n'"
      ]
     },
     "execution_count": 13,
     "metadata": {},
     "output_type": "execute_result"
    }
   ],
   "source": [
    "from sklearn.metrics import confusion_matrix\n",
    "from sklearn.metrics import f1_score,recall_score,precision_score\n",
    "from sklearn.metrics import average_precision_score,roc_auc_score\n",
    "\n",
    "cfm = confusion_matrix(y_test,model_1.predict(x_test))\n",
    "accuracy_training = model_1.score(x_train,y_train)\n",
    "accuracy_testing = model_1.score(x_test,y_test)\n",
    "precision = precision_score(y_test,model_1.predict(x_test))\n",
    "recall = recall_score(y_test,model_1.predict(x_test))\n",
    "f1 = f1_score(y_test,model_1.predict(x_test))\n",
    "auc = roc_auc_score(y_test,model_1.predict_proba(x_test)[:,1])\n",
    "ap = average_precision_score(y_test,model_1.predict_proba(x_test)[:,1])\n",
    "\n",
    "print(\"Confusion Matrix: \\n\",cfm)\n",
    "print(\"Training accuracy: \",accuracy_training)\n",
    "print(\"Testing  accuracy: \",accuracy_testing)\n",
    "print(\"Precision: \",precision)\n",
    "print(\"Recall: \",recall)\n",
    "print(\"F1-Score: \",f1)\n",
    "print(\"AUC: \",auc)\n",
    "print(\"Average Precision: \",ap)\n",
    "\n",
    "\n",
    "\"\"\"\n",
    "\n",
    "You should see:\n",
    "\n",
    "Confusion Matrix: \n",
    " [[149948      1]\n",
    " [ 19602      0]]\n",
    "Training accuracy:  0.8846634109843889\n",
    "Testing  accuracy:  0.8843828700508991\n",
    "Precision:  0.0\n",
    "Recall:  0.0\n",
    "F1-Score:  0.0\n",
    "AUC:  0.692962177388246\n",
    "Average Precision:  0.11561123201868465\n",
    "\"\"\""
   ]
  },
  {
   "cell_type": "markdown",
   "metadata": {},
   "source": [
    "<h3 style=\"color:green;\">Interpret the results</h3>\n",
    "<li>In a few bullet points, write your interpreation of the results. Why are we seeing what we are seeing? Is it useful? Why is the AUC not 0.5?</li>\n",
    "\n",
    "<h4>Interpretation</h4>\n",
    "<li> The model is heavily biased toward the negative class (good loans). The bias is likely because of the class imblanace in the dataset. </li>\n",
    "<li> The training and testing accuracy are approximately 0.884, i.e. the model gets its guess correct 88.4\\% of the time. However, this high accuracy might be misleading because it is always predict loans to be good, regardless of their actual status. i.e. Any model that always predicts the majority class would also achieve a similar accuracy. </li>\n",
    "<li> The precision for this model is 0, which indicates that if model 1 were to label a loan as bad, the probability that it is actually bad is zero. i.e. the model's ability to correct label bad loans when it attempts to is zero.</li>\n",
    "<li> The recall for this model is 0, which indicates the proportion of actual bad loans that our model identifies as bad loans is zero. i.e. the model fails to capture any of the bad loans. </li>\n",
    "<li> The F1 score of 0 suggests that our model is failing in both precision and recall for the positive class (bad loans). </li>\n",
    "<li> The AUC has a value 0.693 (greater than 0.5) indicates that the model has indeed some ability to distinguish between good and bad loans, not merely random guessing. Because our model is heavily biased toward predicting good loans, then this will not produce a 0.5 AUC. </li>\n",
    "<li> The average precision indicates that over different recall value, the model's precision is relatively low. </li>\n",
    "<li> Model 1 achieves the goal to give as many loan as possible, but it is fails to achieve the goal to try not give loans to individuals who won't pay back, i.e. identify bad loans.</li>"
   ]
  },
  {
   "cell_type": "markdown",
   "metadata": {},
   "source": [
    "<h3 style=\"color:green;\">Update results_df</h3>\n"
   ]
  },
  {
   "cell_type": "code",
   "execution_count": 17,
   "metadata": {},
   "outputs": [
    {
     "data": {
      "text/html": [
       "<div>\n",
       "<style scoped>\n",
       "    .dataframe tbody tr th:only-of-type {\n",
       "        vertical-align: middle;\n",
       "    }\n",
       "\n",
       "    .dataframe tbody tr th {\n",
       "        vertical-align: top;\n",
       "    }\n",
       "\n",
       "    .dataframe thead th {\n",
       "        text-align: right;\n",
       "    }\n",
       "</style>\n",
       "<table border=\"1\" class=\"dataframe\">\n",
       "  <thead>\n",
       "    <tr style=\"text-align: right;\">\n",
       "      <th></th>\n",
       "      <th>accuracy</th>\n",
       "      <th>precision</th>\n",
       "      <th>recall</th>\n",
       "      <th>f1_score</th>\n",
       "      <th>AUC</th>\n",
       "      <th>AP</th>\n",
       "    </tr>\n",
       "    <tr>\n",
       "      <th>Model</th>\n",
       "      <th></th>\n",
       "      <th></th>\n",
       "      <th></th>\n",
       "      <th></th>\n",
       "      <th></th>\n",
       "      <th></th>\n",
       "    </tr>\n",
       "  </thead>\n",
       "  <tbody>\n",
       "    <tr>\n",
       "      <th>1</th>\n",
       "      <td>0.884383</td>\n",
       "      <td>0.0</td>\n",
       "      <td>0.0</td>\n",
       "      <td>0.0</td>\n",
       "      <td>0.692962</td>\n",
       "      <td>0.227769</td>\n",
       "    </tr>\n",
       "    <tr>\n",
       "      <th>2</th>\n",
       "      <td>0.000000</td>\n",
       "      <td>0.0</td>\n",
       "      <td>0.0</td>\n",
       "      <td>0.0</td>\n",
       "      <td>0.000000</td>\n",
       "      <td>0.000000</td>\n",
       "    </tr>\n",
       "    <tr>\n",
       "      <th>3</th>\n",
       "      <td>0.000000</td>\n",
       "      <td>0.0</td>\n",
       "      <td>0.0</td>\n",
       "      <td>0.0</td>\n",
       "      <td>0.000000</td>\n",
       "      <td>0.000000</td>\n",
       "    </tr>\n",
       "    <tr>\n",
       "      <th>4</th>\n",
       "      <td>0.000000</td>\n",
       "      <td>0.0</td>\n",
       "      <td>0.0</td>\n",
       "      <td>0.0</td>\n",
       "      <td>0.000000</td>\n",
       "      <td>0.000000</td>\n",
       "    </tr>\n",
       "    <tr>\n",
       "      <th>5</th>\n",
       "      <td>0.000000</td>\n",
       "      <td>0.0</td>\n",
       "      <td>0.0</td>\n",
       "      <td>0.0</td>\n",
       "      <td>0.000000</td>\n",
       "      <td>0.000000</td>\n",
       "    </tr>\n",
       "    <tr>\n",
       "      <th>6</th>\n",
       "      <td>0.000000</td>\n",
       "      <td>0.0</td>\n",
       "      <td>0.0</td>\n",
       "      <td>0.0</td>\n",
       "      <td>0.000000</td>\n",
       "      <td>0.000000</td>\n",
       "    </tr>\n",
       "    <tr>\n",
       "      <th>7</th>\n",
       "      <td>0.000000</td>\n",
       "      <td>0.0</td>\n",
       "      <td>0.0</td>\n",
       "      <td>0.0</td>\n",
       "      <td>0.000000</td>\n",
       "      <td>0.000000</td>\n",
       "    </tr>\n",
       "  </tbody>\n",
       "</table>\n",
       "</div>"
      ],
      "text/plain": [
       "       accuracy  precision  recall  f1_score       AUC        AP\n",
       "Model                                                           \n",
       "1      0.884383        0.0     0.0       0.0  0.692962  0.227769\n",
       "2      0.000000        0.0     0.0       0.0  0.000000  0.000000\n",
       "3      0.000000        0.0     0.0       0.0  0.000000  0.000000\n",
       "4      0.000000        0.0     0.0       0.0  0.000000  0.000000\n",
       "5      0.000000        0.0     0.0       0.0  0.000000  0.000000\n",
       "6      0.000000        0.0     0.0       0.0  0.000000  0.000000\n",
       "7      0.000000        0.0     0.0       0.0  0.000000  0.000000"
      ]
     },
     "execution_count": 17,
     "metadata": {},
     "output_type": "execute_result"
    }
   ],
   "source": [
    "results_df.loc[1] = [accuracy_testing,precision,recall,f1,auc,ap]\n",
    "\n",
    "results_df"
   ]
  },
  {
   "cell_type": "markdown",
   "metadata": {},
   "source": [
    "<h1 style=\"color:red;font-size:xx-large\">Build Model 2</h1>\n"
   ]
  },
  {
   "cell_type": "markdown",
   "metadata": {},
   "source": [
    "\n",
    "<li>sklearn's ML models can be given a <span style=\"color:blue\">class_weight</span> parameter</li>\n",
    "<li>weights can be given explicitly or implicitly</li>\n",
    "<li>note that by increasing the weight of the true cases, our model is more likely to find true positives</li>\n",
    "<li>and by decreasing the weight of the true cases, our model is more likely to find true negatives</li>\n",
    "<li>In Model 2, increase the weight of positives by a factor of 9 to balance the positives and negatives</li>"
   ]
  },
  {
   "cell_type": "markdown",
   "metadata": {},
   "source": [
    "<h3 style=\"color:green\">Build model 2 and report metrics</h3>"
   ]
  },
  {
   "cell_type": "code",
   "execution_count": 19,
   "metadata": {},
   "outputs": [
    {
     "name": "stdout",
     "output_type": "stream",
     "text": [
      "0.5627401318450215\n",
      "0.5625033175858591\n"
     ]
    }
   ],
   "source": [
    "model_2 = SGDClassifier(loss=\"log_loss\",random_state=42, max_iter=1000, class_weight={0:1, 1:9})\n",
    "model_2.fit(x_train,y_train) \n",
    "\n",
    "print(model_2.score(x_train,y_train))\n",
    "print(model_2.score(x_test,y_test))"
   ]
  },
  {
   "cell_type": "code",
   "execution_count": 20,
   "metadata": {},
   "outputs": [
    {
     "name": "stdout",
     "output_type": "stream",
     "text": [
      "Confusion Matrix: \n",
      " [[81037 68912]\n",
      " [ 5266 14336]]\n",
      "Training accuracy:  0.5627401318450215\n",
      "Testing  accuracy:  0.5625033175858591\n",
      "Precision:  0.17220834134153373\n",
      "Recall:  0.7313539434751556\n",
      "F1-Score:  0.27877491492464757\n",
      "AUC:  0.6940091593866806\n",
      "Average Precision:  0.22986705851283923\n"
     ]
    }
   ],
   "source": [
    "cfm = confusion_matrix(y_test,model_2.predict(x_test))\n",
    "accuracy_training = model_2.score(x_train,y_train)\n",
    "accuracy_testing = model_2.score(x_test,y_test)\n",
    "precision = precision_score(y_test,model_2.predict(x_test))\n",
    "recall = recall_score(y_test,model_2.predict(x_test))\n",
    "f1 = f1_score(y_test,model_2.predict(x_test))\n",
    "auc = roc_auc_score(y_test,model_2.predict_proba(x_test)[:,1])\n",
    "ap = average_precision_score(y_test,model_2.predict_proba(x_test)[:,1])\n",
    "\n",
    "print(\"Confusion Matrix: \\n\",cfm)\n",
    "print(\"Training accuracy: \",accuracy_training)\n",
    "print(\"Testing  accuracy: \",accuracy_testing)\n",
    "print(\"Precision: \",precision)\n",
    "print(\"Recall: \",recall)\n",
    "print(\"F1-Score: \",f1)\n",
    "print(\"AUC: \",auc)\n",
    "print(\"Average Precision: \",ap)"
   ]
  },
  {
   "cell_type": "markdown",
   "metadata": {},
   "source": [
    "<h3 style=\"color:green;\">Interpret the results</h3>\n",
    "\n",
    "\n",
    "<h4>Interpretation</h4>\n",
    "<li> Adjusting the class weights makes the model to be more sensitive to bad loans, resulting in higher recall. i.e. the model is better at catching bad loans. </li>\n",
    "<li> Increasing the recall also leads to misclassification of good loans as bad one, resulting in the drop in precision and overall accuracy. </li>\n",
    "<li> The F1 score of 0.2788 improves, but it is still indicates challenges in achieving a good balance between precision and recall. </li>\n",
    "<li> The AUC remains approximately the same, ie. even though precision and recall has changed, the general ranking of instances hasn't. </li>"
   ]
  },
  {
   "cell_type": "markdown",
   "metadata": {},
   "source": [
    "<h3 style=\"color:green;\">Update results_df</h3>"
   ]
  },
  {
   "cell_type": "code",
   "execution_count": 21,
   "metadata": {},
   "outputs": [
    {
     "data": {
      "text/html": [
       "<div>\n",
       "<style scoped>\n",
       "    .dataframe tbody tr th:only-of-type {\n",
       "        vertical-align: middle;\n",
       "    }\n",
       "\n",
       "    .dataframe tbody tr th {\n",
       "        vertical-align: top;\n",
       "    }\n",
       "\n",
       "    .dataframe thead th {\n",
       "        text-align: right;\n",
       "    }\n",
       "</style>\n",
       "<table border=\"1\" class=\"dataframe\">\n",
       "  <thead>\n",
       "    <tr style=\"text-align: right;\">\n",
       "      <th></th>\n",
       "      <th>accuracy</th>\n",
       "      <th>precision</th>\n",
       "      <th>recall</th>\n",
       "      <th>f1_score</th>\n",
       "      <th>AUC</th>\n",
       "      <th>AP</th>\n",
       "    </tr>\n",
       "    <tr>\n",
       "      <th>Model</th>\n",
       "      <th></th>\n",
       "      <th></th>\n",
       "      <th></th>\n",
       "      <th></th>\n",
       "      <th></th>\n",
       "      <th></th>\n",
       "    </tr>\n",
       "  </thead>\n",
       "  <tbody>\n",
       "    <tr>\n",
       "      <th>1</th>\n",
       "      <td>0.884383</td>\n",
       "      <td>0.000000</td>\n",
       "      <td>0.000000</td>\n",
       "      <td>0.000000</td>\n",
       "      <td>0.692962</td>\n",
       "      <td>0.227769</td>\n",
       "    </tr>\n",
       "    <tr>\n",
       "      <th>2</th>\n",
       "      <td>0.562503</td>\n",
       "      <td>0.172208</td>\n",
       "      <td>0.731354</td>\n",
       "      <td>0.278775</td>\n",
       "      <td>0.694009</td>\n",
       "      <td>0.229867</td>\n",
       "    </tr>\n",
       "    <tr>\n",
       "      <th>3</th>\n",
       "      <td>0.000000</td>\n",
       "      <td>0.000000</td>\n",
       "      <td>0.000000</td>\n",
       "      <td>0.000000</td>\n",
       "      <td>0.000000</td>\n",
       "      <td>0.000000</td>\n",
       "    </tr>\n",
       "    <tr>\n",
       "      <th>4</th>\n",
       "      <td>0.000000</td>\n",
       "      <td>0.000000</td>\n",
       "      <td>0.000000</td>\n",
       "      <td>0.000000</td>\n",
       "      <td>0.000000</td>\n",
       "      <td>0.000000</td>\n",
       "    </tr>\n",
       "    <tr>\n",
       "      <th>5</th>\n",
       "      <td>0.000000</td>\n",
       "      <td>0.000000</td>\n",
       "      <td>0.000000</td>\n",
       "      <td>0.000000</td>\n",
       "      <td>0.000000</td>\n",
       "      <td>0.000000</td>\n",
       "    </tr>\n",
       "    <tr>\n",
       "      <th>6</th>\n",
       "      <td>0.000000</td>\n",
       "      <td>0.000000</td>\n",
       "      <td>0.000000</td>\n",
       "      <td>0.000000</td>\n",
       "      <td>0.000000</td>\n",
       "      <td>0.000000</td>\n",
       "    </tr>\n",
       "    <tr>\n",
       "      <th>7</th>\n",
       "      <td>0.000000</td>\n",
       "      <td>0.000000</td>\n",
       "      <td>0.000000</td>\n",
       "      <td>0.000000</td>\n",
       "      <td>0.000000</td>\n",
       "      <td>0.000000</td>\n",
       "    </tr>\n",
       "  </tbody>\n",
       "</table>\n",
       "</div>"
      ],
      "text/plain": [
       "       accuracy  precision    recall  f1_score       AUC        AP\n",
       "Model                                                             \n",
       "1      0.884383   0.000000  0.000000  0.000000  0.692962  0.227769\n",
       "2      0.562503   0.172208  0.731354  0.278775  0.694009  0.229867\n",
       "3      0.000000   0.000000  0.000000  0.000000  0.000000  0.000000\n",
       "4      0.000000   0.000000  0.000000  0.000000  0.000000  0.000000\n",
       "5      0.000000   0.000000  0.000000  0.000000  0.000000  0.000000\n",
       "6      0.000000   0.000000  0.000000  0.000000  0.000000  0.000000\n",
       "7      0.000000   0.000000  0.000000  0.000000  0.000000  0.000000"
      ]
     },
     "execution_count": 21,
     "metadata": {},
     "output_type": "execute_result"
    }
   ],
   "source": [
    "results_df.loc[2] = [accuracy_testing,precision,recall,f1,auc,ap]\n",
    "\n",
    "results_df"
   ]
  },
  {
   "cell_type": "markdown",
   "metadata": {},
   "source": [
    "<h1 style=\"color:red;font-size:xx-large\">Build Model 3</h1>"
   ]
  },
  {
   "cell_type": "markdown",
   "metadata": {},
   "source": [
    "<h3 style=\"color:green;\">Tune hyperparameters using grid search</h3>\n",
    "<li><span style=\"color:blue\">parameters</span> versus <span style=\"color:blue\">hyperparameters</span></li>\n",
    "<ul>\n",
    "    <li><span style=\"color:blue\">parameters</span>: the parameters that are necessary for the model to make predictions. For example, the coefficients of the linear equation estimated by the SGD classifier are parameters of the model. Parameters are estimated by the algorithm and from the data</li>\n",
    "    <li><span style=\"color:blue\">hyperparameters</span>: parameters that are external to the model and cannot be estimated from the data. For example, in an SGD classifier, parameters like the loss function, the regularization parameter, stopping rules, etc. are hyper parameters</li>\n",
    "    </ul>\n",
    "<li>In ML, hyperparameters are often set intuitively and then <span style=\"color:red\">tuned</span> using a grid search</li>\n",
    "<li>In a grid search, various combinations of hyperparameters are tried and <span style=\"color:blue\">k-fold cross validation</span> is used to test the efficacy of the parameter combination</li>\n",
    "<li>the best combination is then selected as a candidate model</li>"
   ]
  },
  {
   "cell_type": "markdown",
   "metadata": {},
   "source": [
    "<h3 style=\"color:green;\">The <span style=\"color:blue\">scoring</span> parameter</h3>\n",
    "<li>since our data is imbalaced, we should look for the model with the best f1 score (precision/recall tradeoff)</li>\n",
    "<li>set the scoring parameter for GridSearchCV so that it maximizes the f1 score</li>\n",
    "<li>Though we should be using a much wider range of parameters, I've reduced them so that it runs fairly quickly</li>\n",
    "<li>This takes about 30 seconds on my machine. Could take longer on your machine</li>"
   ]
  },
  {
   "cell_type": "code",
   "execution_count": 60,
   "metadata": {},
   "outputs": [
    {
     "name": "stdout",
     "output_type": "stream",
     "text": [
      "Fitting 5 folds for each of 270 candidates, totalling 1350 fits\n",
      "CPU times: total: 7.81 s\n",
      "Wall time: 1min 6s\n"
     ]
    },
    {
     "data": {
      "text/html": [
       "<style>#sk-container-id-11 {color: black;}#sk-container-id-11 pre{padding: 0;}#sk-container-id-11 div.sk-toggleable {background-color: white;}#sk-container-id-11 label.sk-toggleable__label {cursor: pointer;display: block;width: 100%;margin-bottom: 0;padding: 0.3em;box-sizing: border-box;text-align: center;}#sk-container-id-11 label.sk-toggleable__label-arrow:before {content: \"▸\";float: left;margin-right: 0.25em;color: #696969;}#sk-container-id-11 label.sk-toggleable__label-arrow:hover:before {color: black;}#sk-container-id-11 div.sk-estimator:hover label.sk-toggleable__label-arrow:before {color: black;}#sk-container-id-11 div.sk-toggleable__content {max-height: 0;max-width: 0;overflow: hidden;text-align: left;background-color: #f0f8ff;}#sk-container-id-11 div.sk-toggleable__content pre {margin: 0.2em;color: black;border-radius: 0.25em;background-color: #f0f8ff;}#sk-container-id-11 input.sk-toggleable__control:checked~div.sk-toggleable__content {max-height: 200px;max-width: 100%;overflow: auto;}#sk-container-id-11 input.sk-toggleable__control:checked~label.sk-toggleable__label-arrow:before {content: \"▾\";}#sk-container-id-11 div.sk-estimator input.sk-toggleable__control:checked~label.sk-toggleable__label {background-color: #d4ebff;}#sk-container-id-11 div.sk-label input.sk-toggleable__control:checked~label.sk-toggleable__label {background-color: #d4ebff;}#sk-container-id-11 input.sk-hidden--visually {border: 0;clip: rect(1px 1px 1px 1px);clip: rect(1px, 1px, 1px, 1px);height: 1px;margin: -1px;overflow: hidden;padding: 0;position: absolute;width: 1px;}#sk-container-id-11 div.sk-estimator {font-family: monospace;background-color: #f0f8ff;border: 1px dotted black;border-radius: 0.25em;box-sizing: border-box;margin-bottom: 0.5em;}#sk-container-id-11 div.sk-estimator:hover {background-color: #d4ebff;}#sk-container-id-11 div.sk-parallel-item::after {content: \"\";width: 100%;border-bottom: 1px solid gray;flex-grow: 1;}#sk-container-id-11 div.sk-label:hover label.sk-toggleable__label {background-color: #d4ebff;}#sk-container-id-11 div.sk-serial::before {content: \"\";position: absolute;border-left: 1px solid gray;box-sizing: border-box;top: 0;bottom: 0;left: 50%;z-index: 0;}#sk-container-id-11 div.sk-serial {display: flex;flex-direction: column;align-items: center;background-color: white;padding-right: 0.2em;padding-left: 0.2em;position: relative;}#sk-container-id-11 div.sk-item {position: relative;z-index: 1;}#sk-container-id-11 div.sk-parallel {display: flex;align-items: stretch;justify-content: center;background-color: white;position: relative;}#sk-container-id-11 div.sk-item::before, #sk-container-id-11 div.sk-parallel-item::before {content: \"\";position: absolute;border-left: 1px solid gray;box-sizing: border-box;top: 0;bottom: 0;left: 50%;z-index: -1;}#sk-container-id-11 div.sk-parallel-item {display: flex;flex-direction: column;z-index: 1;position: relative;background-color: white;}#sk-container-id-11 div.sk-parallel-item:first-child::after {align-self: flex-end;width: 50%;}#sk-container-id-11 div.sk-parallel-item:last-child::after {align-self: flex-start;width: 50%;}#sk-container-id-11 div.sk-parallel-item:only-child::after {width: 0;}#sk-container-id-11 div.sk-dashed-wrapped {border: 1px dashed gray;margin: 0 0.4em 0.5em 0.4em;box-sizing: border-box;padding-bottom: 0.4em;background-color: white;}#sk-container-id-11 div.sk-label label {font-family: monospace;font-weight: bold;display: inline-block;line-height: 1.2em;}#sk-container-id-11 div.sk-label-container {text-align: center;}#sk-container-id-11 div.sk-container {/* jupyter's `normalize.less` sets `[hidden] { display: none; }` but bootstrap.min.css set `[hidden] { display: none !important; }` so we also need the `!important` here to be able to override the default hidden behavior on the sphinx rendered scikit-learn.org. See: https://github.com/scikit-learn/scikit-learn/issues/21755 */display: inline-block !important;position: relative;}#sk-container-id-11 div.sk-text-repr-fallback {display: none;}</style><div id=\"sk-container-id-11\" class=\"sk-top-container\"><div class=\"sk-text-repr-fallback\"><pre>GridSearchCV(cv=5, estimator=SGDClassifier(random_state=42), n_jobs=-1,\n",
       "             param_grid={&#x27;alpha&#x27;: [0.0001, 0.001, 0.01, 1, 10, 100],\n",
       "                         &#x27;class_weight&#x27;: [None, {1: 3}, {1: 5}, {1: 7}, {1: 9}],\n",
       "                         &#x27;loss&#x27;: [&#x27;hinge&#x27;, &#x27;log_loss&#x27;, &#x27;modified_huber&#x27;],\n",
       "                         &#x27;penalty&#x27;: [&#x27;l2&#x27;, &#x27;l1&#x27;, &#x27;elasticnet&#x27;]},\n",
       "             return_train_score=True, scoring=&#x27;f1&#x27;, verbose=3)</pre><b>In a Jupyter environment, please rerun this cell to show the HTML representation or trust the notebook. <br />On GitHub, the HTML representation is unable to render, please try loading this page with nbviewer.org.</b></div><div class=\"sk-container\" hidden><div class=\"sk-item sk-dashed-wrapped\"><div class=\"sk-label-container\"><div class=\"sk-label sk-toggleable\"><input class=\"sk-toggleable__control sk-hidden--visually\" id=\"sk-estimator-id-31\" type=\"checkbox\" ><label for=\"sk-estimator-id-31\" class=\"sk-toggleable__label sk-toggleable__label-arrow\">GridSearchCV</label><div class=\"sk-toggleable__content\"><pre>GridSearchCV(cv=5, estimator=SGDClassifier(random_state=42), n_jobs=-1,\n",
       "             param_grid={&#x27;alpha&#x27;: [0.0001, 0.001, 0.01, 1, 10, 100],\n",
       "                         &#x27;class_weight&#x27;: [None, {1: 3}, {1: 5}, {1: 7}, {1: 9}],\n",
       "                         &#x27;loss&#x27;: [&#x27;hinge&#x27;, &#x27;log_loss&#x27;, &#x27;modified_huber&#x27;],\n",
       "                         &#x27;penalty&#x27;: [&#x27;l2&#x27;, &#x27;l1&#x27;, &#x27;elasticnet&#x27;]},\n",
       "             return_train_score=True, scoring=&#x27;f1&#x27;, verbose=3)</pre></div></div></div><div class=\"sk-parallel\"><div class=\"sk-parallel-item\"><div class=\"sk-item\"><div class=\"sk-label-container\"><div class=\"sk-label sk-toggleable\"><input class=\"sk-toggleable__control sk-hidden--visually\" id=\"sk-estimator-id-32\" type=\"checkbox\" ><label for=\"sk-estimator-id-32\" class=\"sk-toggleable__label sk-toggleable__label-arrow\">estimator: SGDClassifier</label><div class=\"sk-toggleable__content\"><pre>SGDClassifier(random_state=42)</pre></div></div></div><div class=\"sk-serial\"><div class=\"sk-item\"><div class=\"sk-estimator sk-toggleable\"><input class=\"sk-toggleable__control sk-hidden--visually\" id=\"sk-estimator-id-33\" type=\"checkbox\" ><label for=\"sk-estimator-id-33\" class=\"sk-toggleable__label sk-toggleable__label-arrow\">SGDClassifier</label><div class=\"sk-toggleable__content\"><pre>SGDClassifier(random_state=42)</pre></div></div></div></div></div></div></div></div></div></div>"
      ],
      "text/plain": [
       "GridSearchCV(cv=5, estimator=SGDClassifier(random_state=42), n_jobs=-1,\n",
       "             param_grid={'alpha': [0.0001, 0.001, 0.01, 1, 10, 100],\n",
       "                         'class_weight': [None, {1: 3}, {1: 5}, {1: 7}, {1: 9}],\n",
       "                         'loss': ['hinge', 'log_loss', 'modified_huber'],\n",
       "                         'penalty': ['l2', 'l1', 'elasticnet']},\n",
       "             return_train_score=True, scoring='f1', verbose=3)"
      ]
     },
     "execution_count": 60,
     "metadata": {},
     "output_type": "execute_result"
    }
   ],
   "source": [
    "%%time\n",
    "from sklearn.model_selection import GridSearchCV\n",
    "from sklearn.linear_model import SGDClassifier\n",
    "#Set up the hyperparameter options in param_grid\n",
    "param_grid = {\n",
    "    'alpha': [0.0001, 0.001, 0.01, 1, 10, 100],\n",
    "    'loss': [\"hinge\", \"log_loss\", \"modified_huber\"],\n",
    "    'penalty': [\"l2\", \"l1\", \"elasticnet\"],\n",
    "    'class_weight': [None, {1:3}, {1:5}, {1:7}, {1:9}]\n",
    "}\n",
    "\n",
    "#Do the search\n",
    "grid_search = GridSearchCV(SGDClassifier(random_state=42, max_iter=1000), param_grid, cv=5, n_jobs=-1, verbose=3, scoring='f1', return_train_score=True)\n",
    "grid_search.fit(x_train, y_train)"
   ]
  },
  {
   "cell_type": "markdown",
   "metadata": {},
   "source": [
    "<h3 style=\"color:green;\">Get the best model parameters</h3>\n"
   ]
  },
  {
   "cell_type": "code",
   "execution_count": 61,
   "metadata": {},
   "outputs": [
    {
     "data": {
      "text/plain": [
       "(0.2963659026877409,\n",
       " {'alpha': 0.001,\n",
       "  'class_weight': {1: 5},\n",
       "  'loss': 'modified_huber',\n",
       "  'penalty': 'l1'})"
      ]
     },
     "execution_count": 61,
     "metadata": {},
     "output_type": "execute_result"
    }
   ],
   "source": [
    "grid_search.best_score_, grid_search.best_params_"
   ]
  },
  {
   "cell_type": "markdown",
   "metadata": {},
   "source": [
    "<h3 style=\"color:green;\">Run the best model and report metrics</h3>\n",
    "<li>Run the classifier using the best parameters</li>\n",
    "\n",
    "\n",
    "\n",
    "\n"
   ]
  },
  {
   "cell_type": "code",
   "execution_count": 62,
   "metadata": {},
   "outputs": [
    {
     "name": "stdout",
     "output_type": "stream",
     "text": [
      "Confusion Matrix: \n",
      " [[122451  27498]\n",
      " [ 11445   8157]]\n",
      "Training accuracy:  0.7714298713904392\n",
      "Testing  accuracy:  0.7703168958012634\n",
      "Precision:  0.22877576777450567\n",
      "Recall:  0.4161310070400979\n",
      "F1-Score:  0.2952386123025137\n",
      "AUC:  0.6910679332023801\n",
      "Average Precision:  0.22891183309360005\n"
     ]
    }
   ],
   "source": [
    "model_3 = SGDClassifier(**grid_search.best_params_,random_state=42, max_iter=1000)\n",
    "model_3.fit(x_train,y_train)\n",
    "\n",
    "cfm = confusion_matrix(y_test,model_3.predict(x_test))\n",
    "accuracy_training = model_3.score(x_train,y_train)\n",
    "accuracy_testing = model_3.score(x_test,y_test)\n",
    "precision = precision_score(y_test,model_3.predict(x_test))\n",
    "recall = recall_score(y_test,model_3.predict(x_test))\n",
    "f1 = f1_score(y_test,model_3.predict(x_test))\n",
    "auc = roc_auc_score(y_test,model_3.predict_proba(x_test)[:,1])\n",
    "ap = average_precision_score(y_test,model_3.predict_proba(x_test)[:,1])\n",
    "\n",
    "\n",
    "print(\"Confusion Matrix: \\n\",cfm)\n",
    "print(\"Training accuracy: \",accuracy_training)\n",
    "print(\"Testing  accuracy: \",accuracy_testing)\n",
    "print(\"Precision: \",precision)\n",
    "print(\"Recall: \",recall)\n",
    "print(\"F1-Score: \",f1)\n",
    "print(\"AUC: \",auc)\n",
    "print(\"Average Precision: \",ap)\n"
   ]
  },
  {
   "cell_type": "markdown",
   "metadata": {},
   "source": [
    "<h3 style=\"color:green;\">Interpret the results</h3>\n",
    "\n",
    "\n",
    "<h4>Interpretation</h4>\n",
    "<li> The model ccorrectly predicted the class labels for 77\\% of the time for both training and testing datasets, i.e. the model is not overfitting. </li>\n",
    "<li> The precision of 22.88\\% indicates that when the model predicts a loan to be bad, it is only correct abou 23\\% of the time. </li>\n",
    "<li> The recall of 41.61\\% suggests that the model only identifies 42\\% of the actual bad loans. </li>\n",
    "<li> Even though we tried to optimize the f1 score, but it still indicates that the model doesn't balance the precision and recall optimally. There still should be room for improvement.</li>\n",
    "<li> The AUC of 0.6910 suggest the model has a decent capability to distinguish between good and bad loans. </li>"
   ]
  },
  {
   "cell_type": "markdown",
   "metadata": {},
   "source": [
    "<h3 style=\"color:green;\">Update results_df</h3>"
   ]
  },
  {
   "cell_type": "code",
   "execution_count": 63,
   "metadata": {},
   "outputs": [
    {
     "data": {
      "text/html": [
       "<div>\n",
       "<style scoped>\n",
       "    .dataframe tbody tr th:only-of-type {\n",
       "        vertical-align: middle;\n",
       "    }\n",
       "\n",
       "    .dataframe tbody tr th {\n",
       "        vertical-align: top;\n",
       "    }\n",
       "\n",
       "    .dataframe thead th {\n",
       "        text-align: right;\n",
       "    }\n",
       "</style>\n",
       "<table border=\"1\" class=\"dataframe\">\n",
       "  <thead>\n",
       "    <tr style=\"text-align: right;\">\n",
       "      <th></th>\n",
       "      <th>accuracy</th>\n",
       "      <th>precision</th>\n",
       "      <th>recall</th>\n",
       "      <th>f1_score</th>\n",
       "      <th>AUC</th>\n",
       "      <th>AP</th>\n",
       "    </tr>\n",
       "    <tr>\n",
       "      <th>Model</th>\n",
       "      <th></th>\n",
       "      <th></th>\n",
       "      <th></th>\n",
       "      <th></th>\n",
       "      <th></th>\n",
       "      <th></th>\n",
       "    </tr>\n",
       "  </thead>\n",
       "  <tbody>\n",
       "    <tr>\n",
       "      <th>1</th>\n",
       "      <td>0.884383</td>\n",
       "      <td>0.000000</td>\n",
       "      <td>0.000000</td>\n",
       "      <td>0.000000</td>\n",
       "      <td>0.692962</td>\n",
       "      <td>0.227769</td>\n",
       "    </tr>\n",
       "    <tr>\n",
       "      <th>2</th>\n",
       "      <td>0.562503</td>\n",
       "      <td>0.172208</td>\n",
       "      <td>0.731354</td>\n",
       "      <td>0.278775</td>\n",
       "      <td>0.694009</td>\n",
       "      <td>0.229867</td>\n",
       "    </tr>\n",
       "    <tr>\n",
       "      <th>3</th>\n",
       "      <td>0.770317</td>\n",
       "      <td>0.228776</td>\n",
       "      <td>0.416131</td>\n",
       "      <td>0.295239</td>\n",
       "      <td>0.691068</td>\n",
       "      <td>0.228912</td>\n",
       "    </tr>\n",
       "    <tr>\n",
       "      <th>4</th>\n",
       "      <td>0.000000</td>\n",
       "      <td>0.000000</td>\n",
       "      <td>0.000000</td>\n",
       "      <td>0.000000</td>\n",
       "      <td>0.000000</td>\n",
       "      <td>0.000000</td>\n",
       "    </tr>\n",
       "    <tr>\n",
       "      <th>5</th>\n",
       "      <td>0.000000</td>\n",
       "      <td>0.000000</td>\n",
       "      <td>0.000000</td>\n",
       "      <td>0.000000</td>\n",
       "      <td>0.000000</td>\n",
       "      <td>0.000000</td>\n",
       "    </tr>\n",
       "    <tr>\n",
       "      <th>6</th>\n",
       "      <td>0.000000</td>\n",
       "      <td>0.000000</td>\n",
       "      <td>0.000000</td>\n",
       "      <td>0.000000</td>\n",
       "      <td>0.000000</td>\n",
       "      <td>0.000000</td>\n",
       "    </tr>\n",
       "    <tr>\n",
       "      <th>7</th>\n",
       "      <td>0.000000</td>\n",
       "      <td>0.000000</td>\n",
       "      <td>0.000000</td>\n",
       "      <td>0.000000</td>\n",
       "      <td>0.000000</td>\n",
       "      <td>0.000000</td>\n",
       "    </tr>\n",
       "  </tbody>\n",
       "</table>\n",
       "</div>"
      ],
      "text/plain": [
       "       accuracy  precision    recall  f1_score       AUC        AP\n",
       "Model                                                             \n",
       "1      0.884383   0.000000  0.000000  0.000000  0.692962  0.227769\n",
       "2      0.562503   0.172208  0.731354  0.278775  0.694009  0.229867\n",
       "3      0.770317   0.228776  0.416131  0.295239  0.691068  0.228912\n",
       "4      0.000000   0.000000  0.000000  0.000000  0.000000  0.000000\n",
       "5      0.000000   0.000000  0.000000  0.000000  0.000000  0.000000\n",
       "6      0.000000   0.000000  0.000000  0.000000  0.000000  0.000000\n",
       "7      0.000000   0.000000  0.000000  0.000000  0.000000  0.000000"
      ]
     },
     "execution_count": 63,
     "metadata": {},
     "output_type": "execute_result"
    }
   ],
   "source": [
    "results_df.loc[3] = [accuracy_testing,precision,recall,f1,auc,ap]\n",
    "\n",
    "results_df"
   ]
  },
  {
   "cell_type": "markdown",
   "metadata": {},
   "source": [
    "<h1 style=\"color:red;font-size:xx-large\">Build Model 4</h1>"
   ]
  },
  {
   "cell_type": "markdown",
   "metadata": {},
   "source": [
    "<h3 style=\"color:green;\">Random Forest Classifier</h3>\n",
    "<li>We need to improve recall and precision so perhaps a non-linear classifier will help</li>"
   ]
  },
  {
   "cell_type": "markdown",
   "metadata": {},
   "source": [
    "<h3 style=\"color:green;\">Build, fit, and report metrics</h3>\n",
    "\n",
    "<li>Run this with the following parameters (these are our base parameters)</li>\n",
    "<li>random_state=42,n_estimators=30,max_depth=6,min_samples_leaf=2000,min_samples_split=4000,class_weight={1:5}</li>\n"
   ]
  },
  {
   "cell_type": "code",
   "execution_count": 64,
   "metadata": {},
   "outputs": [
    {
     "data": {
      "text/html": [
       "<style>#sk-container-id-12 {color: black;}#sk-container-id-12 pre{padding: 0;}#sk-container-id-12 div.sk-toggleable {background-color: white;}#sk-container-id-12 label.sk-toggleable__label {cursor: pointer;display: block;width: 100%;margin-bottom: 0;padding: 0.3em;box-sizing: border-box;text-align: center;}#sk-container-id-12 label.sk-toggleable__label-arrow:before {content: \"▸\";float: left;margin-right: 0.25em;color: #696969;}#sk-container-id-12 label.sk-toggleable__label-arrow:hover:before {color: black;}#sk-container-id-12 div.sk-estimator:hover label.sk-toggleable__label-arrow:before {color: black;}#sk-container-id-12 div.sk-toggleable__content {max-height: 0;max-width: 0;overflow: hidden;text-align: left;background-color: #f0f8ff;}#sk-container-id-12 div.sk-toggleable__content pre {margin: 0.2em;color: black;border-radius: 0.25em;background-color: #f0f8ff;}#sk-container-id-12 input.sk-toggleable__control:checked~div.sk-toggleable__content {max-height: 200px;max-width: 100%;overflow: auto;}#sk-container-id-12 input.sk-toggleable__control:checked~label.sk-toggleable__label-arrow:before {content: \"▾\";}#sk-container-id-12 div.sk-estimator input.sk-toggleable__control:checked~label.sk-toggleable__label {background-color: #d4ebff;}#sk-container-id-12 div.sk-label input.sk-toggleable__control:checked~label.sk-toggleable__label {background-color: #d4ebff;}#sk-container-id-12 input.sk-hidden--visually {border: 0;clip: rect(1px 1px 1px 1px);clip: rect(1px, 1px, 1px, 1px);height: 1px;margin: -1px;overflow: hidden;padding: 0;position: absolute;width: 1px;}#sk-container-id-12 div.sk-estimator {font-family: monospace;background-color: #f0f8ff;border: 1px dotted black;border-radius: 0.25em;box-sizing: border-box;margin-bottom: 0.5em;}#sk-container-id-12 div.sk-estimator:hover {background-color: #d4ebff;}#sk-container-id-12 div.sk-parallel-item::after {content: \"\";width: 100%;border-bottom: 1px solid gray;flex-grow: 1;}#sk-container-id-12 div.sk-label:hover label.sk-toggleable__label {background-color: #d4ebff;}#sk-container-id-12 div.sk-serial::before {content: \"\";position: absolute;border-left: 1px solid gray;box-sizing: border-box;top: 0;bottom: 0;left: 50%;z-index: 0;}#sk-container-id-12 div.sk-serial {display: flex;flex-direction: column;align-items: center;background-color: white;padding-right: 0.2em;padding-left: 0.2em;position: relative;}#sk-container-id-12 div.sk-item {position: relative;z-index: 1;}#sk-container-id-12 div.sk-parallel {display: flex;align-items: stretch;justify-content: center;background-color: white;position: relative;}#sk-container-id-12 div.sk-item::before, #sk-container-id-12 div.sk-parallel-item::before {content: \"\";position: absolute;border-left: 1px solid gray;box-sizing: border-box;top: 0;bottom: 0;left: 50%;z-index: -1;}#sk-container-id-12 div.sk-parallel-item {display: flex;flex-direction: column;z-index: 1;position: relative;background-color: white;}#sk-container-id-12 div.sk-parallel-item:first-child::after {align-self: flex-end;width: 50%;}#sk-container-id-12 div.sk-parallel-item:last-child::after {align-self: flex-start;width: 50%;}#sk-container-id-12 div.sk-parallel-item:only-child::after {width: 0;}#sk-container-id-12 div.sk-dashed-wrapped {border: 1px dashed gray;margin: 0 0.4em 0.5em 0.4em;box-sizing: border-box;padding-bottom: 0.4em;background-color: white;}#sk-container-id-12 div.sk-label label {font-family: monospace;font-weight: bold;display: inline-block;line-height: 1.2em;}#sk-container-id-12 div.sk-label-container {text-align: center;}#sk-container-id-12 div.sk-container {/* jupyter's `normalize.less` sets `[hidden] { display: none; }` but bootstrap.min.css set `[hidden] { display: none !important; }` so we also need the `!important` here to be able to override the default hidden behavior on the sphinx rendered scikit-learn.org. See: https://github.com/scikit-learn/scikit-learn/issues/21755 */display: inline-block !important;position: relative;}#sk-container-id-12 div.sk-text-repr-fallback {display: none;}</style><div id=\"sk-container-id-12\" class=\"sk-top-container\"><div class=\"sk-text-repr-fallback\"><pre>RandomForestClassifier(class_weight={1: 5}, max_depth=6, min_samples_leaf=500,\n",
       "                       min_samples_split=4000, n_estimators=30,\n",
       "                       random_state=42)</pre><b>In a Jupyter environment, please rerun this cell to show the HTML representation or trust the notebook. <br />On GitHub, the HTML representation is unable to render, please try loading this page with nbviewer.org.</b></div><div class=\"sk-container\" hidden><div class=\"sk-item\"><div class=\"sk-estimator sk-toggleable\"><input class=\"sk-toggleable__control sk-hidden--visually\" id=\"sk-estimator-id-34\" type=\"checkbox\" checked><label for=\"sk-estimator-id-34\" class=\"sk-toggleable__label sk-toggleable__label-arrow\">RandomForestClassifier</label><div class=\"sk-toggleable__content\"><pre>RandomForestClassifier(class_weight={1: 5}, max_depth=6, min_samples_leaf=500,\n",
       "                       min_samples_split=4000, n_estimators=30,\n",
       "                       random_state=42)</pre></div></div></div></div></div>"
      ],
      "text/plain": [
       "RandomForestClassifier(class_weight={1: 5}, max_depth=6, min_samples_leaf=500,\n",
       "                       min_samples_split=4000, n_estimators=30,\n",
       "                       random_state=42)"
      ]
     },
     "execution_count": 64,
     "metadata": {},
     "output_type": "execute_result"
    }
   ],
   "source": [
    "from sklearn.ensemble import RandomForestClassifier\n",
    "model_4 = RandomForestClassifier(random_state=42,n_estimators=30,max_depth=6,min_samples_leaf=500,min_samples_split=4000,class_weight={1:5})\n",
    "model_4.fit(x_train,y_train)\n"
   ]
  },
  {
   "cell_type": "code",
   "execution_count": 65,
   "metadata": {},
   "outputs": [
    {
     "name": "stdout",
     "output_type": "stream",
     "text": [
      "Confusion Matrix: \n",
      " [[128839  21110]\n",
      " [ 12625   6977]]\n",
      "Training accuracy:  0.8021414705168648\n",
      "Testing  accuracy:  0.8010333174089213\n",
      "Precision:  0.24840673621248263\n",
      "Recall:  0.35593306805428016\n",
      "F1-Score:  0.29260416448237536\n",
      "AUC:  0.6945967053414696\n",
      "Average Precision:  0.22876096340572005\n"
     ]
    }
   ],
   "source": [
    "cfm = confusion_matrix(y_test,model_4.predict(x_test))\n",
    "accuracy_training = model_4.score(x_train,y_train)\n",
    "accuracy_testing = model_4.score(x_test,y_test)\n",
    "precision = precision_score(y_test,model_4.predict(x_test))\n",
    "recall = recall_score(y_test,model_4.predict(x_test))\n",
    "f1 = f1_score(y_test,model_4.predict(x_test))\n",
    "auc = roc_auc_score(y_test,model_4.predict_proba(x_test)[:,1])\n",
    "ap = average_precision_score(y_test,model_4.predict_proba(x_test)[:,1])\n",
    "\n",
    "print(\"Confusion Matrix: \\n\",cfm)\n",
    "print(\"Training accuracy: \",accuracy_training)\n",
    "print(\"Testing  accuracy: \",accuracy_testing)\n",
    "print(\"Precision: \",precision)\n",
    "print(\"Recall: \",recall)\n",
    "print(\"F1-Score: \",f1)\n",
    "print(\"AUC: \",auc)\n",
    "print(\"Average Precision: \",ap)"
   ]
  },
  {
   "cell_type": "markdown",
   "metadata": {},
   "source": [
    "<h3 style=\"color:green;\">Interpreting model 4 results</h3>\n",
    "<p></p>\n",
    "\n",
    "<h4>Interpretation</h4>\n",
    "<li> Out of  all the predictions the model made, around 80% of them were correct for both the training and testing sets.</li>\n",
    "<li> Out of all the loans that the model predicted as bad, only around 24.84% of them were actually bad. This means there's a relatively high chance that a loan flagged by the model as bad is actually a good loan. </li>\n",
    "<li> The model was able to correctly identify about 35.59% of all the actual bad loans. i.e. it missed out on a large chunk (around 64.41%) of bad loans. </li>\n",
    "<li> An F1-score of 29.26% indicates that the model doesn't achieve an optimal balance between precision and recall. There might still have room for improvement. </li>\n",
    "<li> An AUC value of 69.46% indicates that the model has a decent capability to distinguish between good and bad loans, better than random guess. </li>\n",
    "<li> The AP value suggests that the model's performance across different thresholds, when prioritizing recall, is not very high. </li>"
   ]
  },
  {
   "cell_type": "markdown",
   "metadata": {},
   "source": [
    "<h3 style=\"color:green;\">Update results_df</h3>"
   ]
  },
  {
   "cell_type": "code",
   "execution_count": 66,
   "metadata": {},
   "outputs": [
    {
     "data": {
      "text/html": [
       "<div>\n",
       "<style scoped>\n",
       "    .dataframe tbody tr th:only-of-type {\n",
       "        vertical-align: middle;\n",
       "    }\n",
       "\n",
       "    .dataframe tbody tr th {\n",
       "        vertical-align: top;\n",
       "    }\n",
       "\n",
       "    .dataframe thead th {\n",
       "        text-align: right;\n",
       "    }\n",
       "</style>\n",
       "<table border=\"1\" class=\"dataframe\">\n",
       "  <thead>\n",
       "    <tr style=\"text-align: right;\">\n",
       "      <th></th>\n",
       "      <th>accuracy</th>\n",
       "      <th>precision</th>\n",
       "      <th>recall</th>\n",
       "      <th>f1_score</th>\n",
       "      <th>AUC</th>\n",
       "      <th>AP</th>\n",
       "    </tr>\n",
       "    <tr>\n",
       "      <th>Model</th>\n",
       "      <th></th>\n",
       "      <th></th>\n",
       "      <th></th>\n",
       "      <th></th>\n",
       "      <th></th>\n",
       "      <th></th>\n",
       "    </tr>\n",
       "  </thead>\n",
       "  <tbody>\n",
       "    <tr>\n",
       "      <th>1</th>\n",
       "      <td>0.884383</td>\n",
       "      <td>0.000000</td>\n",
       "      <td>0.000000</td>\n",
       "      <td>0.000000</td>\n",
       "      <td>0.692962</td>\n",
       "      <td>0.227769</td>\n",
       "    </tr>\n",
       "    <tr>\n",
       "      <th>2</th>\n",
       "      <td>0.562503</td>\n",
       "      <td>0.172208</td>\n",
       "      <td>0.731354</td>\n",
       "      <td>0.278775</td>\n",
       "      <td>0.694009</td>\n",
       "      <td>0.229867</td>\n",
       "    </tr>\n",
       "    <tr>\n",
       "      <th>3</th>\n",
       "      <td>0.770317</td>\n",
       "      <td>0.228776</td>\n",
       "      <td>0.416131</td>\n",
       "      <td>0.295239</td>\n",
       "      <td>0.691068</td>\n",
       "      <td>0.228912</td>\n",
       "    </tr>\n",
       "    <tr>\n",
       "      <th>4</th>\n",
       "      <td>0.801033</td>\n",
       "      <td>0.248407</td>\n",
       "      <td>0.355933</td>\n",
       "      <td>0.292604</td>\n",
       "      <td>0.694597</td>\n",
       "      <td>0.228761</td>\n",
       "    </tr>\n",
       "    <tr>\n",
       "      <th>5</th>\n",
       "      <td>0.000000</td>\n",
       "      <td>0.000000</td>\n",
       "      <td>0.000000</td>\n",
       "      <td>0.000000</td>\n",
       "      <td>0.000000</td>\n",
       "      <td>0.000000</td>\n",
       "    </tr>\n",
       "    <tr>\n",
       "      <th>6</th>\n",
       "      <td>0.000000</td>\n",
       "      <td>0.000000</td>\n",
       "      <td>0.000000</td>\n",
       "      <td>0.000000</td>\n",
       "      <td>0.000000</td>\n",
       "      <td>0.000000</td>\n",
       "    </tr>\n",
       "    <tr>\n",
       "      <th>7</th>\n",
       "      <td>0.000000</td>\n",
       "      <td>0.000000</td>\n",
       "      <td>0.000000</td>\n",
       "      <td>0.000000</td>\n",
       "      <td>0.000000</td>\n",
       "      <td>0.000000</td>\n",
       "    </tr>\n",
       "  </tbody>\n",
       "</table>\n",
       "</div>"
      ],
      "text/plain": [
       "       accuracy  precision    recall  f1_score       AUC        AP\n",
       "Model                                                             \n",
       "1      0.884383   0.000000  0.000000  0.000000  0.692962  0.227769\n",
       "2      0.562503   0.172208  0.731354  0.278775  0.694009  0.229867\n",
       "3      0.770317   0.228776  0.416131  0.295239  0.691068  0.228912\n",
       "4      0.801033   0.248407  0.355933  0.292604  0.694597  0.228761\n",
       "5      0.000000   0.000000  0.000000  0.000000  0.000000  0.000000\n",
       "6      0.000000   0.000000  0.000000  0.000000  0.000000  0.000000\n",
       "7      0.000000   0.000000  0.000000  0.000000  0.000000  0.000000"
      ]
     },
     "execution_count": 66,
     "metadata": {},
     "output_type": "execute_result"
    }
   ],
   "source": [
    "results_df.loc[4] = [accuracy_testing,precision,recall,f1,auc,ap]\n",
    "\n",
    "results_df"
   ]
  },
  {
   "cell_type": "markdown",
   "metadata": {},
   "source": [
    "<h1 style=\"color:red;font-size:xx-large\">Build Model 5</h1>"
   ]
  },
  {
   "cell_type": "markdown",
   "metadata": {},
   "source": [
    "<h3 style=\"color:green;\">Random Forest Grid Search</h3>\n",
    "<p></p>\n",
    "\n",
    "\n",
    "<li>Run the best model</li>\n",
    "<li>Note that this will take a while, perhaps even a couple of hours (25 minutes on my laptop). Let it run. Get some coffee or whatever beverage you like. Then come back in a while to check out the results!</li>\n",
    "<li>If you want to speed it up, remove the 500 option from n_estimators (n_estimators is the number of trees generated and is the single most expensive part of the grid search)</li>\n"
   ]
  },
  {
   "cell_type": "code",
   "execution_count": 67,
   "metadata": {},
   "outputs": [
    {
     "name": "stdout",
     "output_type": "stream",
     "text": [
      "CPU times: total: 41 s\n",
      "Wall time: 17min 59s\n"
     ]
    },
    {
     "data": {
      "text/html": [
       "<style>#sk-container-id-13 {color: black;}#sk-container-id-13 pre{padding: 0;}#sk-container-id-13 div.sk-toggleable {background-color: white;}#sk-container-id-13 label.sk-toggleable__label {cursor: pointer;display: block;width: 100%;margin-bottom: 0;padding: 0.3em;box-sizing: border-box;text-align: center;}#sk-container-id-13 label.sk-toggleable__label-arrow:before {content: \"▸\";float: left;margin-right: 0.25em;color: #696969;}#sk-container-id-13 label.sk-toggleable__label-arrow:hover:before {color: black;}#sk-container-id-13 div.sk-estimator:hover label.sk-toggleable__label-arrow:before {color: black;}#sk-container-id-13 div.sk-toggleable__content {max-height: 0;max-width: 0;overflow: hidden;text-align: left;background-color: #f0f8ff;}#sk-container-id-13 div.sk-toggleable__content pre {margin: 0.2em;color: black;border-radius: 0.25em;background-color: #f0f8ff;}#sk-container-id-13 input.sk-toggleable__control:checked~div.sk-toggleable__content {max-height: 200px;max-width: 100%;overflow: auto;}#sk-container-id-13 input.sk-toggleable__control:checked~label.sk-toggleable__label-arrow:before {content: \"▾\";}#sk-container-id-13 div.sk-estimator input.sk-toggleable__control:checked~label.sk-toggleable__label {background-color: #d4ebff;}#sk-container-id-13 div.sk-label input.sk-toggleable__control:checked~label.sk-toggleable__label {background-color: #d4ebff;}#sk-container-id-13 input.sk-hidden--visually {border: 0;clip: rect(1px 1px 1px 1px);clip: rect(1px, 1px, 1px, 1px);height: 1px;margin: -1px;overflow: hidden;padding: 0;position: absolute;width: 1px;}#sk-container-id-13 div.sk-estimator {font-family: monospace;background-color: #f0f8ff;border: 1px dotted black;border-radius: 0.25em;box-sizing: border-box;margin-bottom: 0.5em;}#sk-container-id-13 div.sk-estimator:hover {background-color: #d4ebff;}#sk-container-id-13 div.sk-parallel-item::after {content: \"\";width: 100%;border-bottom: 1px solid gray;flex-grow: 1;}#sk-container-id-13 div.sk-label:hover label.sk-toggleable__label {background-color: #d4ebff;}#sk-container-id-13 div.sk-serial::before {content: \"\";position: absolute;border-left: 1px solid gray;box-sizing: border-box;top: 0;bottom: 0;left: 50%;z-index: 0;}#sk-container-id-13 div.sk-serial {display: flex;flex-direction: column;align-items: center;background-color: white;padding-right: 0.2em;padding-left: 0.2em;position: relative;}#sk-container-id-13 div.sk-item {position: relative;z-index: 1;}#sk-container-id-13 div.sk-parallel {display: flex;align-items: stretch;justify-content: center;background-color: white;position: relative;}#sk-container-id-13 div.sk-item::before, #sk-container-id-13 div.sk-parallel-item::before {content: \"\";position: absolute;border-left: 1px solid gray;box-sizing: border-box;top: 0;bottom: 0;left: 50%;z-index: -1;}#sk-container-id-13 div.sk-parallel-item {display: flex;flex-direction: column;z-index: 1;position: relative;background-color: white;}#sk-container-id-13 div.sk-parallel-item:first-child::after {align-self: flex-end;width: 50%;}#sk-container-id-13 div.sk-parallel-item:last-child::after {align-self: flex-start;width: 50%;}#sk-container-id-13 div.sk-parallel-item:only-child::after {width: 0;}#sk-container-id-13 div.sk-dashed-wrapped {border: 1px dashed gray;margin: 0 0.4em 0.5em 0.4em;box-sizing: border-box;padding-bottom: 0.4em;background-color: white;}#sk-container-id-13 div.sk-label label {font-family: monospace;font-weight: bold;display: inline-block;line-height: 1.2em;}#sk-container-id-13 div.sk-label-container {text-align: center;}#sk-container-id-13 div.sk-container {/* jupyter's `normalize.less` sets `[hidden] { display: none; }` but bootstrap.min.css set `[hidden] { display: none !important; }` so we also need the `!important` here to be able to override the default hidden behavior on the sphinx rendered scikit-learn.org. See: https://github.com/scikit-learn/scikit-learn/issues/21755 */display: inline-block !important;position: relative;}#sk-container-id-13 div.sk-text-repr-fallback {display: none;}</style><div id=\"sk-container-id-13\" class=\"sk-top-container\"><div class=\"sk-text-repr-fallback\"><pre>GridSearchCV(cv=5, estimator=RandomForestClassifier(random_state=42), n_jobs=-1,\n",
       "             param_grid={&#x27;class_weight&#x27;: [{1: 4}, {1: 6}],\n",
       "                         &#x27;min_samples_leaf&#x27;: (10, 20),\n",
       "                         &#x27;min_samples_split&#x27;: (100, 200),\n",
       "                         &#x27;n_estimators&#x27;: (500, 800)},\n",
       "             scoring=&#x27;f1&#x27;)</pre><b>In a Jupyter environment, please rerun this cell to show the HTML representation or trust the notebook. <br />On GitHub, the HTML representation is unable to render, please try loading this page with nbviewer.org.</b></div><div class=\"sk-container\" hidden><div class=\"sk-item sk-dashed-wrapped\"><div class=\"sk-label-container\"><div class=\"sk-label sk-toggleable\"><input class=\"sk-toggleable__control sk-hidden--visually\" id=\"sk-estimator-id-35\" type=\"checkbox\" ><label for=\"sk-estimator-id-35\" class=\"sk-toggleable__label sk-toggleable__label-arrow\">GridSearchCV</label><div class=\"sk-toggleable__content\"><pre>GridSearchCV(cv=5, estimator=RandomForestClassifier(random_state=42), n_jobs=-1,\n",
       "             param_grid={&#x27;class_weight&#x27;: [{1: 4}, {1: 6}],\n",
       "                         &#x27;min_samples_leaf&#x27;: (10, 20),\n",
       "                         &#x27;min_samples_split&#x27;: (100, 200),\n",
       "                         &#x27;n_estimators&#x27;: (500, 800)},\n",
       "             scoring=&#x27;f1&#x27;)</pre></div></div></div><div class=\"sk-parallel\"><div class=\"sk-parallel-item\"><div class=\"sk-item\"><div class=\"sk-label-container\"><div class=\"sk-label sk-toggleable\"><input class=\"sk-toggleable__control sk-hidden--visually\" id=\"sk-estimator-id-36\" type=\"checkbox\" ><label for=\"sk-estimator-id-36\" class=\"sk-toggleable__label sk-toggleable__label-arrow\">estimator: RandomForestClassifier</label><div class=\"sk-toggleable__content\"><pre>RandomForestClassifier(random_state=42)</pre></div></div></div><div class=\"sk-serial\"><div class=\"sk-item\"><div class=\"sk-estimator sk-toggleable\"><input class=\"sk-toggleable__control sk-hidden--visually\" id=\"sk-estimator-id-37\" type=\"checkbox\" ><label for=\"sk-estimator-id-37\" class=\"sk-toggleable__label sk-toggleable__label-arrow\">RandomForestClassifier</label><div class=\"sk-toggleable__content\"><pre>RandomForestClassifier(random_state=42)</pre></div></div></div></div></div></div></div></div></div></div>"
      ],
      "text/plain": [
       "GridSearchCV(cv=5, estimator=RandomForestClassifier(random_state=42), n_jobs=-1,\n",
       "             param_grid={'class_weight': [{1: 4}, {1: 6}],\n",
       "                         'min_samples_leaf': (10, 20),\n",
       "                         'min_samples_split': (100, 200),\n",
       "                         'n_estimators': (500, 800)},\n",
       "             scoring='f1')"
      ]
     },
     "execution_count": 67,
     "metadata": {},
     "output_type": "execute_result"
    }
   ],
   "source": [
    "%%time\n",
    "from sklearn.ensemble import RandomForestClassifier\n",
    "\n",
    "\n",
    "from sklearn.model_selection import GridSearchCV\n",
    "from sklearn.metrics import average_precision_score,make_scorer\n",
    "parameters = {\n",
    "     'n_estimators':(500,800), #the number of trees\n",
    "     'min_samples_split': (100, 200),\n",
    "    'class_weight': [{1:4},{1:6}],\n",
    "     'min_samples_leaf': (10,20) #\n",
    "}\n",
    "gs_clf = GridSearchCV(RandomForestClassifier(random_state=42),parameters,cv=5,n_jobs=-1,\n",
    "                      scoring='f1')\n",
    "gs_clf.fit(x_train, np.ravel(y_train))\n"
   ]
  },
  {
   "cell_type": "markdown",
   "metadata": {},
   "source": [
    "<h3 style=\"color:green;\">Get the best model parameters</h3>\n"
   ]
  },
  {
   "cell_type": "code",
   "execution_count": 68,
   "metadata": {},
   "outputs": [
    {
     "data": {
      "text/plain": [
       "(0.331162244496855,\n",
       " {'class_weight': {1: 6},\n",
       "  'min_samples_leaf': 10,\n",
       "  'min_samples_split': 100,\n",
       "  'n_estimators': 800})"
      ]
     },
     "execution_count": 68,
     "metadata": {},
     "output_type": "execute_result"
    }
   ],
   "source": [
    "gs_clf.best_score_, gs_clf.best_params_"
   ]
  },
  {
   "cell_type": "markdown",
   "metadata": {},
   "source": [
    "<h3 style=\"color:green;\">Run the best model and get metrics</h3>\n"
   ]
  },
  {
   "cell_type": "code",
   "execution_count": 70,
   "metadata": {},
   "outputs": [
    {
     "data": {
      "text/html": [
       "<style>#sk-container-id-14 {color: black;}#sk-container-id-14 pre{padding: 0;}#sk-container-id-14 div.sk-toggleable {background-color: white;}#sk-container-id-14 label.sk-toggleable__label {cursor: pointer;display: block;width: 100%;margin-bottom: 0;padding: 0.3em;box-sizing: border-box;text-align: center;}#sk-container-id-14 label.sk-toggleable__label-arrow:before {content: \"▸\";float: left;margin-right: 0.25em;color: #696969;}#sk-container-id-14 label.sk-toggleable__label-arrow:hover:before {color: black;}#sk-container-id-14 div.sk-estimator:hover label.sk-toggleable__label-arrow:before {color: black;}#sk-container-id-14 div.sk-toggleable__content {max-height: 0;max-width: 0;overflow: hidden;text-align: left;background-color: #f0f8ff;}#sk-container-id-14 div.sk-toggleable__content pre {margin: 0.2em;color: black;border-radius: 0.25em;background-color: #f0f8ff;}#sk-container-id-14 input.sk-toggleable__control:checked~div.sk-toggleable__content {max-height: 200px;max-width: 100%;overflow: auto;}#sk-container-id-14 input.sk-toggleable__control:checked~label.sk-toggleable__label-arrow:before {content: \"▾\";}#sk-container-id-14 div.sk-estimator input.sk-toggleable__control:checked~label.sk-toggleable__label {background-color: #d4ebff;}#sk-container-id-14 div.sk-label input.sk-toggleable__control:checked~label.sk-toggleable__label {background-color: #d4ebff;}#sk-container-id-14 input.sk-hidden--visually {border: 0;clip: rect(1px 1px 1px 1px);clip: rect(1px, 1px, 1px, 1px);height: 1px;margin: -1px;overflow: hidden;padding: 0;position: absolute;width: 1px;}#sk-container-id-14 div.sk-estimator {font-family: monospace;background-color: #f0f8ff;border: 1px dotted black;border-radius: 0.25em;box-sizing: border-box;margin-bottom: 0.5em;}#sk-container-id-14 div.sk-estimator:hover {background-color: #d4ebff;}#sk-container-id-14 div.sk-parallel-item::after {content: \"\";width: 100%;border-bottom: 1px solid gray;flex-grow: 1;}#sk-container-id-14 div.sk-label:hover label.sk-toggleable__label {background-color: #d4ebff;}#sk-container-id-14 div.sk-serial::before {content: \"\";position: absolute;border-left: 1px solid gray;box-sizing: border-box;top: 0;bottom: 0;left: 50%;z-index: 0;}#sk-container-id-14 div.sk-serial {display: flex;flex-direction: column;align-items: center;background-color: white;padding-right: 0.2em;padding-left: 0.2em;position: relative;}#sk-container-id-14 div.sk-item {position: relative;z-index: 1;}#sk-container-id-14 div.sk-parallel {display: flex;align-items: stretch;justify-content: center;background-color: white;position: relative;}#sk-container-id-14 div.sk-item::before, #sk-container-id-14 div.sk-parallel-item::before {content: \"\";position: absolute;border-left: 1px solid gray;box-sizing: border-box;top: 0;bottom: 0;left: 50%;z-index: -1;}#sk-container-id-14 div.sk-parallel-item {display: flex;flex-direction: column;z-index: 1;position: relative;background-color: white;}#sk-container-id-14 div.sk-parallel-item:first-child::after {align-self: flex-end;width: 50%;}#sk-container-id-14 div.sk-parallel-item:last-child::after {align-self: flex-start;width: 50%;}#sk-container-id-14 div.sk-parallel-item:only-child::after {width: 0;}#sk-container-id-14 div.sk-dashed-wrapped {border: 1px dashed gray;margin: 0 0.4em 0.5em 0.4em;box-sizing: border-box;padding-bottom: 0.4em;background-color: white;}#sk-container-id-14 div.sk-label label {font-family: monospace;font-weight: bold;display: inline-block;line-height: 1.2em;}#sk-container-id-14 div.sk-label-container {text-align: center;}#sk-container-id-14 div.sk-container {/* jupyter's `normalize.less` sets `[hidden] { display: none; }` but bootstrap.min.css set `[hidden] { display: none !important; }` so we also need the `!important` here to be able to override the default hidden behavior on the sphinx rendered scikit-learn.org. See: https://github.com/scikit-learn/scikit-learn/issues/21755 */display: inline-block !important;position: relative;}#sk-container-id-14 div.sk-text-repr-fallback {display: none;}</style><div id=\"sk-container-id-14\" class=\"sk-top-container\"><div class=\"sk-text-repr-fallback\"><pre>RandomForestClassifier(class_weight={1: 6}, min_samples_leaf=10,\n",
       "                       min_samples_split=100, n_estimators=800,\n",
       "                       random_state=42)</pre><b>In a Jupyter environment, please rerun this cell to show the HTML representation or trust the notebook. <br />On GitHub, the HTML representation is unable to render, please try loading this page with nbviewer.org.</b></div><div class=\"sk-container\" hidden><div class=\"sk-item\"><div class=\"sk-estimator sk-toggleable\"><input class=\"sk-toggleable__control sk-hidden--visually\" id=\"sk-estimator-id-38\" type=\"checkbox\" checked><label for=\"sk-estimator-id-38\" class=\"sk-toggleable__label sk-toggleable__label-arrow\">RandomForestClassifier</label><div class=\"sk-toggleable__content\"><pre>RandomForestClassifier(class_weight={1: 6}, min_samples_leaf=10,\n",
       "                       min_samples_split=100, n_estimators=800,\n",
       "                       random_state=42)</pre></div></div></div></div></div>"
      ],
      "text/plain": [
       "RandomForestClassifier(class_weight={1: 6}, min_samples_leaf=10,\n",
       "                       min_samples_split=100, n_estimators=800,\n",
       "                       random_state=42)"
      ]
     },
     "execution_count": 70,
     "metadata": {},
     "output_type": "execute_result"
    }
   ],
   "source": [
    "model_5 = RandomForestClassifier(**gs_clf.best_params_,random_state=42)\n",
    "model_5.fit(x_train,y_train)"
   ]
  },
  {
   "cell_type": "code",
   "execution_count": 71,
   "metadata": {},
   "outputs": [
    {
     "name": "stdout",
     "output_type": "stream",
     "text": [
      "Training accuracy:  0.7819248968696918\n",
      "Testing  accuracy:  0.7627675448685056\n",
      "confusion matrix:\n",
      "[[119522  30427]\n",
      " [  9796   9806]]\n",
      "precision:  0.24373027117043222\n",
      "recall:  0.5002550760126517\n",
      "f1 score:  0.32776802874571737\n",
      "auc 0.7309289440285697\n",
      "ap 0.2556894711994775\n"
     ]
    }
   ],
   "source": [
    "cfm = confusion_matrix(y_test,model_5.predict(x_test))\n",
    "accuracy_training = model_5.score(x_train,y_train)\n",
    "accuracy_testing = model_5.score(x_test,y_test)\n",
    "precision = precision_score(y_test,model_5.predict(x_test))\n",
    "recall = recall_score(y_test,model_5.predict(x_test))\n",
    "f1 = f1_score(y_test,model_5.predict(x_test))\n",
    "auc = roc_auc_score(y_test,model_5.predict_proba(x_test)[:,1])\n",
    "ap = average_precision_score(y_test,model_5.predict_proba(x_test)[:,1])\n",
    "\n",
    "print(\"Training accuracy: \",accuracy_training)\n",
    "print(\"Testing  accuracy: \",accuracy_testing)\n",
    "print(\"confusion matrix:\")\n",
    "print(cfm)\n",
    "\n",
    "print(\"precision: \",precision)\n",
    "print(\"recall: \",recall)\n",
    "print(\"f1 score: \",f1)\n",
    "print(\"auc\",auc)\n",
    "print(\"ap\",ap)"
   ]
  },
  {
   "cell_type": "markdown",
   "metadata": {},
   "source": [
    "<h3 style=\"color:green;\">Interpreting model 5 results</h3>\n",
    "\n",
    "<p>\n",
    "    </p>\n",
    "<h4>Interpretation</h4>\n",
    "<li> The precision of 24.37\\% indicates that out of all loans predicted as bad, only 24.37% were actually bad. This suggests that there are quite a few loans that the model predicted as bad but were actually good.</li>\n",
    "<li> The recall of 50.03% indicates that the model was able to correctly identify 50.03% of the actual bad loans. So, half of the bad loans were missed by the model.</li>\n",
    "<li>  An F1 score of 32.78% indicates that the model has room for improvement, especially given that neither precision nor recall is particularly high.</li>\n",
    "<li> The AUC (Area Under the ROC Curve) of 73.09% indicates a good ability of the model to differentiate between good and bad loans. </li>\n",
    "<li> The AP of 25.57% summarizes the precision-recall curve, indicating the model's ability to maintain high precision across varying recall levels. Given the imbalance of classes (more good loans than bad), the AP provides a more informative metric than AUC</li>"
   ]
  },
  {
   "cell_type": "markdown",
   "metadata": {},
   "source": [
    "<h3 style=\"color:green;\">Update results df</h3>\n"
   ]
  },
  {
   "cell_type": "code",
   "execution_count": 72,
   "metadata": {},
   "outputs": [
    {
     "data": {
      "text/html": [
       "<div>\n",
       "<style scoped>\n",
       "    .dataframe tbody tr th:only-of-type {\n",
       "        vertical-align: middle;\n",
       "    }\n",
       "\n",
       "    .dataframe tbody tr th {\n",
       "        vertical-align: top;\n",
       "    }\n",
       "\n",
       "    .dataframe thead th {\n",
       "        text-align: right;\n",
       "    }\n",
       "</style>\n",
       "<table border=\"1\" class=\"dataframe\">\n",
       "  <thead>\n",
       "    <tr style=\"text-align: right;\">\n",
       "      <th></th>\n",
       "      <th>accuracy</th>\n",
       "      <th>precision</th>\n",
       "      <th>recall</th>\n",
       "      <th>f1_score</th>\n",
       "      <th>AUC</th>\n",
       "      <th>AP</th>\n",
       "    </tr>\n",
       "    <tr>\n",
       "      <th>Model</th>\n",
       "      <th></th>\n",
       "      <th></th>\n",
       "      <th></th>\n",
       "      <th></th>\n",
       "      <th></th>\n",
       "      <th></th>\n",
       "    </tr>\n",
       "  </thead>\n",
       "  <tbody>\n",
       "    <tr>\n",
       "      <th>1</th>\n",
       "      <td>0.884383</td>\n",
       "      <td>0.000000</td>\n",
       "      <td>0.000000</td>\n",
       "      <td>0.000000</td>\n",
       "      <td>0.692962</td>\n",
       "      <td>0.227769</td>\n",
       "    </tr>\n",
       "    <tr>\n",
       "      <th>2</th>\n",
       "      <td>0.562503</td>\n",
       "      <td>0.172208</td>\n",
       "      <td>0.731354</td>\n",
       "      <td>0.278775</td>\n",
       "      <td>0.694009</td>\n",
       "      <td>0.229867</td>\n",
       "    </tr>\n",
       "    <tr>\n",
       "      <th>3</th>\n",
       "      <td>0.770317</td>\n",
       "      <td>0.228776</td>\n",
       "      <td>0.416131</td>\n",
       "      <td>0.295239</td>\n",
       "      <td>0.691068</td>\n",
       "      <td>0.228912</td>\n",
       "    </tr>\n",
       "    <tr>\n",
       "      <th>4</th>\n",
       "      <td>0.801033</td>\n",
       "      <td>0.248407</td>\n",
       "      <td>0.355933</td>\n",
       "      <td>0.292604</td>\n",
       "      <td>0.694597</td>\n",
       "      <td>0.228761</td>\n",
       "    </tr>\n",
       "    <tr>\n",
       "      <th>5</th>\n",
       "      <td>0.762768</td>\n",
       "      <td>0.243730</td>\n",
       "      <td>0.500255</td>\n",
       "      <td>0.327768</td>\n",
       "      <td>0.730929</td>\n",
       "      <td>0.255689</td>\n",
       "    </tr>\n",
       "    <tr>\n",
       "      <th>6</th>\n",
       "      <td>0.000000</td>\n",
       "      <td>0.000000</td>\n",
       "      <td>0.000000</td>\n",
       "      <td>0.000000</td>\n",
       "      <td>0.000000</td>\n",
       "      <td>0.000000</td>\n",
       "    </tr>\n",
       "    <tr>\n",
       "      <th>7</th>\n",
       "      <td>0.000000</td>\n",
       "      <td>0.000000</td>\n",
       "      <td>0.000000</td>\n",
       "      <td>0.000000</td>\n",
       "      <td>0.000000</td>\n",
       "      <td>0.000000</td>\n",
       "    </tr>\n",
       "  </tbody>\n",
       "</table>\n",
       "</div>"
      ],
      "text/plain": [
       "       accuracy  precision    recall  f1_score       AUC        AP\n",
       "Model                                                             \n",
       "1      0.884383   0.000000  0.000000  0.000000  0.692962  0.227769\n",
       "2      0.562503   0.172208  0.731354  0.278775  0.694009  0.229867\n",
       "3      0.770317   0.228776  0.416131  0.295239  0.691068  0.228912\n",
       "4      0.801033   0.248407  0.355933  0.292604  0.694597  0.228761\n",
       "5      0.762768   0.243730  0.500255  0.327768  0.730929  0.255689\n",
       "6      0.000000   0.000000  0.000000  0.000000  0.000000  0.000000\n",
       "7      0.000000   0.000000  0.000000  0.000000  0.000000  0.000000"
      ]
     },
     "execution_count": 72,
     "metadata": {},
     "output_type": "execute_result"
    }
   ],
   "source": [
    "results_df.loc[5] = [accuracy_testing,precision,recall,f1,auc,ap]\n",
    "\n",
    "results_df"
   ]
  },
  {
   "cell_type": "markdown",
   "metadata": {},
   "source": [
    "<h1 style=\"color:red;font-size:xx-large\">Build Model 6</h1>"
   ]
  },
  {
   "cell_type": "markdown",
   "metadata": {},
   "source": [
    "<li>Gradient Boosting Classifier</li>\n",
    "<li>Grid search on GBC can take several days so let's just skip to the best models (I ran a 2-day reduced version)!</li>\n",
    "<li>Sklearn's gradient boosting classifier uses a sample weight vector to correct for imbalances in the data</li>\n"
   ]
  },
  {
   "cell_type": "code",
   "execution_count": 73,
   "metadata": {},
   "outputs": [
    {
     "data": {
      "text/html": [
       "<style>#sk-container-id-15 {color: black;}#sk-container-id-15 pre{padding: 0;}#sk-container-id-15 div.sk-toggleable {background-color: white;}#sk-container-id-15 label.sk-toggleable__label {cursor: pointer;display: block;width: 100%;margin-bottom: 0;padding: 0.3em;box-sizing: border-box;text-align: center;}#sk-container-id-15 label.sk-toggleable__label-arrow:before {content: \"▸\";float: left;margin-right: 0.25em;color: #696969;}#sk-container-id-15 label.sk-toggleable__label-arrow:hover:before {color: black;}#sk-container-id-15 div.sk-estimator:hover label.sk-toggleable__label-arrow:before {color: black;}#sk-container-id-15 div.sk-toggleable__content {max-height: 0;max-width: 0;overflow: hidden;text-align: left;background-color: #f0f8ff;}#sk-container-id-15 div.sk-toggleable__content pre {margin: 0.2em;color: black;border-radius: 0.25em;background-color: #f0f8ff;}#sk-container-id-15 input.sk-toggleable__control:checked~div.sk-toggleable__content {max-height: 200px;max-width: 100%;overflow: auto;}#sk-container-id-15 input.sk-toggleable__control:checked~label.sk-toggleable__label-arrow:before {content: \"▾\";}#sk-container-id-15 div.sk-estimator input.sk-toggleable__control:checked~label.sk-toggleable__label {background-color: #d4ebff;}#sk-container-id-15 div.sk-label input.sk-toggleable__control:checked~label.sk-toggleable__label {background-color: #d4ebff;}#sk-container-id-15 input.sk-hidden--visually {border: 0;clip: rect(1px 1px 1px 1px);clip: rect(1px, 1px, 1px, 1px);height: 1px;margin: -1px;overflow: hidden;padding: 0;position: absolute;width: 1px;}#sk-container-id-15 div.sk-estimator {font-family: monospace;background-color: #f0f8ff;border: 1px dotted black;border-radius: 0.25em;box-sizing: border-box;margin-bottom: 0.5em;}#sk-container-id-15 div.sk-estimator:hover {background-color: #d4ebff;}#sk-container-id-15 div.sk-parallel-item::after {content: \"\";width: 100%;border-bottom: 1px solid gray;flex-grow: 1;}#sk-container-id-15 div.sk-label:hover label.sk-toggleable__label {background-color: #d4ebff;}#sk-container-id-15 div.sk-serial::before {content: \"\";position: absolute;border-left: 1px solid gray;box-sizing: border-box;top: 0;bottom: 0;left: 50%;z-index: 0;}#sk-container-id-15 div.sk-serial {display: flex;flex-direction: column;align-items: center;background-color: white;padding-right: 0.2em;padding-left: 0.2em;position: relative;}#sk-container-id-15 div.sk-item {position: relative;z-index: 1;}#sk-container-id-15 div.sk-parallel {display: flex;align-items: stretch;justify-content: center;background-color: white;position: relative;}#sk-container-id-15 div.sk-item::before, #sk-container-id-15 div.sk-parallel-item::before {content: \"\";position: absolute;border-left: 1px solid gray;box-sizing: border-box;top: 0;bottom: 0;left: 50%;z-index: -1;}#sk-container-id-15 div.sk-parallel-item {display: flex;flex-direction: column;z-index: 1;position: relative;background-color: white;}#sk-container-id-15 div.sk-parallel-item:first-child::after {align-self: flex-end;width: 50%;}#sk-container-id-15 div.sk-parallel-item:last-child::after {align-self: flex-start;width: 50%;}#sk-container-id-15 div.sk-parallel-item:only-child::after {width: 0;}#sk-container-id-15 div.sk-dashed-wrapped {border: 1px dashed gray;margin: 0 0.4em 0.5em 0.4em;box-sizing: border-box;padding-bottom: 0.4em;background-color: white;}#sk-container-id-15 div.sk-label label {font-family: monospace;font-weight: bold;display: inline-block;line-height: 1.2em;}#sk-container-id-15 div.sk-label-container {text-align: center;}#sk-container-id-15 div.sk-container {/* jupyter's `normalize.less` sets `[hidden] { display: none; }` but bootstrap.min.css set `[hidden] { display: none !important; }` so we also need the `!important` here to be able to override the default hidden behavior on the sphinx rendered scikit-learn.org. See: https://github.com/scikit-learn/scikit-learn/issues/21755 */display: inline-block !important;position: relative;}#sk-container-id-15 div.sk-text-repr-fallback {display: none;}</style><div id=\"sk-container-id-15\" class=\"sk-top-container\"><div class=\"sk-text-repr-fallback\"><pre>GradientBoostingClassifier(max_depth=8, min_samples_leaf=100,\n",
       "                           min_samples_split=100, n_estimators=400,\n",
       "                           subsample=0.6)</pre><b>In a Jupyter environment, please rerun this cell to show the HTML representation or trust the notebook. <br />On GitHub, the HTML representation is unable to render, please try loading this page with nbviewer.org.</b></div><div class=\"sk-container\" hidden><div class=\"sk-item\"><div class=\"sk-estimator sk-toggleable\"><input class=\"sk-toggleable__control sk-hidden--visually\" id=\"sk-estimator-id-39\" type=\"checkbox\" checked><label for=\"sk-estimator-id-39\" class=\"sk-toggleable__label sk-toggleable__label-arrow\">GradientBoostingClassifier</label><div class=\"sk-toggleable__content\"><pre>GradientBoostingClassifier(max_depth=8, min_samples_leaf=100,\n",
       "                           min_samples_split=100, n_estimators=400,\n",
       "                           subsample=0.6)</pre></div></div></div></div></div>"
      ],
      "text/plain": [
       "GradientBoostingClassifier(max_depth=8, min_samples_leaf=100,\n",
       "                           min_samples_split=100, n_estimators=400,\n",
       "                           subsample=0.6)"
      ]
     },
     "execution_count": 73,
     "metadata": {},
     "output_type": "execute_result"
    }
   ],
   "source": [
    "from sklearn.ensemble import GradientBoostingClassifier\n",
    "\n",
    "#sample_weight is a vector that indicates the weight of each \n",
    "#case in the training sample\n",
    "#If you're interested, try values from 1 to 10 instead of 4\n",
    "sample_weight = np.array([4 if i == 1 else 1 for i in y_train])\n",
    "\n",
    "\n",
    "model_6 = GradientBoostingClassifier(min_samples_split=100,\n",
    "                                     max_depth=8,\n",
    "                                     min_samples_leaf=100,\n",
    "                                     n_estimators=400,\n",
    "                                     subsample=0.6)\n",
    "\n",
    "\n",
    "model_6.fit(x_train,y_train,sample_weight=sample_weight)\n"
   ]
  },
  {
   "cell_type": "code",
   "execution_count": 74,
   "metadata": {},
   "outputs": [
    {
     "name": "stdout",
     "output_type": "stream",
     "text": [
      "Training accuracy:  0.8167086265469546\n",
      "Testing  accuracy:  0.8015641311463807\n",
      "confusion matrix:\n",
      "[[127803  22146]\n",
      " [ 11499   8103]]\n",
      "precision:  0.2678766240206288\n",
      "recall:  0.41337618610345883\n",
      "f1 score:  0.32508876451826446\n",
      "auc 0.7486911451332081\n",
      "ap 0.2592452251286931\n"
     ]
    }
   ],
   "source": [
    "#Calculate and print metrics\n",
    "cfm = confusion_matrix(y_test,model_6.predict(x_test))\n",
    "accuracy_training = model_6.score(x_train,y_train)\n",
    "accuracy_testing = model_6.score(x_test,y_test)\n",
    "precision = precision_score(y_test,model_6.predict(x_test))\n",
    "recall = recall_score(y_test,model_6.predict(x_test))\n",
    "f1 = f1_score(y_test,model_6.predict(x_test))\n",
    "auc = roc_auc_score(y_test,model_6.predict_proba(x_test)[:,1])\n",
    "ap = average_precision_score(y_test,model_6.predict_proba(x_test)[:,1])\n",
    "\n",
    "print(\"Training accuracy: \",accuracy_training)\n",
    "print(\"Testing  accuracy: \",accuracy_testing)\n",
    "print(\"confusion matrix:\")\n",
    "print(cfm)\n",
    "\n",
    "print(\"precision: \",precision)\n",
    "print(\"recall: \",recall)\n",
    "print(\"f1 score: \",f1)\n",
    "print(\"auc\",auc)\n",
    "print(\"ap\",ap)"
   ]
  },
  {
   "cell_type": "markdown",
   "metadata": {},
   "source": [
    "<h3 style=\"color:green;\">Interpreting model 6 results</h3>\n",
    "\n",
    "<p>\n",
    "    </p>\n",
    "<h4>Interpretation</h4>\n",
    "<li> The precision of 26.79% indicates that out of all loans predicted as bad, only 26.79% were actually bad. This means that there are a number of loans that the model predicts as bad, but they are in fact good. </li>\n",
    "<li> The recall of 41.34% suggests that the model was able to correctly identify 41.34% of the actual bad loans. This indicates that a little more than half of the bad loans were missed by the model. </li>\n",
    "<li> An F1 score of 32.51% suggests that the model needs improvement, especially since neither precision nor recall is particularly high. </li>\n",
    "<li> The AP of 25.92% offers a summary of the precision-recall curve, indicating the model's ability to sustain high precision across different recall levels. </li>"
   ]
  },
  {
   "cell_type": "markdown",
   "metadata": {},
   "source": [
    "<h3 style=\"color:green;\">Update results df</h3>\n"
   ]
  },
  {
   "cell_type": "code",
   "execution_count": 75,
   "metadata": {},
   "outputs": [
    {
     "data": {
      "text/html": [
       "<div>\n",
       "<style scoped>\n",
       "    .dataframe tbody tr th:only-of-type {\n",
       "        vertical-align: middle;\n",
       "    }\n",
       "\n",
       "    .dataframe tbody tr th {\n",
       "        vertical-align: top;\n",
       "    }\n",
       "\n",
       "    .dataframe thead th {\n",
       "        text-align: right;\n",
       "    }\n",
       "</style>\n",
       "<table border=\"1\" class=\"dataframe\">\n",
       "  <thead>\n",
       "    <tr style=\"text-align: right;\">\n",
       "      <th></th>\n",
       "      <th>accuracy</th>\n",
       "      <th>precision</th>\n",
       "      <th>recall</th>\n",
       "      <th>f1_score</th>\n",
       "      <th>AUC</th>\n",
       "      <th>AP</th>\n",
       "    </tr>\n",
       "    <tr>\n",
       "      <th>Model</th>\n",
       "      <th></th>\n",
       "      <th></th>\n",
       "      <th></th>\n",
       "      <th></th>\n",
       "      <th></th>\n",
       "      <th></th>\n",
       "    </tr>\n",
       "  </thead>\n",
       "  <tbody>\n",
       "    <tr>\n",
       "      <th>1</th>\n",
       "      <td>0.884383</td>\n",
       "      <td>0.000000</td>\n",
       "      <td>0.000000</td>\n",
       "      <td>0.000000</td>\n",
       "      <td>0.692962</td>\n",
       "      <td>0.227769</td>\n",
       "    </tr>\n",
       "    <tr>\n",
       "      <th>2</th>\n",
       "      <td>0.562503</td>\n",
       "      <td>0.172208</td>\n",
       "      <td>0.731354</td>\n",
       "      <td>0.278775</td>\n",
       "      <td>0.694009</td>\n",
       "      <td>0.229867</td>\n",
       "    </tr>\n",
       "    <tr>\n",
       "      <th>3</th>\n",
       "      <td>0.770317</td>\n",
       "      <td>0.228776</td>\n",
       "      <td>0.416131</td>\n",
       "      <td>0.295239</td>\n",
       "      <td>0.691068</td>\n",
       "      <td>0.228912</td>\n",
       "    </tr>\n",
       "    <tr>\n",
       "      <th>4</th>\n",
       "      <td>0.801033</td>\n",
       "      <td>0.248407</td>\n",
       "      <td>0.355933</td>\n",
       "      <td>0.292604</td>\n",
       "      <td>0.694597</td>\n",
       "      <td>0.228761</td>\n",
       "    </tr>\n",
       "    <tr>\n",
       "      <th>5</th>\n",
       "      <td>0.762768</td>\n",
       "      <td>0.243730</td>\n",
       "      <td>0.500255</td>\n",
       "      <td>0.327768</td>\n",
       "      <td>0.730929</td>\n",
       "      <td>0.255689</td>\n",
       "    </tr>\n",
       "    <tr>\n",
       "      <th>6</th>\n",
       "      <td>0.801564</td>\n",
       "      <td>0.267877</td>\n",
       "      <td>0.413376</td>\n",
       "      <td>0.325089</td>\n",
       "      <td>0.748691</td>\n",
       "      <td>0.259245</td>\n",
       "    </tr>\n",
       "    <tr>\n",
       "      <th>7</th>\n",
       "      <td>0.000000</td>\n",
       "      <td>0.000000</td>\n",
       "      <td>0.000000</td>\n",
       "      <td>0.000000</td>\n",
       "      <td>0.000000</td>\n",
       "      <td>0.000000</td>\n",
       "    </tr>\n",
       "  </tbody>\n",
       "</table>\n",
       "</div>"
      ],
      "text/plain": [
       "       accuracy  precision    recall  f1_score       AUC        AP\n",
       "Model                                                             \n",
       "1      0.884383   0.000000  0.000000  0.000000  0.692962  0.227769\n",
       "2      0.562503   0.172208  0.731354  0.278775  0.694009  0.229867\n",
       "3      0.770317   0.228776  0.416131  0.295239  0.691068  0.228912\n",
       "4      0.801033   0.248407  0.355933  0.292604  0.694597  0.228761\n",
       "5      0.762768   0.243730  0.500255  0.327768  0.730929  0.255689\n",
       "6      0.801564   0.267877  0.413376  0.325089  0.748691  0.259245\n",
       "7      0.000000   0.000000  0.000000  0.000000  0.000000  0.000000"
      ]
     },
     "execution_count": 75,
     "metadata": {},
     "output_type": "execute_result"
    }
   ],
   "source": [
    "results_df.loc[6] = [accuracy_testing,precision,recall,f1,auc,ap]\n",
    "\n",
    "results_df"
   ]
  },
  {
   "cell_type": "markdown",
   "metadata": {},
   "source": [
    "<h1 style=\"color:red;font-size:xx-large\">Build Model 7</h1>"
   ]
  },
  {
   "cell_type": "markdown",
   "metadata": {},
   "source": [
    "<li>Same parameters but up the sample weight to 5</li>"
   ]
  },
  {
   "cell_type": "code",
   "execution_count": 76,
   "metadata": {},
   "outputs": [
    {
     "data": {
      "text/html": [
       "<style>#sk-container-id-16 {color: black;}#sk-container-id-16 pre{padding: 0;}#sk-container-id-16 div.sk-toggleable {background-color: white;}#sk-container-id-16 label.sk-toggleable__label {cursor: pointer;display: block;width: 100%;margin-bottom: 0;padding: 0.3em;box-sizing: border-box;text-align: center;}#sk-container-id-16 label.sk-toggleable__label-arrow:before {content: \"▸\";float: left;margin-right: 0.25em;color: #696969;}#sk-container-id-16 label.sk-toggleable__label-arrow:hover:before {color: black;}#sk-container-id-16 div.sk-estimator:hover label.sk-toggleable__label-arrow:before {color: black;}#sk-container-id-16 div.sk-toggleable__content {max-height: 0;max-width: 0;overflow: hidden;text-align: left;background-color: #f0f8ff;}#sk-container-id-16 div.sk-toggleable__content pre {margin: 0.2em;color: black;border-radius: 0.25em;background-color: #f0f8ff;}#sk-container-id-16 input.sk-toggleable__control:checked~div.sk-toggleable__content {max-height: 200px;max-width: 100%;overflow: auto;}#sk-container-id-16 input.sk-toggleable__control:checked~label.sk-toggleable__label-arrow:before {content: \"▾\";}#sk-container-id-16 div.sk-estimator input.sk-toggleable__control:checked~label.sk-toggleable__label {background-color: #d4ebff;}#sk-container-id-16 div.sk-label input.sk-toggleable__control:checked~label.sk-toggleable__label {background-color: #d4ebff;}#sk-container-id-16 input.sk-hidden--visually {border: 0;clip: rect(1px 1px 1px 1px);clip: rect(1px, 1px, 1px, 1px);height: 1px;margin: -1px;overflow: hidden;padding: 0;position: absolute;width: 1px;}#sk-container-id-16 div.sk-estimator {font-family: monospace;background-color: #f0f8ff;border: 1px dotted black;border-radius: 0.25em;box-sizing: border-box;margin-bottom: 0.5em;}#sk-container-id-16 div.sk-estimator:hover {background-color: #d4ebff;}#sk-container-id-16 div.sk-parallel-item::after {content: \"\";width: 100%;border-bottom: 1px solid gray;flex-grow: 1;}#sk-container-id-16 div.sk-label:hover label.sk-toggleable__label {background-color: #d4ebff;}#sk-container-id-16 div.sk-serial::before {content: \"\";position: absolute;border-left: 1px solid gray;box-sizing: border-box;top: 0;bottom: 0;left: 50%;z-index: 0;}#sk-container-id-16 div.sk-serial {display: flex;flex-direction: column;align-items: center;background-color: white;padding-right: 0.2em;padding-left: 0.2em;position: relative;}#sk-container-id-16 div.sk-item {position: relative;z-index: 1;}#sk-container-id-16 div.sk-parallel {display: flex;align-items: stretch;justify-content: center;background-color: white;position: relative;}#sk-container-id-16 div.sk-item::before, #sk-container-id-16 div.sk-parallel-item::before {content: \"\";position: absolute;border-left: 1px solid gray;box-sizing: border-box;top: 0;bottom: 0;left: 50%;z-index: -1;}#sk-container-id-16 div.sk-parallel-item {display: flex;flex-direction: column;z-index: 1;position: relative;background-color: white;}#sk-container-id-16 div.sk-parallel-item:first-child::after {align-self: flex-end;width: 50%;}#sk-container-id-16 div.sk-parallel-item:last-child::after {align-self: flex-start;width: 50%;}#sk-container-id-16 div.sk-parallel-item:only-child::after {width: 0;}#sk-container-id-16 div.sk-dashed-wrapped {border: 1px dashed gray;margin: 0 0.4em 0.5em 0.4em;box-sizing: border-box;padding-bottom: 0.4em;background-color: white;}#sk-container-id-16 div.sk-label label {font-family: monospace;font-weight: bold;display: inline-block;line-height: 1.2em;}#sk-container-id-16 div.sk-label-container {text-align: center;}#sk-container-id-16 div.sk-container {/* jupyter's `normalize.less` sets `[hidden] { display: none; }` but bootstrap.min.css set `[hidden] { display: none !important; }` so we also need the `!important` here to be able to override the default hidden behavior on the sphinx rendered scikit-learn.org. See: https://github.com/scikit-learn/scikit-learn/issues/21755 */display: inline-block !important;position: relative;}#sk-container-id-16 div.sk-text-repr-fallback {display: none;}</style><div id=\"sk-container-id-16\" class=\"sk-top-container\"><div class=\"sk-text-repr-fallback\"><pre>GradientBoostingClassifier(max_depth=8, min_samples_leaf=100,\n",
       "                           min_samples_split=100, n_estimators=400,\n",
       "                           subsample=0.6)</pre><b>In a Jupyter environment, please rerun this cell to show the HTML representation or trust the notebook. <br />On GitHub, the HTML representation is unable to render, please try loading this page with nbviewer.org.</b></div><div class=\"sk-container\" hidden><div class=\"sk-item\"><div class=\"sk-estimator sk-toggleable\"><input class=\"sk-toggleable__control sk-hidden--visually\" id=\"sk-estimator-id-40\" type=\"checkbox\" checked><label for=\"sk-estimator-id-40\" class=\"sk-toggleable__label sk-toggleable__label-arrow\">GradientBoostingClassifier</label><div class=\"sk-toggleable__content\"><pre>GradientBoostingClassifier(max_depth=8, min_samples_leaf=100,\n",
       "                           min_samples_split=100, n_estimators=400,\n",
       "                           subsample=0.6)</pre></div></div></div></div></div>"
      ],
      "text/plain": [
       "GradientBoostingClassifier(max_depth=8, min_samples_leaf=100,\n",
       "                           min_samples_split=100, n_estimators=400,\n",
       "                           subsample=0.6)"
      ]
     },
     "execution_count": 76,
     "metadata": {},
     "output_type": "execute_result"
    }
   ],
   "source": [
    "from sklearn.ensemble import GradientBoostingClassifier\n",
    "\n",
    "#sample_weight is a vector that indicates the weight of each \n",
    "#case in the training sample\n",
    "#If you're interested, try values from 1 to 10 instead of 4\n",
    "sample_weight = np.array([5 if i == 1 else 1 for i in y_train])\n",
    "\n",
    "\n",
    "model_7 = GradientBoostingClassifier(min_samples_split=100,\n",
    "                                     max_depth=8,\n",
    "                                     min_samples_leaf=100,\n",
    "                                     n_estimators=400,\n",
    "                                     subsample=0.6)\n",
    "model_7.fit(x_train,y_train,sample_weight=sample_weight)"
   ]
  },
  {
   "cell_type": "code",
   "execution_count": 78,
   "metadata": {},
   "outputs": [
    {
     "name": "stdout",
     "output_type": "stream",
     "text": [
      "Training accuracy:  0.7720339925584405\n",
      "Testing  accuracy:  0.7560262104027696\n",
      "confusion matrix:\n",
      "[[117730  32219]\n",
      " [  9147  10455]]\n",
      "precision:  0.24499695364859164\n",
      "recall:  0.5333639424548515\n",
      "f1 score:  0.33576337593936667\n",
      "auc 0.7483617961719404\n",
      "ap 0.25926125785167986\n"
     ]
    }
   ],
   "source": [
    "#Calculate and print metrics\n",
    "cfm = confusion_matrix(y_test,model_7.predict(x_test))\n",
    "accuracy_training = model_7.score(x_train,y_train)\n",
    "accuracy_testing = model_7.score(x_test,y_test)\n",
    "precision = precision_score(y_test,model_7.predict(x_test))\n",
    "recall = recall_score(y_test,model_7.predict(x_test))\n",
    "f1 = f1_score(y_test,model_7.predict(x_test))\n",
    "auc = roc_auc_score(y_test,model_7.predict_proba(x_test)[:,1])\n",
    "ap = average_precision_score(y_test,model_7.predict_proba(x_test)[:,1])\n",
    "\n",
    "print(\"Training accuracy: \",accuracy_training)\n",
    "print(\"Testing  accuracy: \",accuracy_testing)\n",
    "print(\"confusion matrix:\")\n",
    "print(cfm)\n",
    "\n",
    "print(\"precision: \",precision)\n",
    "print(\"recall: \",recall)\n",
    "print(\"f1 score: \",f1)\n",
    "print(\"auc\",auc)\n",
    "print(\"ap\",ap)"
   ]
  },
  {
   "cell_type": "markdown",
   "metadata": {},
   "source": [
    "<h3 style=\"color:green;\">Interpreting model 7 results</h3>\n",
    "\n",
    "<p>\n",
    "    </p>\n",
    "<h4>Interpretation</h4>\n",
    "<li> For the loans in the testing set, the model made correct predictions for about 75.60% of them. </li>\n",
    "<li> A precision of 24.50% means that out of all loans the model flagged as bad, only 24.50% were truly bad. This metric is particularly important when the cost of a false positive is high. </li>\n",
    "<li> A recall of 53.34% implies that the model caught a little more than half of the actual bad loans, leaving almost half undetected. This metric is crucial when the cost of a false negative is significant. </li>\n",
    "<li> An F1 score of 33.58% suggests there's room for improvement in the model's ability to balance precision and recall. </li>\n",
    "<li> An AUC of 74.84% suggests that the model has a good ability to differentiate between good and bad loans, with a value closer to 100% being ideal. </li>\n",
    "<li> The AP of 25.93% indicates that the model sustains a precision of approximately 25.93% across varying recall levels. </li>"
   ]
  },
  {
   "cell_type": "markdown",
   "metadata": {},
   "source": [
    "<h3 style=\"color:green;\">Update results df</h3>\n"
   ]
  },
  {
   "cell_type": "code",
   "execution_count": 79,
   "metadata": {},
   "outputs": [
    {
     "data": {
      "text/html": [
       "<div>\n",
       "<style scoped>\n",
       "    .dataframe tbody tr th:only-of-type {\n",
       "        vertical-align: middle;\n",
       "    }\n",
       "\n",
       "    .dataframe tbody tr th {\n",
       "        vertical-align: top;\n",
       "    }\n",
       "\n",
       "    .dataframe thead th {\n",
       "        text-align: right;\n",
       "    }\n",
       "</style>\n",
       "<table border=\"1\" class=\"dataframe\">\n",
       "  <thead>\n",
       "    <tr style=\"text-align: right;\">\n",
       "      <th></th>\n",
       "      <th>accuracy</th>\n",
       "      <th>precision</th>\n",
       "      <th>recall</th>\n",
       "      <th>f1_score</th>\n",
       "      <th>AUC</th>\n",
       "      <th>AP</th>\n",
       "    </tr>\n",
       "    <tr>\n",
       "      <th>Model</th>\n",
       "      <th></th>\n",
       "      <th></th>\n",
       "      <th></th>\n",
       "      <th></th>\n",
       "      <th></th>\n",
       "      <th></th>\n",
       "    </tr>\n",
       "  </thead>\n",
       "  <tbody>\n",
       "    <tr>\n",
       "      <th>1</th>\n",
       "      <td>0.884383</td>\n",
       "      <td>0.000000</td>\n",
       "      <td>0.000000</td>\n",
       "      <td>0.000000</td>\n",
       "      <td>0.692962</td>\n",
       "      <td>0.227769</td>\n",
       "    </tr>\n",
       "    <tr>\n",
       "      <th>2</th>\n",
       "      <td>0.562503</td>\n",
       "      <td>0.172208</td>\n",
       "      <td>0.731354</td>\n",
       "      <td>0.278775</td>\n",
       "      <td>0.694009</td>\n",
       "      <td>0.229867</td>\n",
       "    </tr>\n",
       "    <tr>\n",
       "      <th>3</th>\n",
       "      <td>0.770317</td>\n",
       "      <td>0.228776</td>\n",
       "      <td>0.416131</td>\n",
       "      <td>0.295239</td>\n",
       "      <td>0.691068</td>\n",
       "      <td>0.228912</td>\n",
       "    </tr>\n",
       "    <tr>\n",
       "      <th>4</th>\n",
       "      <td>0.801033</td>\n",
       "      <td>0.248407</td>\n",
       "      <td>0.355933</td>\n",
       "      <td>0.292604</td>\n",
       "      <td>0.694597</td>\n",
       "      <td>0.228761</td>\n",
       "    </tr>\n",
       "    <tr>\n",
       "      <th>5</th>\n",
       "      <td>0.762768</td>\n",
       "      <td>0.243730</td>\n",
       "      <td>0.500255</td>\n",
       "      <td>0.327768</td>\n",
       "      <td>0.730929</td>\n",
       "      <td>0.255689</td>\n",
       "    </tr>\n",
       "    <tr>\n",
       "      <th>6</th>\n",
       "      <td>0.801564</td>\n",
       "      <td>0.267877</td>\n",
       "      <td>0.413376</td>\n",
       "      <td>0.325089</td>\n",
       "      <td>0.748691</td>\n",
       "      <td>0.259245</td>\n",
       "    </tr>\n",
       "    <tr>\n",
       "      <th>7</th>\n",
       "      <td>0.756026</td>\n",
       "      <td>0.244997</td>\n",
       "      <td>0.533364</td>\n",
       "      <td>0.335763</td>\n",
       "      <td>0.748362</td>\n",
       "      <td>0.259261</td>\n",
       "    </tr>\n",
       "  </tbody>\n",
       "</table>\n",
       "</div>"
      ],
      "text/plain": [
       "       accuracy  precision    recall  f1_score       AUC        AP\n",
       "Model                                                             \n",
       "1      0.884383   0.000000  0.000000  0.000000  0.692962  0.227769\n",
       "2      0.562503   0.172208  0.731354  0.278775  0.694009  0.229867\n",
       "3      0.770317   0.228776  0.416131  0.295239  0.691068  0.228912\n",
       "4      0.801033   0.248407  0.355933  0.292604  0.694597  0.228761\n",
       "5      0.762768   0.243730  0.500255  0.327768  0.730929  0.255689\n",
       "6      0.801564   0.267877  0.413376  0.325089  0.748691  0.259245\n",
       "7      0.756026   0.244997  0.533364  0.335763  0.748362  0.259261"
      ]
     },
     "execution_count": 79,
     "metadata": {},
     "output_type": "execute_result"
    }
   ],
   "source": [
    "results_df.loc[7] = [accuracy_testing,precision,recall,f1,auc,ap]\n",
    "\n",
    "results_df"
   ]
  },
  {
   "cell_type": "markdown",
   "metadata": {},
   "source": [
    "<h3 style=\"color:red;font-size:xx-large\">Model comparison</h3>\n",
    "<li>Draw a graph that shows the changes to accuracy, precision, recall, and f1 score</li>\n",
    "<li>The x-axis contains the five models you have created</li>\n",
    "<li>Use bokeh for the charts</li>"
   ]
  },
  {
   "cell_type": "code",
   "execution_count": 80,
   "metadata": {},
   "outputs": [
    {
     "data": {
      "text/html": [
       "<style>\n",
       "        .bk-notebook-logo {\n",
       "            display: block;\n",
       "            width: 20px;\n",
       "            height: 20px;\n",
       "            background-image: url(data:image/png;base64,iVBORw0KGgoAAAANSUhEUgAAABQAAAAUCAYAAACNiR0NAAAABHNCSVQICAgIfAhkiAAAAAlwSFlzAAALEgAACxIB0t1+/AAAABx0RVh0U29mdHdhcmUAQWRvYmUgRmlyZXdvcmtzIENTNui8sowAAAOkSURBVDiNjZRtaJVlGMd/1/08zzln5zjP1LWcU9N0NkN8m2CYjpgQYQXqSs0I84OLIC0hkEKoPtiH3gmKoiJDU7QpLgoLjLIQCpEsNJ1vqUOdO7ppbuec5+V+rj4ctwzd8IIbbi6u+8f1539dt3A78eXC7QizUF7gyV1fD1Yqg4JWz84yffhm0qkFqBogB9rM8tZdtwVsPUhWhGcFJngGeWrPzHm5oaMmkfEg1usvLFyc8jLRqDOMru7AyC8saQr7GG7f5fvDeH7Ej8CM66nIF+8yngt6HWaKh7k49Soy9nXurCi1o3qUbS3zWfrYeQDTB/Qj6kX6Ybhw4B+bOYoLKCC9H3Nu/leUTZ1JdRWkkn2ldcCamzrcf47KKXdAJllSlxAOkRgyHsGC/zRday5Qld9DyoM4/q/rUoy/CXh3jzOu3bHUVZeU+DEn8FInkPBFlu3+nW3Nw0mk6vCDiWg8CeJaxEwuHS3+z5RgY+YBR6V1Z1nxSOfoaPa4LASWxxdNp+VWTk7+4vzaou8v8PN+xo+KY2xsw6une2frhw05CTYOmQvsEhjhWjn0bmXPjpE1+kplmmkP3suftwTubK9Vq22qKmrBhpY4jvd5afdRA3wGjFAgcnTK2s4hY0/GPNIb0nErGMCRxWOOX64Z8RAC4oCXdklmEvcL8o0BfkNK4lUg9HTl+oPlQxdNo3Mg4Nv175e/1LDGzZen30MEjRUtmXSfiTVu1kK8W4txyV6BMKlbgk3lMwYCiusNy9fVfvvwMxv8Ynl6vxoByANLTWplvuj/nF9m2+PDtt1eiHPBr1oIfhCChQMBw6Aw0UulqTKZdfVvfG7VcfIqLG9bcldL/+pdWTLxLUy8Qq38heUIjh4XlzZxzQm19lLFlr8vdQ97rjZVOLf8nclzckbcD4wxXMidpX30sFd37Fv/GtwwhzhxGVAprjbg0gCAEeIgwCZyTV2Z1REEW8O4py0wsjeloKoMr6iCY6dP92H6Vw/oTyICIthibxjm/DfN9lVz8IqtqKYLUXfoKVMVQVVJOElGjrnnUt9T9wbgp8AyYKaGlqingHZU/uG2NTZSVqwHQTWkx9hxjkpWDaCg6Ckj5qebgBVbT3V3NNXMSiWSDdGV3hrtzla7J+duwPOToIg42ChPQOQjspnSlp1V+Gjdged7+8UN5CRAV7a5EdFNwCjEaBR27b3W890TE7g24NAP/mMDXRWrGoFPQI9ls/MWO2dWFAar/xcOIImbbpA3zgAAAABJRU5ErkJggg==);\n",
       "        }\n",
       "    </style>\n",
       "    <div>\n",
       "        <a href=\"https://bokeh.org\" target=\"_blank\" class=\"bk-notebook-logo\"></a>\n",
       "        <span id=\"c40ce240-d333-4a35-92a9-e5bfdbd0ac2a\">Loading BokehJS ...</span>\n",
       "    </div>\n"
      ]
     },
     "metadata": {},
     "output_type": "display_data"
    },
    {
     "data": {
      "application/javascript": "(function(root) {\n  function now() {\n    return new Date();\n  }\n\n  const force = true;\n\n  if (typeof root._bokeh_onload_callbacks === \"undefined\" || force === true) {\n    root._bokeh_onload_callbacks = [];\n    root._bokeh_is_loading = undefined;\n  }\n\nconst JS_MIME_TYPE = 'application/javascript';\n  const HTML_MIME_TYPE = 'text/html';\n  const EXEC_MIME_TYPE = 'application/vnd.bokehjs_exec.v0+json';\n  const CLASS_NAME = 'output_bokeh rendered_html';\n\n  /**\n   * Render data to the DOM node\n   */\n  function render(props, node) {\n    const script = document.createElement(\"script\");\n    node.appendChild(script);\n  }\n\n  /**\n   * Handle when an output is cleared or removed\n   */\n  function handleClearOutput(event, handle) {\n    function drop(id) {\n      const view = Bokeh.index.get_by_id(id)\n      if (view != null) {\n        view.model.document.clear()\n        Bokeh.index.delete(view)\n      }\n    }\n\n    const cell = handle.cell;\n\n    const id = cell.output_area._bokeh_element_id;\n    const server_id = cell.output_area._bokeh_server_id;\n\n    // Clean up Bokeh references\n    if (id != null) {\n      drop(id)\n    }\n\n    if (server_id !== undefined) {\n      // Clean up Bokeh references\n      const cmd_clean = \"from bokeh.io.state import curstate; print(curstate().uuid_to_server['\" + server_id + \"'].get_sessions()[0].document.roots[0]._id)\";\n      cell.notebook.kernel.execute(cmd_clean, {\n        iopub: {\n          output: function(msg) {\n            const id = msg.content.text.trim()\n            drop(id)\n          }\n        }\n      });\n      // Destroy server and session\n      const cmd_destroy = \"import bokeh.io.notebook as ion; ion.destroy_server('\" + server_id + \"')\";\n      cell.notebook.kernel.execute(cmd_destroy);\n    }\n  }\n\n  /**\n   * Handle when a new output is added\n   */\n  function handleAddOutput(event, handle) {\n    const output_area = handle.output_area;\n    const output = handle.output;\n\n    // limit handleAddOutput to display_data with EXEC_MIME_TYPE content only\n    if ((output.output_type != \"display_data\") || (!Object.prototype.hasOwnProperty.call(output.data, EXEC_MIME_TYPE))) {\n      return\n    }\n\n    const toinsert = output_area.element.find(\".\" + CLASS_NAME.split(' ')[0]);\n\n    if (output.metadata[EXEC_MIME_TYPE][\"id\"] !== undefined) {\n      toinsert[toinsert.length - 1].firstChild.textContent = output.data[JS_MIME_TYPE];\n      // store reference to embed id on output_area\n      output_area._bokeh_element_id = output.metadata[EXEC_MIME_TYPE][\"id\"];\n    }\n    if (output.metadata[EXEC_MIME_TYPE][\"server_id\"] !== undefined) {\n      const bk_div = document.createElement(\"div\");\n      bk_div.innerHTML = output.data[HTML_MIME_TYPE];\n      const script_attrs = bk_div.children[0].attributes;\n      for (let i = 0; i < script_attrs.length; i++) {\n        toinsert[toinsert.length - 1].firstChild.setAttribute(script_attrs[i].name, script_attrs[i].value);\n        toinsert[toinsert.length - 1].firstChild.textContent = bk_div.children[0].textContent\n      }\n      // store reference to server id on output_area\n      output_area._bokeh_server_id = output.metadata[EXEC_MIME_TYPE][\"server_id\"];\n    }\n  }\n\n  function register_renderer(events, OutputArea) {\n\n    function append_mime(data, metadata, element) {\n      // create a DOM node to render to\n      const toinsert = this.create_output_subarea(\n        metadata,\n        CLASS_NAME,\n        EXEC_MIME_TYPE\n      );\n      this.keyboard_manager.register_events(toinsert);\n      // Render to node\n      const props = {data: data, metadata: metadata[EXEC_MIME_TYPE]};\n      render(props, toinsert[toinsert.length - 1]);\n      element.append(toinsert);\n      return toinsert\n    }\n\n    /* Handle when an output is cleared or removed */\n    events.on('clear_output.CodeCell', handleClearOutput);\n    events.on('delete.Cell', handleClearOutput);\n\n    /* Handle when a new output is added */\n    events.on('output_added.OutputArea', handleAddOutput);\n\n    /**\n     * Register the mime type and append_mime function with output_area\n     */\n    OutputArea.prototype.register_mime_type(EXEC_MIME_TYPE, append_mime, {\n      /* Is output safe? */\n      safe: true,\n      /* Index of renderer in `output_area.display_order` */\n      index: 0\n    });\n  }\n\n  // register the mime type if in Jupyter Notebook environment and previously unregistered\n  if (root.Jupyter !== undefined) {\n    const events = require('base/js/events');\n    const OutputArea = require('notebook/js/outputarea').OutputArea;\n\n    if (OutputArea.prototype.mime_types().indexOf(EXEC_MIME_TYPE) == -1) {\n      register_renderer(events, OutputArea);\n    }\n  }\n  if (typeof (root._bokeh_timeout) === \"undefined\" || force === true) {\n    root._bokeh_timeout = Date.now() + 5000;\n    root._bokeh_failed_load = false;\n  }\n\n  const NB_LOAD_WARNING = {'data': {'text/html':\n     \"<div style='background-color: #fdd'>\\n\"+\n     \"<p>\\n\"+\n     \"BokehJS does not appear to have successfully loaded. If loading BokehJS from CDN, this \\n\"+\n     \"may be due to a slow or bad network connection. Possible fixes:\\n\"+\n     \"</p>\\n\"+\n     \"<ul>\\n\"+\n     \"<li>re-rerun `output_notebook()` to attempt to load from CDN again, or</li>\\n\"+\n     \"<li>use INLINE resources instead, as so:</li>\\n\"+\n     \"</ul>\\n\"+\n     \"<code>\\n\"+\n     \"from bokeh.resources import INLINE\\n\"+\n     \"output_notebook(resources=INLINE)\\n\"+\n     \"</code>\\n\"+\n     \"</div>\"}};\n\n  function display_loaded() {\n    const el = document.getElementById(\"c40ce240-d333-4a35-92a9-e5bfdbd0ac2a\");\n    if (el != null) {\n      el.textContent = \"BokehJS is loading...\";\n    }\n    if (root.Bokeh !== undefined) {\n      if (el != null) {\n        el.textContent = \"BokehJS \" + root.Bokeh.version + \" successfully loaded.\";\n      }\n    } else if (Date.now() < root._bokeh_timeout) {\n      setTimeout(display_loaded, 100)\n    }\n  }\n\n  function run_callbacks() {\n    try {\n      root._bokeh_onload_callbacks.forEach(function(callback) {\n        if (callback != null)\n          callback();\n      });\n    } finally {\n      delete root._bokeh_onload_callbacks\n    }\n    console.debug(\"Bokeh: all callbacks have finished\");\n  }\n\n  function load_libs(css_urls, js_urls, callback) {\n    if (css_urls == null) css_urls = [];\n    if (js_urls == null) js_urls = [];\n\n    root._bokeh_onload_callbacks.push(callback);\n    if (root._bokeh_is_loading > 0) {\n      console.debug(\"Bokeh: BokehJS is being loaded, scheduling callback at\", now());\n      return null;\n    }\n    if (js_urls == null || js_urls.length === 0) {\n      run_callbacks();\n      return null;\n    }\n    console.debug(\"Bokeh: BokehJS not loaded, scheduling load and callback at\", now());\n    root._bokeh_is_loading = css_urls.length + js_urls.length;\n\n    function on_load() {\n      root._bokeh_is_loading--;\n      if (root._bokeh_is_loading === 0) {\n        console.debug(\"Bokeh: all BokehJS libraries/stylesheets loaded\");\n        run_callbacks()\n      }\n    }\n\n    function on_error(url) {\n      console.error(\"failed to load \" + url);\n    }\n\n    for (let i = 0; i < css_urls.length; i++) {\n      const url = css_urls[i];\n      const element = document.createElement(\"link\");\n      element.onload = on_load;\n      element.onerror = on_error.bind(null, url);\n      element.rel = \"stylesheet\";\n      element.type = \"text/css\";\n      element.href = url;\n      console.debug(\"Bokeh: injecting link tag for BokehJS stylesheet: \", url);\n      document.body.appendChild(element);\n    }\n\n    for (let i = 0; i < js_urls.length; i++) {\n      const url = js_urls[i];\n      const element = document.createElement('script');\n      element.onload = on_load;\n      element.onerror = on_error.bind(null, url);\n      element.async = false;\n      element.src = url;\n      console.debug(\"Bokeh: injecting script tag for BokehJS library: \", url);\n      document.head.appendChild(element);\n    }\n  };\n\n  function inject_raw_css(css) {\n    const element = document.createElement(\"style\");\n    element.appendChild(document.createTextNode(css));\n    document.body.appendChild(element);\n  }\n\n  const js_urls = [\"https://cdn.bokeh.org/bokeh/release/bokeh-3.3.0.min.js\", \"https://cdn.bokeh.org/bokeh/release/bokeh-gl-3.3.0.min.js\", \"https://cdn.bokeh.org/bokeh/release/bokeh-widgets-3.3.0.min.js\", \"https://cdn.bokeh.org/bokeh/release/bokeh-tables-3.3.0.min.js\", \"https://cdn.bokeh.org/bokeh/release/bokeh-mathjax-3.3.0.min.js\"];\n  const css_urls = [];\n\n  const inline_js = [    function(Bokeh) {\n      Bokeh.set_log_level(\"info\");\n    },\nfunction(Bokeh) {\n    }\n  ];\n\n  function run_inline_js() {\n    if (root.Bokeh !== undefined || force === true) {\n          for (let i = 0; i < inline_js.length; i++) {\n      inline_js[i].call(root, root.Bokeh);\n    }\nif (force === true) {\n        display_loaded();\n      }} else if (Date.now() < root._bokeh_timeout) {\n      setTimeout(run_inline_js, 100);\n    } else if (!root._bokeh_failed_load) {\n      console.log(\"Bokeh: BokehJS failed to load within specified timeout.\");\n      root._bokeh_failed_load = true;\n    } else if (force !== true) {\n      const cell = $(document.getElementById(\"c40ce240-d333-4a35-92a9-e5bfdbd0ac2a\")).parents('.cell').data().cell;\n      cell.output_area.append_execute_result(NB_LOAD_WARNING)\n    }\n  }\n\n  if (root._bokeh_is_loading === 0) {\n    console.debug(\"Bokeh: BokehJS loaded, going straight to plotting\");\n    run_inline_js();\n  } else {\n    load_libs(css_urls, js_urls, function() {\n      console.debug(\"Bokeh: BokehJS plotting callback run at\", now());\n      run_inline_js();\n    });\n  }\n}(window));",
      "application/vnd.bokehjs_load.v0+json": ""
     },
     "metadata": {},
     "output_type": "display_data"
    }
   ],
   "source": [
    "from bokeh.io import output_notebook, show\n",
    "from bokeh.plotting import figure\n",
    "from bokeh.layouts import gridplot\n",
    "from bokeh.models import ColumnDataSource, LabelSet, HoverTool\n",
    "output_notebook()"
   ]
  },
  {
   "cell_type": "code",
   "execution_count": 82,
   "metadata": {},
   "outputs": [
    {
     "data": {
      "text/html": [
       "\n",
       "  <div id=\"b0ddd171-2aa3-480d-b66a-8a57287da4ec\" data-root-id=\"p1087\" style=\"display: contents;\"></div>\n"
      ]
     },
     "metadata": {},
     "output_type": "display_data"
    },
    {
     "data": {
      "application/javascript": "(function(root) {\n  function embed_document(root) {\n  const docs_json = {\"c2f7d1e5-f308-4046-aad8-1578bca3e6eb\":{\"version\":\"3.3.0\",\"title\":\"Bokeh Application\",\"roots\":[{\"type\":\"object\",\"name\":\"Figure\",\"id\":\"p1087\",\"attributes\":{\"height\":400,\"x_range\":{\"type\":\"object\",\"name\":\"DataRange1d\",\"id\":\"p1089\"},\"y_range\":{\"type\":\"object\",\"name\":\"Range1d\",\"id\":\"p1097\"},\"x_scale\":{\"type\":\"object\",\"name\":\"LinearScale\",\"id\":\"p1098\"},\"y_scale\":{\"type\":\"object\",\"name\":\"LinearScale\",\"id\":\"p1099\"},\"title\":{\"type\":\"object\",\"name\":\"Title\",\"id\":\"p1090\",\"attributes\":{\"text\":\"Model Performance Metrics\"}},\"renderers\":[{\"type\":\"object\",\"name\":\"GlyphRenderer\",\"id\":\"p1123\",\"attributes\":{\"data_source\":{\"type\":\"object\",\"name\":\"ColumnDataSource\",\"id\":\"p1084\",\"attributes\":{\"selected\":{\"type\":\"object\",\"name\":\"Selection\",\"id\":\"p1085\",\"attributes\":{\"indices\":[],\"line_indices\":[]}},\"selection_policy\":{\"type\":\"object\",\"name\":\"UnionRenderers\",\"id\":\"p1086\"},\"data\":{\"type\":\"map\",\"entries\":[[\"Model\",{\"type\":\"ndarray\",\"array\":{\"type\":\"bytes\",\"data\":\"AQAAAAIAAAADAAAABAAAAAUAAAAGAAAABwAAAA==\"},\"shape\":[7],\"dtype\":\"int32\",\"order\":\"little\"}],[\"accuracy\",{\"type\":\"ndarray\",\"array\":{\"type\":\"bytes\",\"data\":\"/lsATt1M7D9Ohx31BgDiP665YJ5vpug/9OKonxCi6T9cInV7l2joP5dzHdJppuk/oygT4V0x6D8=\"},\"shape\":[7],\"dtype\":\"float64\",\"order\":\"little\"}],[\"precision\",{\"type\":\"ndarray\",\"array\":{\"type\":\"bytes\",\"data\":\"AAAAAAAAAAB0hBRF7ArGP7e5WjyGSM0/T8ERvMrLzz+kcdyzjTLPP+kD4v7jJNE/gCnFZw9czz8=\"},\"shape\":[7],\"dtype\":\"float64\",\"order\":\"little\"}],[\"recall\",{\"type\":\"ndarray\",\"array\":{\"type\":\"bytes\",\"data\":\"AAAAAAAAAAB72KBiQGfnP1muhfLjodo/tuq2fZvH1j8TPOTuFgLgP7icEGTBdNo/4LE2QlER4T8=\"},\"shape\":[7],\"dtype\":\"float64\",\"order\":\"little\"}],[\"f1_score\",{\"type\":\"ndarray\",\"array\":{\"type\":\"bytes\",\"data\":\"AAAAAAAAAACS+qK9ctfRPxzEFn4w5dI/ZANI0Qa60j+byAjBJvrUP5vK+RpBztQ/Hqq2qyV91T8=\"},\"shape\":[7],\"dtype\":\"float64\",\"order\":\"little\"}],[\"AUC\",{\"type\":\"ndarray\",\"array\":{\"type\":\"bytes\",\"data\":\"aEw/BL8s5j98FlayUjXmP6RkjX86HeY/ETur3iI65j9BrskYxWPnP4Tc5CFH9ec/NEwEcJTy5z8=\"},\"shape\":[7],\"dtype\":\"float64\",\"order\":\"little\"}],[\"AP\",{\"type\":\"ndarray\",\"array\":{\"type\":\"bytes\",\"data\":\"2hlIYIonzT82xF6lSGzNP1P3ZqL7TM0/JOo2DApIzT847i5fN13QP+qZ5Eh5l9A/PvDlh7yX0D8=\"},\"shape\":[7],\"dtype\":\"float64\",\"order\":\"little\"}]]}}},\"view\":{\"type\":\"object\",\"name\":\"CDSView\",\"id\":\"p1124\",\"attributes\":{\"filter\":{\"type\":\"object\",\"name\":\"AllIndices\",\"id\":\"p1125\"}}},\"glyph\":{\"type\":\"object\",\"name\":\"Line\",\"id\":\"p1120\",\"attributes\":{\"x\":{\"type\":\"field\",\"field\":\"Model\"},\"y\":{\"type\":\"field\",\"field\":\"accuracy\"},\"line_color\":\"green\",\"line_width\":3}},\"nonselection_glyph\":{\"type\":\"object\",\"name\":\"Line\",\"id\":\"p1121\",\"attributes\":{\"x\":{\"type\":\"field\",\"field\":\"Model\"},\"y\":{\"type\":\"field\",\"field\":\"accuracy\"},\"line_color\":\"green\",\"line_alpha\":0.1,\"line_width\":3}},\"muted_glyph\":{\"type\":\"object\",\"name\":\"Line\",\"id\":\"p1122\",\"attributes\":{\"x\":{\"type\":\"field\",\"field\":\"Model\"},\"y\":{\"type\":\"field\",\"field\":\"accuracy\"},\"line_color\":\"green\",\"line_alpha\":0.2,\"line_width\":3}}}},{\"type\":\"object\",\"name\":\"GlyphRenderer\",\"id\":\"p1134\",\"attributes\":{\"data_source\":{\"id\":\"p1084\"},\"view\":{\"type\":\"object\",\"name\":\"CDSView\",\"id\":\"p1135\",\"attributes\":{\"filter\":{\"type\":\"object\",\"name\":\"AllIndices\",\"id\":\"p1136\"}}},\"glyph\":{\"type\":\"object\",\"name\":\"Line\",\"id\":\"p1131\",\"attributes\":{\"x\":{\"type\":\"field\",\"field\":\"Model\"},\"y\":{\"type\":\"field\",\"field\":\"precision\"},\"line_color\":\"blue\",\"line_width\":3}},\"nonselection_glyph\":{\"type\":\"object\",\"name\":\"Line\",\"id\":\"p1132\",\"attributes\":{\"x\":{\"type\":\"field\",\"field\":\"Model\"},\"y\":{\"type\":\"field\",\"field\":\"precision\"},\"line_color\":\"blue\",\"line_alpha\":0.1,\"line_width\":3}},\"muted_glyph\":{\"type\":\"object\",\"name\":\"Line\",\"id\":\"p1133\",\"attributes\":{\"x\":{\"type\":\"field\",\"field\":\"Model\"},\"y\":{\"type\":\"field\",\"field\":\"precision\"},\"line_color\":\"blue\",\"line_alpha\":0.2,\"line_width\":3}}}},{\"type\":\"object\",\"name\":\"GlyphRenderer\",\"id\":\"p1144\",\"attributes\":{\"data_source\":{\"id\":\"p1084\"},\"view\":{\"type\":\"object\",\"name\":\"CDSView\",\"id\":\"p1145\",\"attributes\":{\"filter\":{\"type\":\"object\",\"name\":\"AllIndices\",\"id\":\"p1146\"}}},\"glyph\":{\"type\":\"object\",\"name\":\"Line\",\"id\":\"p1141\",\"attributes\":{\"x\":{\"type\":\"field\",\"field\":\"Model\"},\"y\":{\"type\":\"field\",\"field\":\"recall\"},\"line_color\":\"red\",\"line_width\":3}},\"nonselection_glyph\":{\"type\":\"object\",\"name\":\"Line\",\"id\":\"p1142\",\"attributes\":{\"x\":{\"type\":\"field\",\"field\":\"Model\"},\"y\":{\"type\":\"field\",\"field\":\"recall\"},\"line_color\":\"red\",\"line_alpha\":0.1,\"line_width\":3}},\"muted_glyph\":{\"type\":\"object\",\"name\":\"Line\",\"id\":\"p1143\",\"attributes\":{\"x\":{\"type\":\"field\",\"field\":\"Model\"},\"y\":{\"type\":\"field\",\"field\":\"recall\"},\"line_color\":\"red\",\"line_alpha\":0.2,\"line_width\":3}}}},{\"type\":\"object\",\"name\":\"GlyphRenderer\",\"id\":\"p1154\",\"attributes\":{\"data_source\":{\"id\":\"p1084\"},\"view\":{\"type\":\"object\",\"name\":\"CDSView\",\"id\":\"p1155\",\"attributes\":{\"filter\":{\"type\":\"object\",\"name\":\"AllIndices\",\"id\":\"p1156\"}}},\"glyph\":{\"type\":\"object\",\"name\":\"Line\",\"id\":\"p1151\",\"attributes\":{\"x\":{\"type\":\"field\",\"field\":\"Model\"},\"y\":{\"type\":\"field\",\"field\":\"f1_score\"},\"line_color\":\"purple\",\"line_width\":3}},\"nonselection_glyph\":{\"type\":\"object\",\"name\":\"Line\",\"id\":\"p1152\",\"attributes\":{\"x\":{\"type\":\"field\",\"field\":\"Model\"},\"y\":{\"type\":\"field\",\"field\":\"f1_score\"},\"line_color\":\"purple\",\"line_alpha\":0.1,\"line_width\":3}},\"muted_glyph\":{\"type\":\"object\",\"name\":\"Line\",\"id\":\"p1153\",\"attributes\":{\"x\":{\"type\":\"field\",\"field\":\"Model\"},\"y\":{\"type\":\"field\",\"field\":\"f1_score\"},\"line_color\":\"purple\",\"line_alpha\":0.2,\"line_width\":3}}}}],\"toolbar\":{\"type\":\"object\",\"name\":\"Toolbar\",\"id\":\"p1096\",\"attributes\":{\"tools\":[{\"type\":\"object\",\"name\":\"PanTool\",\"id\":\"p1110\"},{\"type\":\"object\",\"name\":\"WheelZoomTool\",\"id\":\"p1111\",\"attributes\":{\"renderers\":\"auto\"}},{\"type\":\"object\",\"name\":\"BoxZoomTool\",\"id\":\"p1112\",\"attributes\":{\"overlay\":{\"type\":\"object\",\"name\":\"BoxAnnotation\",\"id\":\"p1113\",\"attributes\":{\"syncable\":false,\"level\":\"overlay\",\"visible\":false,\"left_units\":\"canvas\",\"right_units\":\"canvas\",\"top_units\":\"canvas\",\"bottom_units\":\"canvas\",\"line_color\":\"black\",\"line_alpha\":1.0,\"line_width\":2,\"line_dash\":[4,4],\"fill_color\":\"lightgrey\",\"fill_alpha\":0.5}}}},{\"type\":\"object\",\"name\":\"SaveTool\",\"id\":\"p1114\"},{\"type\":\"object\",\"name\":\"ResetTool\",\"id\":\"p1115\"},{\"type\":\"object\",\"name\":\"HelpTool\",\"id\":\"p1116\"},{\"type\":\"object\",\"name\":\"HoverTool\",\"id\":\"p1158\",\"attributes\":{\"renderers\":\"auto\",\"tooltips\":[[\"Accuracy\",\"@accuracy\"],[\"Precision\",\"@precision\"],[\"Recall\",\"@recall\"],[\"F1-Score\",\"@f1_score\"]]}}]}},\"toolbar_location\":null,\"left\":[{\"type\":\"object\",\"name\":\"LinearAxis\",\"id\":\"p1105\",\"attributes\":{\"ticker\":{\"type\":\"object\",\"name\":\"BasicTicker\",\"id\":\"p1106\",\"attributes\":{\"mantissas\":[1,2,5]}},\"formatter\":{\"type\":\"object\",\"name\":\"BasicTickFormatter\",\"id\":\"p1107\"},\"axis_label\":\"Score\",\"major_label_policy\":{\"type\":\"object\",\"name\":\"AllLabels\",\"id\":\"p1108\"}}}],\"below\":[{\"type\":\"object\",\"name\":\"LinearAxis\",\"id\":\"p1100\",\"attributes\":{\"ticker\":{\"type\":\"object\",\"name\":\"BasicTicker\",\"id\":\"p1101\",\"attributes\":{\"num_minor_ticks\":2,\"mantissas\":[1,2,5]}},\"formatter\":{\"type\":\"object\",\"name\":\"BasicTickFormatter\",\"id\":\"p1102\"},\"axis_label\":\"Model\",\"major_label_policy\":{\"type\":\"object\",\"name\":\"AllLabels\",\"id\":\"p1103\"}}}],\"center\":[{\"type\":\"object\",\"name\":\"Grid\",\"id\":\"p1104\",\"attributes\":{\"axis\":{\"id\":\"p1100\"}}},{\"type\":\"object\",\"name\":\"Grid\",\"id\":\"p1109\",\"attributes\":{\"dimension\":1,\"axis\":{\"id\":\"p1105\"}}},{\"type\":\"object\",\"name\":\"Legend\",\"id\":\"p1126\",\"attributes\":{\"location\":\"bottom_right\",\"click_policy\":\"hide\",\"items\":[{\"type\":\"object\",\"name\":\"LegendItem\",\"id\":\"p1127\",\"attributes\":{\"label\":{\"type\":\"value\",\"value\":\"Accuracy\"},\"renderers\":[{\"id\":\"p1123\"}]}},{\"type\":\"object\",\"name\":\"LegendItem\",\"id\":\"p1137\",\"attributes\":{\"label\":{\"type\":\"value\",\"value\":\"Precision\"},\"renderers\":[{\"id\":\"p1134\"}]}},{\"type\":\"object\",\"name\":\"LegendItem\",\"id\":\"p1147\",\"attributes\":{\"label\":{\"type\":\"value\",\"value\":\"Recall\"},\"renderers\":[{\"id\":\"p1144\"}]}},{\"type\":\"object\",\"name\":\"LegendItem\",\"id\":\"p1157\",\"attributes\":{\"label\":{\"type\":\"value\",\"value\":\"F1-Score\"},\"renderers\":[{\"id\":\"p1154\"}]}}]}}]}}]}};\n  const render_items = [{\"docid\":\"c2f7d1e5-f308-4046-aad8-1578bca3e6eb\",\"roots\":{\"p1087\":\"b0ddd171-2aa3-480d-b66a-8a57287da4ec\"},\"root_ids\":[\"p1087\"]}];\n  root.Bokeh.embed.embed_items_notebook(docs_json, render_items);\n  }\n  if (root.Bokeh !== undefined) {\n    embed_document(root);\n  } else {\n    let attempts = 0;\n    const timer = setInterval(function(root) {\n      if (root.Bokeh !== undefined) {\n        clearInterval(timer);\n        embed_document(root);\n      } else {\n        attempts++;\n        if (attempts > 100) {\n          clearInterval(timer);\n          console.log(\"Bokeh: ERROR: Unable to run BokehJS code because BokehJS library is missing\");\n        }\n      }\n    }, 10, root)\n  }\n})(window);",
      "application/vnd.bokehjs_exec.v0+json": ""
     },
     "metadata": {
      "application/vnd.bokehjs_exec.v0+json": {
       "id": "p1087"
      }
     },
     "output_type": "display_data"
    }
   ],
   "source": [
    "#CHART \n",
    "source = ColumnDataSource(results_df)\n",
    "\n",
    "p1 = figure(width=600, height=400, title=\"Model Performance Metrics\", x_axis_label='Model', y_axis_label='Score', x_minor_ticks=2, y_range=(0, 1), toolbar_location=None)\n",
    "p1.line(x='Model', y='accuracy', color=\"green\", legend_label=\"Accuracy\", line_width=3, source=source)\n",
    "p1.line(x='Model', y='precision', color=\"blue\", legend_label=\"Precision\", line_width=3, source=source)\n",
    "p1.line(x='Model', y='recall', color=\"red\", legend_label=\"Recall\", line_width=3, source=source)\n",
    "p1.line(x='Model', y='f1_score', color=\"purple\", legend_label=\"F1-Score\", line_width=3, source=source)\n",
    "\n",
    "p1.legend.location = \"bottom_right\"\n",
    "p1.legend.click_policy=\"hide\"\n",
    "\n",
    "hover = HoverTool()\n",
    "hover.tooltips = [(\"Accuracy\", \"@accuracy\"), (\"Precision\", \"@precision\"), (\"Recall\", \"@recall\"), (\"F1-Score\", \"@f1_score\")]\n",
    "p1.add_tools(hover)\n",
    "\n",
    "show(p1)"
   ]
  },
  {
   "cell_type": "markdown",
   "metadata": {},
   "source": [
    "<h3 style=\"color:green;\">Interpret the chart</h3>\n",
    "<li>What can you say about the changes in precision and recall?</li>\n",
    "\n",
    "- Model 1: The initial model has zero precision and recall. This likely means that the model is predicting all instances as the negative class, which suggests it is not capturing any of the nuances of the data.\n",
    "- From Model 1 to Model 2: There's a significant increase in both precision and recall. However, the trade-off between precision and recall is evident here. The recall is at its peak, suggesting that the model is catching most of the positive instances. But, the precision is low, meaning among those predicted as positive, only a small fraction is actually positive.\n",
    "- From Model 2 to Model 3: Precision increases while recall decreases, indicating a shift towards making more accurate positive predictions at the cost of missing some actual positive instances.\n",
    "- From Model 3 to Model 4: Precision continues to rise slightly, but recall drops further. The model is becoming more conservative, ensuring its positive predictions are more reliable but catching fewer positive instances overall.\n",
    "- From Model 4 to Model 5: Precision drops slightly, but recall increases significantly. The model is attempting to identify more positive cases, but in doing so, it's making some incorrect positive predictions.\n",
    "- From Model 5 to Model 6: Precision improves, and recall drops marginally. The model is refining its predictions to be slightly more accurate.\n",
    "- From Model 6 to Model 7: Precision drops a tad, but recall sees a significant boost. The model is again leaning towards capturing more positive instances, even if it makes some mistakes in the process.\n",
    "\n",
    "There's a constant trade-off between precision and recall across the models. When one metric increases, the other tends to decrease. This is a classic challenge in machine learning, especially in imbalanced datasets. From the data, we can see that the F1-score is highest for Model 7, suggesting it might be the best compromise between precision and recall among the presented models."
   ]
  },
  {
   "cell_type": "markdown",
   "metadata": {},
   "source": [
    "<h3 style=\"color:green;\">Chart AUC and AP</h3>\n"
   ]
  },
  {
   "cell_type": "code",
   "execution_count": 84,
   "metadata": {},
   "outputs": [
    {
     "data": {
      "text/html": [
       "\n",
       "  <div id=\"bc65269c-7350-4a95-91f2-4e3fabd0b083\" data-root-id=\"p1170\" style=\"display: contents;\"></div>\n"
      ]
     },
     "metadata": {},
     "output_type": "display_data"
    },
    {
     "data": {
      "application/javascript": "(function(root) {\n  function embed_document(root) {\n  const docs_json = {\"f90b2673-4f44-42eb-8c53-b9b8abc65ed3\":{\"version\":\"3.3.0\",\"title\":\"Bokeh Application\",\"roots\":[{\"type\":\"object\",\"name\":\"Figure\",\"id\":\"p1170\",\"attributes\":{\"height\":400,\"x_range\":{\"type\":\"object\",\"name\":\"DataRange1d\",\"id\":\"p1172\"},\"y_range\":{\"type\":\"object\",\"name\":\"Range1d\",\"id\":\"p1180\"},\"x_scale\":{\"type\":\"object\",\"name\":\"LinearScale\",\"id\":\"p1181\"},\"y_scale\":{\"type\":\"object\",\"name\":\"LinearScale\",\"id\":\"p1182\"},\"title\":{\"type\":\"object\",\"name\":\"Title\",\"id\":\"p1173\",\"attributes\":{\"text\":\"Model Performance Metrics\"}},\"renderers\":[{\"type\":\"object\",\"name\":\"GlyphRenderer\",\"id\":\"p1206\",\"attributes\":{\"data_source\":{\"type\":\"object\",\"name\":\"ColumnDataSource\",\"id\":\"p1167\",\"attributes\":{\"selected\":{\"type\":\"object\",\"name\":\"Selection\",\"id\":\"p1168\",\"attributes\":{\"indices\":[],\"line_indices\":[]}},\"selection_policy\":{\"type\":\"object\",\"name\":\"UnionRenderers\",\"id\":\"p1169\"},\"data\":{\"type\":\"map\",\"entries\":[[\"Model\",{\"type\":\"ndarray\",\"array\":{\"type\":\"bytes\",\"data\":\"AQAAAAIAAAADAAAABAAAAAUAAAAGAAAABwAAAA==\"},\"shape\":[7],\"dtype\":\"int32\",\"order\":\"little\"}],[\"accuracy\",{\"type\":\"ndarray\",\"array\":{\"type\":\"bytes\",\"data\":\"/lsATt1M7D9Ohx31BgDiP665YJ5vpug/9OKonxCi6T9cInV7l2joP5dzHdJppuk/oygT4V0x6D8=\"},\"shape\":[7],\"dtype\":\"float64\",\"order\":\"little\"}],[\"precision\",{\"type\":\"ndarray\",\"array\":{\"type\":\"bytes\",\"data\":\"AAAAAAAAAAB0hBRF7ArGP7e5WjyGSM0/T8ERvMrLzz+kcdyzjTLPP+kD4v7jJNE/gCnFZw9czz8=\"},\"shape\":[7],\"dtype\":\"float64\",\"order\":\"little\"}],[\"recall\",{\"type\":\"ndarray\",\"array\":{\"type\":\"bytes\",\"data\":\"AAAAAAAAAAB72KBiQGfnP1muhfLjodo/tuq2fZvH1j8TPOTuFgLgP7icEGTBdNo/4LE2QlER4T8=\"},\"shape\":[7],\"dtype\":\"float64\",\"order\":\"little\"}],[\"f1_score\",{\"type\":\"ndarray\",\"array\":{\"type\":\"bytes\",\"data\":\"AAAAAAAAAACS+qK9ctfRPxzEFn4w5dI/ZANI0Qa60j+byAjBJvrUP5vK+RpBztQ/Hqq2qyV91T8=\"},\"shape\":[7],\"dtype\":\"float64\",\"order\":\"little\"}],[\"AUC\",{\"type\":\"ndarray\",\"array\":{\"type\":\"bytes\",\"data\":\"aEw/BL8s5j98FlayUjXmP6RkjX86HeY/ETur3iI65j9BrskYxWPnP4Tc5CFH9ec/NEwEcJTy5z8=\"},\"shape\":[7],\"dtype\":\"float64\",\"order\":\"little\"}],[\"AP\",{\"type\":\"ndarray\",\"array\":{\"type\":\"bytes\",\"data\":\"2hlIYIonzT82xF6lSGzNP1P3ZqL7TM0/JOo2DApIzT847i5fN13QP+qZ5Eh5l9A/PvDlh7yX0D8=\"},\"shape\":[7],\"dtype\":\"float64\",\"order\":\"little\"}]]}}},\"view\":{\"type\":\"object\",\"name\":\"CDSView\",\"id\":\"p1207\",\"attributes\":{\"filter\":{\"type\":\"object\",\"name\":\"AllIndices\",\"id\":\"p1208\"}}},\"glyph\":{\"type\":\"object\",\"name\":\"Line\",\"id\":\"p1203\",\"attributes\":{\"x\":{\"type\":\"field\",\"field\":\"Model\"},\"y\":{\"type\":\"field\",\"field\":\"AUC\"},\"line_color\":\"green\",\"line_width\":3}},\"nonselection_glyph\":{\"type\":\"object\",\"name\":\"Line\",\"id\":\"p1204\",\"attributes\":{\"x\":{\"type\":\"field\",\"field\":\"Model\"},\"y\":{\"type\":\"field\",\"field\":\"AUC\"},\"line_color\":\"green\",\"line_alpha\":0.1,\"line_width\":3}},\"muted_glyph\":{\"type\":\"object\",\"name\":\"Line\",\"id\":\"p1205\",\"attributes\":{\"x\":{\"type\":\"field\",\"field\":\"Model\"},\"y\":{\"type\":\"field\",\"field\":\"AUC\"},\"line_color\":\"green\",\"line_alpha\":0.2,\"line_width\":3}}}},{\"type\":\"object\",\"name\":\"GlyphRenderer\",\"id\":\"p1217\",\"attributes\":{\"data_source\":{\"id\":\"p1167\"},\"view\":{\"type\":\"object\",\"name\":\"CDSView\",\"id\":\"p1218\",\"attributes\":{\"filter\":{\"type\":\"object\",\"name\":\"AllIndices\",\"id\":\"p1219\"}}},\"glyph\":{\"type\":\"object\",\"name\":\"Line\",\"id\":\"p1214\",\"attributes\":{\"x\":{\"type\":\"field\",\"field\":\"Model\"},\"y\":{\"type\":\"field\",\"field\":\"AP\"},\"line_color\":\"blue\",\"line_width\":3}},\"nonselection_glyph\":{\"type\":\"object\",\"name\":\"Line\",\"id\":\"p1215\",\"attributes\":{\"x\":{\"type\":\"field\",\"field\":\"Model\"},\"y\":{\"type\":\"field\",\"field\":\"AP\"},\"line_color\":\"blue\",\"line_alpha\":0.1,\"line_width\":3}},\"muted_glyph\":{\"type\":\"object\",\"name\":\"Line\",\"id\":\"p1216\",\"attributes\":{\"x\":{\"type\":\"field\",\"field\":\"Model\"},\"y\":{\"type\":\"field\",\"field\":\"AP\"},\"line_color\":\"blue\",\"line_alpha\":0.2,\"line_width\":3}}}}],\"toolbar\":{\"type\":\"object\",\"name\":\"Toolbar\",\"id\":\"p1179\",\"attributes\":{\"tools\":[{\"type\":\"object\",\"name\":\"PanTool\",\"id\":\"p1193\"},{\"type\":\"object\",\"name\":\"WheelZoomTool\",\"id\":\"p1194\",\"attributes\":{\"renderers\":\"auto\"}},{\"type\":\"object\",\"name\":\"BoxZoomTool\",\"id\":\"p1195\",\"attributes\":{\"overlay\":{\"type\":\"object\",\"name\":\"BoxAnnotation\",\"id\":\"p1196\",\"attributes\":{\"syncable\":false,\"level\":\"overlay\",\"visible\":false,\"left_units\":\"canvas\",\"right_units\":\"canvas\",\"top_units\":\"canvas\",\"bottom_units\":\"canvas\",\"line_color\":\"black\",\"line_alpha\":1.0,\"line_width\":2,\"line_dash\":[4,4],\"fill_color\":\"lightgrey\",\"fill_alpha\":0.5}}}},{\"type\":\"object\",\"name\":\"SaveTool\",\"id\":\"p1197\"},{\"type\":\"object\",\"name\":\"ResetTool\",\"id\":\"p1198\"},{\"type\":\"object\",\"name\":\"HelpTool\",\"id\":\"p1199\"},{\"type\":\"object\",\"name\":\"HoverTool\",\"id\":\"p1221\",\"attributes\":{\"renderers\":\"auto\",\"tooltips\":[[\"AUC\",\"@AUC\"],[\"AP\",\"@AP\"]]}}]}},\"toolbar_location\":null,\"left\":[{\"type\":\"object\",\"name\":\"LinearAxis\",\"id\":\"p1188\",\"attributes\":{\"ticker\":{\"type\":\"object\",\"name\":\"BasicTicker\",\"id\":\"p1189\",\"attributes\":{\"mantissas\":[1,2,5]}},\"formatter\":{\"type\":\"object\",\"name\":\"BasicTickFormatter\",\"id\":\"p1190\"},\"axis_label\":\"Score\",\"major_label_policy\":{\"type\":\"object\",\"name\":\"AllLabels\",\"id\":\"p1191\"}}}],\"below\":[{\"type\":\"object\",\"name\":\"LinearAxis\",\"id\":\"p1183\",\"attributes\":{\"ticker\":{\"type\":\"object\",\"name\":\"BasicTicker\",\"id\":\"p1184\",\"attributes\":{\"num_minor_ticks\":2,\"mantissas\":[1,2,5]}},\"formatter\":{\"type\":\"object\",\"name\":\"BasicTickFormatter\",\"id\":\"p1185\"},\"axis_label\":\"Model\",\"major_label_policy\":{\"type\":\"object\",\"name\":\"AllLabels\",\"id\":\"p1186\"}}}],\"center\":[{\"type\":\"object\",\"name\":\"Grid\",\"id\":\"p1187\",\"attributes\":{\"axis\":{\"id\":\"p1183\"}}},{\"type\":\"object\",\"name\":\"Grid\",\"id\":\"p1192\",\"attributes\":{\"dimension\":1,\"axis\":{\"id\":\"p1188\"}}},{\"type\":\"object\",\"name\":\"Legend\",\"id\":\"p1209\",\"attributes\":{\"location\":\"bottom_right\",\"click_policy\":\"hide\",\"items\":[{\"type\":\"object\",\"name\":\"LegendItem\",\"id\":\"p1210\",\"attributes\":{\"label\":{\"type\":\"value\",\"value\":\"AUC\"},\"renderers\":[{\"id\":\"p1206\"}]}},{\"type\":\"object\",\"name\":\"LegendItem\",\"id\":\"p1220\",\"attributes\":{\"label\":{\"type\":\"value\",\"value\":\"AP\"},\"renderers\":[{\"id\":\"p1217\"}]}}]}}]}}]}};\n  const render_items = [{\"docid\":\"f90b2673-4f44-42eb-8c53-b9b8abc65ed3\",\"roots\":{\"p1170\":\"bc65269c-7350-4a95-91f2-4e3fabd0b083\"},\"root_ids\":[\"p1170\"]}];\n  root.Bokeh.embed.embed_items_notebook(docs_json, render_items);\n  }\n  if (root.Bokeh !== undefined) {\n    embed_document(root);\n  } else {\n    let attempts = 0;\n    const timer = setInterval(function(root) {\n      if (root.Bokeh !== undefined) {\n        clearInterval(timer);\n        embed_document(root);\n      } else {\n        attempts++;\n        if (attempts > 100) {\n          clearInterval(timer);\n          console.log(\"Bokeh: ERROR: Unable to run BokehJS code because BokehJS library is missing\");\n        }\n      }\n    }, 10, root)\n  }\n})(window);",
      "application/vnd.bokehjs_exec.v0+json": ""
     },
     "metadata": {
      "application/vnd.bokehjs_exec.v0+json": {
       "id": "p1170"
      }
     },
     "output_type": "display_data"
    }
   ],
   "source": [
    "#CHART\n",
    "source = ColumnDataSource(results_df)\n",
    "\n",
    "p1 = figure(width=600, height=400, title=\"Model Performance Metrics\", x_axis_label='Model', y_axis_label='Score', x_minor_ticks=2, y_range=(0, 1), toolbar_location=None)\n",
    "p1.line(x='Model', y='AUC', color=\"green\", legend_label=\"AUC\", line_width=3, source=source)\n",
    "p1.line(x='Model', y='AP', color=\"blue\", legend_label=\"AP\", line_width=3, source=source)\n",
    "\n",
    "p1.legend.location = \"bottom_right\"\n",
    "p1.legend.click_policy=\"hide\"\n",
    "\n",
    "hover = HoverTool()\n",
    "hover.tooltips = [(\"AUC\", \"@AUC\"), (\"AP\", \"@AP\")]\n",
    "p1.add_tools(hover)\n",
    "\n",
    "show(p1)"
   ]
  },
  {
   "cell_type": "markdown",
   "metadata": {},
   "source": [
    "<h3 style=\"color:green;\">Interpret the AUC/AP chart</h3>\n",
    "<li>The AUC on the first 4 models is pretty much the same. What does that mean?</li>\n",
    "<ul><li>The first four models' discriminatory power is nearly the same, i.e. the models are equally adept at ranking a randomly chosen bad loan (positive instance) higher than a randomly chosen good loan (negative instance).</li>\n",
    "<li>It's possible that the features and the SGDClassifier model have reached a saturation point. Beyond this point, they might not provide additional discriminatory power in predicting bad loans.</li>\n",
    "<li>The consistent AUC values also suggest that the models are stable. They are not overly sensitive to small changes, which can be reassuring. It means that in a production setting, small variations in incoming data might not wildly swing predictions.</li>\n",
    "    </ul>\n",
    "<li>The average precision improves steadily but almost entirely by getting better at recall than at precision. What does that mean?</li>\n",
    "<ul>\n",
    "<li>The increase in recall indicates that the models are getting better at correctly identifying bad loans from the total actual bad loans. This can be particularly crucial for lending institutions, as failing to identify a bad loan (false negative) can result in significant financial losses.</li>\n",
    "<li>The steady improvement in AP indicates that, overall, the model's precision is not deteriorating rapidly as recall increases. This is a good sign, especially if the costs associated with false positives (wrongly predicted bad loans) are lower than the costs of false negatives (missed bad loans).</li></ul>\n",
    "\n",
    "<li>Finally, what can you do to get better results? </li>\n",
    "<ul>\n",
    "    <li>Instead of using a default 0.5 threshold, optimize the threshold based on a desired balance between precision and recall or based on a cost matrix.</li>\n",
    "    <li>Calibrate the probabilities using techniques like Platt Scaling or Isotonic Regression to ensure they are well-calibrated.</li>\n",
    "    <li>Use techniques like recursive feature elimination, feature importance from tree-based models, or correlation analysis to select relevant features.</li></ul>\n",
    "    "
   ]
  },
  {
   "cell_type": "code",
   "execution_count": null,
   "metadata": {},
   "outputs": [],
   "source": []
  }
 ],
 "metadata": {
  "kernelspec": {
   "display_name": "Python 3 (ipykernel)",
   "language": "python",
   "name": "python3"
  },
  "language_info": {
   "codemirror_mode": {
    "name": "ipython",
    "version": 3
   },
   "file_extension": ".py",
   "mimetype": "text/x-python",
   "name": "python",
   "nbconvert_exporter": "python",
   "pygments_lexer": "ipython3",
   "version": "3.10.12"
  },
  "toc": {
   "base_numbering": 1,
   "nav_menu": {},
   "number_sections": true,
   "sideBar": true,
   "skip_h1_title": false,
   "title_cell": "Table of Contents",
   "title_sidebar": "Contents",
   "toc_cell": false,
   "toc_position": {},
   "toc_section_display": true,
   "toc_window_display": false
  }
 },
 "nbformat": 4,
 "nbformat_minor": 4
}
