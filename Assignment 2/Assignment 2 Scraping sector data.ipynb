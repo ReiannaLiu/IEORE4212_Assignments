{
 "cells": [
  {
   "cell_type": "markdown",
   "metadata": {},
   "source": [
    "<h1>Scraping morningstar.com</h1>\n",
    "In this assignment, you will scrape data from morningstar.com. The goal of the exercise is to get the latest sector performance data from the US markets. \n",
    "\n",
    "The end result is to write a function: <i>get_us_sector_performance()</i> that will return a list of tuples. Each tuple should correspond to a sector and should contain the following data:\n",
    "<li>the sector name\n",
    "<li>the amount the sector has moved\n",
    "<li>a link to the morningstar detail page for that sector\n",
    "\n",
    "<p>\n",
    "The data should be sorted by decreasing order of change. I.e., the sector with the highest change should be in the first tuple, etc."
   ]
  },
  {
   "cell_type": "markdown",
   "metadata": {},
   "source": [
    "<h2>Sample output (as of 9/13/2023)</h2>\n",
    "<pre>\n",
    "[('Utilities', 1.13, 'https://morningstar.com//indexes/ixus/mus/quote'),\n",
    " ('Consumer Cyclical',\n",
    "  0.54,\n",
    "  'https://morningstar.com//indexes/ixus/mccs/quote'),\n",
    " ('Technology', 0.23, 'https://morningstar.com//indexes/ixus/mts/quote'),\n",
    " ('Defensive', 0.17, 'https://morningstar.com//indexes/ixus/mssemdss/quote'),\n",
    " ('Consumer Defensive',\n",
    "  0.13,\n",
    "  'https://morningstar.com//indexes/ixus/mcds/quote'),\n",
    " ('Communication Services',\n",
    "  0.05,\n",
    "  'https://morningstar.com//indexes/ixus/mcss/quote'),\n",
    " ('Cyclical', 0.04, 'https://morningstar.com//indexes/ixus/mssemcss/quote'),\n",
    " ('Healthcare', -0.01, 'https://morningstar.com//indexes/ixus/mhs/quote'),\n",
    " ('Sensitive', -0.04, 'https://morningstar.com//indexes/ixus/mssemsss/quote'),\n",
    " ('Financial Services',\n",
    "  -0.16,\n",
    "  'https://morningstar.com//indexes/ixus/mfss/quote'),\n",
    " ('Basic Materials',\n",
    "  -0.55,\n",
    "  'https://morningstar.com//indexes/ixus/mbms/quote'),\n",
    " ('Industrials', -0.7, 'https://morningstar.com//indexes/ixus/mis/quote'),\n",
    " ('Energy', -0.81, 'https://morningstar.com//indexes/ixus/mes/quote'),\n",
    " ('Real Estate', -1.05, 'https://morningstar.com//indexes/ixus/mrets/quote')]\n",
    "</pre>"
   ]
  },
  {
   "cell_type": "markdown",
   "metadata": {},
   "source": [
    "<b>Notes:</b>\n",
    "<li>Note that the sector change is a string with a % sign at the back. You will need to get rid of the % and convert the string into a float before you can sort it. Note also that the names of sectors as well as the changes contain a series of special characters (\\n or \\t) and you need to get rid of these (see below)</li>\n",
    "<li>To sort a list of tuples by an arbitrary element, use the example at the bottom of this notebook"
   ]
  },
  {
   "cell_type": "markdown",
   "metadata": {},
   "source": [
    "<h3>IMPORTANT: Dealing with negative change values</h3>\n",
    "Morningstar is using a special character for the negative sign in negative numbers. Since this is not the ordinary python negative sign, you cannot convert this into a float. "
   ]
  },
  {
   "cell_type": "code",
   "execution_count": 1,
   "metadata": {},
   "outputs": [
    {
     "name": "stdout",
     "output_type": "stream",
     "text": [
      "unicode for morningstar 8722\n",
      "unicode for normal 45\n"
     ]
    }
   ],
   "source": [
    "#The function \"ord\" returns the character unicode equivalent of a char\n",
    "#The following code shows that the two are different\n",
    "morningstar_negative = \"−23.25\"\n",
    "morningstar_neg_sign = morningstar_negative[0]\n",
    "print(\"unicode for morningstar\",ord(morningstar_neg_sign))\n",
    "normal_negative = \"-23.25\"\n",
    "normal_negative_sign = normal_negative[0]\n",
    "print(\"unicode for normal\",ord(normal_negative_sign))"
   ]
  },
  {
   "cell_type": "code",
   "execution_count": 2,
   "metadata": {},
   "outputs": [
    {
     "ename": "ValueError",
     "evalue": "could not convert string to float: '−23.25'",
     "output_type": "error",
     "traceback": [
      "\u001b[1;31m---------------------------------------------------------------------------\u001b[0m",
      "\u001b[1;31mValueError\u001b[0m                                Traceback (most recent call last)",
      "\u001b[1;32md:\\Fall2023\\IEORE4212 Data Analytics & Machine Learning for OR\\IEORE4212_Assignments\\Assignment 2 Scraping sector data.ipynb Cell 6\u001b[0m line \u001b[0;36m2\n\u001b[0;32m      <a href='vscode-notebook-cell:/d%3A/Fall2023/IEORE4212%20Data%20Analytics%20%26%20Machine%20Learning%20for%20OR/IEORE4212_Assignments/Assignment%202%20Scraping%20sector%20data.ipynb#W5sZmlsZQ%3D%3D?line=0'>1</a>\u001b[0m morningstar_negative \u001b[39m=\u001b[39m \u001b[39m\"\u001b[39m\u001b[39m−23.25\u001b[39m\u001b[39m\"\u001b[39m\n\u001b[1;32m----> <a href='vscode-notebook-cell:/d%3A/Fall2023/IEORE4212%20Data%20Analytics%20%26%20Machine%20Learning%20for%20OR/IEORE4212_Assignments/Assignment%202%20Scraping%20sector%20data.ipynb#W5sZmlsZQ%3D%3D?line=1'>2</a>\u001b[0m \u001b[39mfloat\u001b[39;49m(morningstar_negative) \u001b[39m#Throws an exception\u001b[39;00m\n",
      "\u001b[1;31mValueError\u001b[0m: could not convert string to float: '−23.25'"
     ]
    }
   ],
   "source": [
    "morningstar_negative = \"−23.25\"\n",
    "float(morningstar_negative) #Throws an exception"
   ]
  },
  {
   "cell_type": "code",
   "execution_count": 3,
   "metadata": {},
   "outputs": [
    {
     "data": {
      "text/plain": [
       "-23.25"
      ]
     },
     "execution_count": 3,
     "metadata": {},
     "output_type": "execute_result"
    }
   ],
   "source": [
    "#Use the following code to fix this \n",
    "#Though the two negative signs look the same, they are different\n",
    "proper_negative = morningstar_negative.replace(\"−\",\"-\")\n",
    "float(proper_negative) #This works"
   ]
  },
  {
   "cell_type": "markdown",
   "metadata": {},
   "source": [
    "<h2>TIP: Extracting the url</h2>\n"
   ]
  },
  {
   "cell_type": "raw",
   "metadata": {},
   "source": [
    "In html, urls are contained in an a tag in the following form:\n",
    "\n",
    "<a href=\"https://www.columbia.edu\">Columbia University</a>\n",
    "\n",
    "To extract the url, find the a tag and use the get function to extract the url. See the following example"
   ]
  },
  {
   "cell_type": "code",
   "execution_count": 4,
   "metadata": {},
   "outputs": [
    {
     "name": "stdout",
     "output_type": "stream",
     "text": [
      "https://www.columbia.edu\n"
     ]
    }
   ],
   "source": [
    "from bs4 import BeautifulSoup\n",
    "page_data = '<html><body><a href=\"https://www.columbia.edu\">Columbia University</a></body></html>'\n",
    "soup = BeautifulSoup(page_data)\n",
    "url = soup.find('a').get('href')\n",
    "print(url)"
   ]
  },
  {
   "cell_type": "code",
   "execution_count": 5,
   "metadata": {},
   "outputs": [],
   "source": [
    "#Function scaffold\n",
    "\n",
    "def get_sector_performance():\n",
    "    import requests\n",
    "    from bs4 import BeautifulSoup\n",
    "    sector_performance_list = list()\n",
    "    url = 'https://www.morningstar.com/markets'\n",
    "    page = requests.get(url)\n",
    "    soup = BeautifulSoup(page.text, 'html.parser')\n",
    "\n",
    "    sector_body = soup.find('div', class_='mdc-sectors')\n",
    "    sector_rows = sector_body.find_all('tr', class_='mds-data-table__row', role='row')\n",
    "    for sector_row in sector_rows:\n",
    "        base_url = \"https://www.morningstar.com\"\n",
    "        cols = sector_row.find_all('td')\n",
    "        if len(cols) == 0:\n",
    "            continue\n",
    "        sector_name = cols[1].text.strip()\n",
    "        sector_move = float(cols[2].text.strip().replace(\"−\",\"-\")[:-1])\n",
    "        sector_link = base_url + cols[1].find('a').get('href')\n",
    "        sector_performance_list.append((sector_name,sector_move,sector_link))\n",
    "    return sector_performance_list"
   ]
  },
  {
   "cell_type": "code",
   "execution_count": 6,
   "metadata": {},
   "outputs": [
    {
     "data": {
      "text/plain": [
       "[('Real Estate',\n",
       "  -0.44,\n",
       "  'https://www.morningstar.com/indexes/ixus/mrets/quote'),\n",
       " ('Utilities', -0.46, 'https://www.morningstar.com/indexes/ixus/mus/quote'),\n",
       " ('Financial Services',\n",
       "  -0.48,\n",
       "  'https://www.morningstar.com/indexes/ixus/mfss/quote'),\n",
       " ('Industrials', -0.63, 'https://www.morningstar.com/indexes/ixus/mis/quote'),\n",
       " ('Defensive',\n",
       "  -0.73,\n",
       "  'https://www.morningstar.com/indexes/ixus/mssemdss/quote'),\n",
       " ('Healthcare', -0.75, 'https://www.morningstar.com/indexes/ixus/mhs/quote'),\n",
       " ('Consumer Defensive',\n",
       "  -0.78,\n",
       "  'https://www.morningstar.com/indexes/ixus/mcds/quote'),\n",
       " ('Cyclical',\n",
       "  -1.02,\n",
       "  'https://www.morningstar.com/indexes/ixus/mssemcss/quote'),\n",
       " ('Basic Materials',\n",
       "  -1.02,\n",
       "  'https://www.morningstar.com/indexes/ixus/mbms/quote'),\n",
       " ('Communication Services',\n",
       "  -1.19,\n",
       "  'https://www.morningstar.com/indexes/ixus/mcss/quote'),\n",
       " ('Energy', -1.32, 'https://www.morningstar.com/indexes/ixus/mes/quote'),\n",
       " ('Sensitive',\n",
       "  -1.48,\n",
       "  'https://www.morningstar.com/indexes/ixus/mssemsss/quote'),\n",
       " ('Consumer Cyclical',\n",
       "  -1.68,\n",
       "  'https://www.morningstar.com/indexes/ixus/mccs/quote'),\n",
       " ('Technology', -1.93, 'https://www.morningstar.com/indexes/ixus/mts/quote')]"
      ]
     },
     "execution_count": 6,
     "metadata": {},
     "output_type": "execute_result"
    }
   ],
   "source": [
    "#Test your function\n",
    "sorted(get_sector_performance(),key=lambda k: k[1],reverse=True)"
   ]
  },
  {
   "cell_type": "markdown",
   "metadata": {},
   "source": [
    "<h3>Sorting</h3>\n",
    "<li>the <span style=\"color:red\">sort</span> function sorts a list \"in-place\". I.e., the list itself changes so that the contents are in sorted order</li>\n",
    "<li>the <span style=\"color:red\">sorted</span> function returns a new sorted list</li>\n",
    "<li>both functions take arguments that determine the key (<span style=\"color:red\">key=</span>) and the order. Ascending is the default order, to flip it use <span style=\"color:red\">reverse=True</span></li>\n",
    "<li>sort and sorted will only work if the data is sortable. For example, sorted([1,9,2,8,11,'a']) will not work because an integer and a string cannot be ordered. In Python, the order operator is the < (less than) sign</li>"
   ]
  },
  {
   "cell_type": "code",
   "execution_count": 7,
   "metadata": {},
   "outputs": [
    {
     "name": "stdout",
     "output_type": "stream",
     "text": [
      "[1, 2, 8, 9, 11]\n",
      "[11, 9, 8, 2, 1]\n",
      "[1, 9, 2, 8, 11]\n",
      "[1, 2, 8, 9, 11]\n"
     ]
    }
   ],
   "source": [
    "x = [1,9,2,8,11]\n",
    "x.sort()\n",
    "print(x) #x is now a sorted list\n",
    "x.sort(reverse=True)\n",
    "print(x) #x is not sorted in descending order\n",
    "\n",
    "y = [1,9,2,8,11]\n",
    "sorted(y)\n",
    "print(y) #y is unchanged because sorted(y) returned a new list\n",
    "\n",
    "z = sorted(y)\n",
    "print(z) #z contains the sorted contents of y"
   ]
  },
  {
   "cell_type": "markdown",
   "metadata": {},
   "source": [
    "<h3>comparing tuples</h3"
   ]
  },
  {
   "cell_type": "code",
   "execution_count": 8,
   "metadata": {},
   "outputs": [
    {
     "data": {
      "text/plain": [
       "True"
      ]
     },
     "execution_count": 8,
     "metadata": {},
     "output_type": "execute_result"
    }
   ],
   "source": [
    "(1,2,3,5) < (1,2,4,1) \n",
    "#Python does an element wise comparison, somewhat like when strings are compared\n",
    "#When sorting tuples (or lists), that element wise comparison is used to determine ordering"
   ]
  },
  {
   "cell_type": "code",
   "execution_count": 9,
   "metadata": {},
   "outputs": [
    {
     "data": {
      "text/plain": [
       "[('a', 23.2, 'b'),\n",
       " ('c', 17.4, 'f'),\n",
       " ('d', 29.2, 'a'),\n",
       " ('d', 29.2, 'z'),\n",
       " ('e', 1.74, 'bb')]"
      ]
     },
     "execution_count": 9,
     "metadata": {},
     "output_type": "execute_result"
    }
   ],
   "source": [
    "\n",
    "x = [('c',17.4,'f'),('e',1.74,'bb'),('d',29.2,'z'),('a',23.2,'b'),('d',29.2,'a')]\n",
    "x.sort() #Sorts using tuple comparison, going left to right. Note the order of the 'd' tuples\n",
    "x"
   ]
  },
  {
   "cell_type": "markdown",
   "metadata": {},
   "source": [
    "<li>When a key is specified, sort (and sorted) will only use that key\n",
    "<li>In the example below, note that the two 'd' tuples are not re-ordered (because 'z' and 'a' are not compared)\n",
    "<li>sort and sorted are stable sort functions. If two elements are \"equal\" (per the sorting rule), they will be returned in the same order as they were in the original array"
   ]
  },
  {
   "cell_type": "markdown",
   "metadata": {},
   "source": [
    "<h1>lambda functions</h1>\n",
    "<li>lambda functions are anonymous functions, created on the fly, and typically meant to be used once</li>\n",
    "<li>since they are unnamed, they are not callable but are meant to be used in context</li>\n",
    "<li>but, since python functions are first order functions, you can give them a name</li>\n",
    "\n",
    "<li>lambda functions can have only one expression and they return whatever the expression returns</li>\n",
    "<li>the if .. else .. structure in a lambda function is in the form of an \"expression if\"</li>\n",
    "<li>multiple arguments are separated by a comma</li>\n",
    "\n",
    "\n"
   ]
  },
  {
   "cell_type": "code",
   "execution_count": 10,
   "metadata": {},
   "outputs": [
    {
     "data": {
      "text/plain": [
       "10"
      ]
     },
     "execution_count": 10,
     "metadata": {},
     "output_type": "execute_result"
    }
   ],
   "source": [
    "#Example\n",
    "#Three arguments, a,b, c separated by commas\n",
    "#The function returns a if (condition 1) else it returns b if (condition 2); else it returns c\n",
    "#Note the expression if structure\n",
    "#No return statement. Something is always returned!\n",
    "\n",
    "func = lambda a,b,c: a if a>b and a>c else b if b>a and b>c else c\n",
    "func(10,3,8)"
   ]
  },
  {
   "cell_type": "code",
   "execution_count": 11,
   "metadata": {},
   "outputs": [
    {
     "data": {
      "text/plain": [
       "[('e', 1.74, 'bb'),\n",
       " ('c', 17.4, 'f'),\n",
       " ('a', 23.2, 'b'),\n",
       " ('d', 29.2, 'z'),\n",
       " ('d', 29.2, 'a')]"
      ]
     },
     "execution_count": 11,
     "metadata": {},
     "output_type": "execute_result"
    }
   ],
   "source": [
    "x = [('c',17.4,'f'),('e',1.74,'bb'),('d',29.2,'z'),('a',23.2,'b'),('d',29.2,'a')]\n",
    "x.sort(key=lambda k: k[1]) \n",
    "x"
   ]
  },
  {
   "cell_type": "code",
   "execution_count": 12,
   "metadata": {},
   "outputs": [
    {
     "data": {
      "text/plain": [
       "[('e', 1.74, 'bb'),\n",
       " ('c', 17.4, 'f'),\n",
       " ('a', 23.2, 'b'),\n",
       " ('d', 29.2, 'z'),\n",
       " ('d', 29.2, 'a')]"
      ]
     },
     "execution_count": 12,
     "metadata": {},
     "output_type": "execute_result"
    }
   ],
   "source": [
    "#Alternatively, for the sort (and max, min) function\n",
    "#itemgetter returns the item at the specified index in a collection\n",
    "#the key= below tells sort to use the element at location 1 when comparing elements in x\n",
    "\n",
    "from operator import itemgetter\n",
    "x = [('c',17.4,'f'),('e',1.74,'bb'),('d',29.2,'z'),('a',23.2,'b'),('d',29.2,'a')]\n",
    "x.sort(key=itemgetter(1)) \n",
    "x"
   ]
  },
  {
   "cell_type": "markdown",
   "metadata": {},
   "source": [
    "<h1>Cleaning a string</h1>\n",
    "<li>The function <span style=\"color:blue\">strip</span> cleans a string by removing all leading and trailing special characters and spaces</li>\n",
    "<li>In the example below, since % is not a special character, it is not removed from the string"
   ]
  },
  {
   "cell_type": "code",
   "execution_count": 13,
   "metadata": {},
   "outputs": [
    {
     "name": "stdout",
     "output_type": "stream",
     "text": [
      " \n",
      "\n",
      "\t42%\n",
      "42%\n"
     ]
    }
   ],
   "source": [
    "sample_string = \" \\n\\n\\t42%\"\n",
    "print(sample_string) #The string will be indented and will contain blank lines\n",
    "cleaned_string = sample_string.strip()\n",
    "print(cleaned_string)"
   ]
  },
  {
   "cell_type": "markdown",
   "metadata": {},
   "source": [
    "<h1>string to float</h1>\n",
    "<li>The <span style=\"color:blue\">float</span> function converts a string to a float</li>\n",
    "<li>For the function to not throw an exception, the string must be convertible</li>\n",
    "<li>For example, the string \"42\" is convertible but \"42%\" is not, since the % is not a number</li> \n",
    "<li>Get rid of the % by slicing the string and removing the %</li>"
   ]
  },
  {
   "cell_type": "code",
   "execution_count": 14,
   "metadata": {},
   "outputs": [
    {
     "ename": "ValueError",
     "evalue": "could not convert string to float: '42%'",
     "output_type": "error",
     "traceback": [
      "\u001b[1;31m---------------------------------------------------------------------------\u001b[0m",
      "\u001b[1;31mValueError\u001b[0m                                Traceback (most recent call last)",
      "\u001b[1;32md:\\Fall2023\\IEORE4212 Data Analytics & Machine Learning for OR\\IEORE4212_Assignments\\Assignment 2 Scraping sector data.ipynb Cell 26\u001b[0m line \u001b[0;36m2\n\u001b[0;32m      <a href='vscode-notebook-cell:/d%3A/Fall2023/IEORE4212%20Data%20Analytics%20%26%20Machine%20Learning%20for%20OR/IEORE4212_Assignments/Assignment%202%20Scraping%20sector%20data.ipynb#X34sZmlsZQ%3D%3D?line=0'>1</a>\u001b[0m sample_string \u001b[39m=\u001b[39m \u001b[39m\"\u001b[39m\u001b[39m42\u001b[39m\u001b[39m%\u001b[39m\u001b[39m\"\u001b[39m\n\u001b[1;32m----> <a href='vscode-notebook-cell:/d%3A/Fall2023/IEORE4212%20Data%20Analytics%20%26%20Machine%20Learning%20for%20OR/IEORE4212_Assignments/Assignment%202%20Scraping%20sector%20data.ipynb#X34sZmlsZQ%3D%3D?line=1'>2</a>\u001b[0m sample_float \u001b[39m=\u001b[39m \u001b[39mfloat\u001b[39;49m(sample_string) \u001b[39m#This will throw an exception\u001b[39;00m\n",
      "\u001b[1;31mValueError\u001b[0m: could not convert string to float: '42%'"
     ]
    }
   ],
   "source": [
    "sample_string = \"42%\"\n",
    "sample_float = float(sample_string) #This will throw an exception"
   ]
  },
  {
   "cell_type": "code",
   "execution_count": 15,
   "metadata": {},
   "outputs": [
    {
     "name": "stdout",
     "output_type": "stream",
     "text": [
      "42.0\n"
     ]
    }
   ],
   "source": [
    "sample_string = \"42%\"\n",
    "sample_float = float(sample_string[:-1]) #This will not throw an exception since we're dropping the last character\n",
    "print(sample_float)"
   ]
  },
  {
   "cell_type": "code",
   "execution_count": null,
   "metadata": {},
   "outputs": [],
   "source": []
  }
 ],
 "metadata": {
  "kernelspec": {
   "display_name": "Python 3 (ipykernel)",
   "language": "python",
   "name": "python3"
  },
  "language_info": {
   "codemirror_mode": {
    "name": "ipython",
    "version": 3
   },
   "file_extension": ".py",
   "mimetype": "text/x-python",
   "name": "python",
   "nbconvert_exporter": "python",
   "pygments_lexer": "ipython3",
   "version": "3.10.12"
  },
  "toc": {
   "base_numbering": 1,
   "nav_menu": {},
   "number_sections": true,
   "sideBar": true,
   "skip_h1_title": false,
   "title_cell": "Table of Contents",
   "title_sidebar": "Contents",
   "toc_cell": false,
   "toc_position": {},
   "toc_section_display": true,
   "toc_window_display": false
  }
 },
 "nbformat": 4,
 "nbformat_minor": 2
}
