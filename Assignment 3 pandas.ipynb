{
 "cells": [
  {
   "cell_type": "markdown",
   "metadata": {},
   "source": [
    "<h1>Home Assignment injunctions!</h1>\n",
    "<li>No Loops. Use only elementwise operations</li>\n",
    "<li>Your code should work for any data in the provided format. Data values (example, customer ids, product ids, number of customers, etc.) should NEVER appear in your code!</li>"
   ]
  },
  {
   "cell_type": "markdown",
   "metadata": {},
   "source": [
    "<h1>Problem 1:</h1>\n",
    "Write a function that reads timeseries pricing data from a file into a pandas dataframe and then groups the data as follows:\n",
    "<li>The arguments to the function are the filename and a threshold number\n",
    "<li>The function reads the data in the file and creates a new column \"pct_change\" with the one day percent change\n",
    "<li>Then groups the data into four categories:\n",
    "<ul>\n",
    "<li>\"High+\" if the percent change is greater than the threshold \n",
    "<li>\"Low+\" if the percent change is zero or positive and less than or equal to the threshold \n",
    "<li>\"Low-\" if the percent change is negative but greater than or equal to -1 * the threshold\n",
    "<li>\"High-\" if the percent change is less than -1 * the threshold\n",
    "</ul>\n",
    "<li>The function should return a dataframe that contains three columns (count, mean, stdev) and four index values (High+, High-, Low+, Low-)\n",
    "    <p><b>Note: </b>we have to deal with nan percent changes. Make sure that you don't count a NaN in any of the four categories! (see https://pandas.pydata.org/docs/reference/api/pandas.isna.html)  <p>\n",
    "For the sample data your function should return a dataframe with the following values for a threshold of 1.0:\n",
    "\n",
    "<pre>\n",
    "        count\tmean\tstdev\n",
    "High+\t63\t   2.201357\t1.403010\n",
    "High-\t58\t  -2.227977\t1.133905\n",
    "Low+\t70\t   0.466946\t0.292076\n",
    "Low-\t60\t  -0.506772\t0.278789\n",
    "\n",
    "</pre>\n",
    "\n",
    "    "
   ]
  },
  {
   "cell_type": "markdown",
   "metadata": {},
   "source": [
    "<h3>read_csv</h3>\n",
    "The pandas <a href=\"https://pandas.pydata.org/pandas-docs/stable/reference/api/pandas.read_csv.html\">read_csv</a> function reads data from a delimited file into a pandas dataframe.\n",
    "\n"
   ]
  },
  {
   "cell_type": "markdown",
   "metadata": {},
   "source": [
    "<h2>Sample data</h2>\n",
    "Use the attached AAPL.csv file"
   ]
  },
  {
   "cell_type": "code",
   "execution_count": 1,
   "metadata": {},
   "outputs": [],
   "source": [
    "import pandas as pd\n",
    "import numpy as np\n",
    "def change_groups(datafile,threshold):\n",
    "    # read in datafile\n",
    "    data_df = pd.read_csv(datafile)\n",
    "\n",
    "    # create pct_change column\n",
    "    data_df[\"pct_change\"] = data_df[\"Adj Close\"].pct_change(1) * 100\n",
    "\n",
    "    # define custom grouping function\n",
    "    pct_groupfunc = lambda row: (\n",
    "        \"High+\" if data_df.loc[row, 'pct_change'] > threshold else\n",
    "        \"Low+\" if 0 <= data_df.loc[row, 'pct_change'] <= threshold else\n",
    "        \"Low-\" if -1 * threshold <= data_df.loc[row, 'pct_change'] < 0 else\n",
    "        \"High-\"\n",
    "    )\n",
    "\n",
    "    # drop rows where 'pct_change' is NaNs \n",
    "    data_df = data_df.dropna(subset=[\"pct_change\"])\n",
    "\n",
    "    # group by custom function\n",
    "    pct_groups = data_df.groupby(pct_groupfunc)\n",
    "\n",
    "    # create summary dataframe\n",
    "    summary_df = pd.DataFrame({\n",
    "        \"count\": pct_groups[\"pct_change\"].count(),\n",
    "        \"mean\": pct_groups[\"pct_change\"].mean(),\n",
    "        \"stdev\": pct_groups[\"pct_change\"].std(),\n",
    "    })\n",
    "    return summary_df"
   ]
  },
  {
   "cell_type": "code",
   "execution_count": 2,
   "metadata": {},
   "outputs": [
    {
     "data": {
      "text/html": [
       "<div>\n",
       "<style scoped>\n",
       "    .dataframe tbody tr th:only-of-type {\n",
       "        vertical-align: middle;\n",
       "    }\n",
       "\n",
       "    .dataframe tbody tr th {\n",
       "        vertical-align: top;\n",
       "    }\n",
       "\n",
       "    .dataframe thead th {\n",
       "        text-align: right;\n",
       "    }\n",
       "</style>\n",
       "<table border=\"1\" class=\"dataframe\">\n",
       "  <thead>\n",
       "    <tr style=\"text-align: right;\">\n",
       "      <th></th>\n",
       "      <th>count</th>\n",
       "      <th>mean</th>\n",
       "      <th>stdev</th>\n",
       "    </tr>\n",
       "  </thead>\n",
       "  <tbody>\n",
       "    <tr>\n",
       "      <th>High+</th>\n",
       "      <td>63</td>\n",
       "      <td>2.201357</td>\n",
       "      <td>1.403010</td>\n",
       "    </tr>\n",
       "    <tr>\n",
       "      <th>High-</th>\n",
       "      <td>58</td>\n",
       "      <td>-2.227977</td>\n",
       "      <td>1.133905</td>\n",
       "    </tr>\n",
       "    <tr>\n",
       "      <th>Low+</th>\n",
       "      <td>70</td>\n",
       "      <td>0.466946</td>\n",
       "      <td>0.292076</td>\n",
       "    </tr>\n",
       "    <tr>\n",
       "      <th>Low-</th>\n",
       "      <td>60</td>\n",
       "      <td>-0.506772</td>\n",
       "      <td>0.278789</td>\n",
       "    </tr>\n",
       "  </tbody>\n",
       "</table>\n",
       "</div>"
      ],
      "text/plain": [
       "       count      mean     stdev\n",
       "High+     63  2.201357  1.403010\n",
       "High-     58 -2.227977  1.133905\n",
       "Low+      70  0.466946  0.292076\n",
       "Low-      60 -0.506772  0.278789"
      ]
     },
     "execution_count": 2,
     "metadata": {},
     "output_type": "execute_result"
    }
   ],
   "source": [
    "#Test your code\n",
    "change_groups(\"Resources/AAPL.csv\",1.0)"
   ]
  },
  {
   "cell_type": "markdown",
   "metadata": {},
   "source": [
    "<h1>Problem 2</h1>\n",
    "A manufacturer has data on orders from customers and product prices in two dataframes (see below). They want to use this data to answer the following questions:\n",
    "<ol>\n",
    "    <li>Which customer is responsible for the most revenue</li>\n",
    "    <li>Which customer is responsible for the highest profit</li>\n",
    "    <li>Which product is responsible for the highest (dollar) profit</li>\n",
    "    <li>Which customer and product combination is responsible for the most orders</li>\n",
    "</ol>\n",
    "<p>\n",
    "Obviously, your code should work for any actual data values and pandas dataframes of any length!\n",
    "<p>For the data below: your answers should be:\n",
    "    \n",
    "<pre>\n",
    "Customer with most profit: 005\n",
    "Customer with most revenue: 007\n",
    "Product with most profit: 011\n",
    "Customer 001 with product 010 with 4 orders is the most ordered customer product pair\n",
    "</pre>\n"
   ]
  },
  {
   "cell_type": "markdown",
   "metadata": {},
   "source": [
    "<h2>Useful functions:</h2>\n",
    "<li><a href=\"https://pandas.pydata.org/pandas-docs/stable/reference/api/pandas.DataFrame.sort_values.html\">pd.sort_values</a> </li>\n",
    "<li><a href=\"https://pandas.pydata.org/pandas-docs/stable/reference/api/pandas.DataFrame.join.html\">pandas dataframe join</a> the last example on the linked page is probably what you need here!</li>\n",
    "<li><a href=\"https://pandas.pydata.org/pandas-docs/stable/reference/api/pandas.DataFrame.groupby.html\">pd.groupby</a></li>\n",
    "<li><a href=\"https://pandas.pydata.org/docs/reference/api/pandas.DataFrame.join.html\">pandas join</a></li>"
   ]
  },
  {
   "cell_type": "code",
   "execution_count": 3,
   "metadata": {},
   "outputs": [],
   "source": [
    "import pandas as pd\n",
    "import numpy as np\n",
    "order_data = pd.DataFrame([[\"001\",\"010\",24],\n",
    "                           [\"007\",\"012\",35],\n",
    "                           [\"001\",\"011\",15],\n",
    "                           [\"005\",\"010\",30],\n",
    "                           [\"007\",\"011\",17],\n",
    "                           [\"005\",\"011\",81],\n",
    "                           [\"001\",\"010\",32],\n",
    "                           [\"007\",\"012\",89],\n",
    "                           [\"001\",\"010\",16],\n",
    "                           [\"001\",\"010\",33]],columns=[\"customer\",\"product\",\"amount\"])\n",
    "products = pd.DataFrame([['010',22.3,17.2],\n",
    "                        ['011',11.7,5.5],\n",
    "                        ['012',62.5,61.4]],columns=['product','price','cost'])                     "
   ]
  },
  {
   "cell_type": "code",
   "execution_count": 4,
   "metadata": {},
   "outputs": [],
   "source": [
    "order_product = order_data.merge(products,how=\"left\",on=\"product\")\n",
    "order_product[\"revenue\"] = order_product[\"amount\"] * order_product[\"price\"]\n",
    "order_product[\"profit\"] = order_product[\"revenue\"] - order_product[\"amount\"] * order_product[\"cost\"]"
   ]
  },
  {
   "cell_type": "code",
   "execution_count": 5,
   "metadata": {},
   "outputs": [
    {
     "name": "stdout",
     "output_type": "stream",
     "text": [
      "Customer with most profit: 005\n",
      "Customer with most revenue: 007\n",
      "Product with most profit: 011\n",
      "Customer 001 with product 010 with 4 orders is the most ordered customer product pair\n"
     ]
    }
   ],
   "source": [
    "print(f\"Customer with most profit: {order_product.groupby('customer').sum()['profit'].idxmax()}\")\n",
    "print(f\"Customer with most revenue: {order_product.groupby('customer').sum()['revenue'].idxmax()}\")\n",
    "print(f\"Product with most profit: {order_product.groupby('product').sum()['profit'].idxmax()}\")\n",
    "print(f\"Customer {order_product.groupby(['customer','product']).count()['amount'].idxmax()[0]} with product {order_product.groupby(['customer','product']).count()['amount'].idxmax()[1]} with {order_product.groupby(['customer','product']).count()['amount'].max()} orders is the most ordered customer product pair\")"
   ]
  },
  {
   "cell_type": "markdown",
   "metadata": {},
   "source": [
    "<h1>Problem 3</h1>\n",
    "In this problem you'll get some practice getting and combining data from the St. Louis Federal Reserve (FRED). Get the following data from FRED (01/01/2010 to 12/31/2022):\n",
    "\n",
    "<pre>\n",
    "\"TB3MS\" #3 month t-bill market yield \n",
    "\"DGS10\" #10 year constant maturity government bond market yield\n",
    "\"NB000334Q\" #Real GDP index quarterly (index = 100 at 2012)\n",
    "\"CPIAUCSL\" #Consumer price index for all urban consumers seasonally adjusted\n",
    "</pre>\n",
    "\n",
    "You will need to register with the federal reserve and get an API key. \n",
    "\n",
    "1. Create a new account at https://fredaccount.stlouisfed.org/login/secure/\n",
    "2. Go to My Account (top right corner) once you're logged in and select the Api-key option. Copy the API key and save it in a variable in your notebook\n",
    "\n",
    "Since these data items have different frequencies (some are daily, some monthly, some quarterly), make separate fred api calls for each. \n",
    "\n",
    "Then, as a proxy for the stock market, get data for the ticker SPY,the S&P ETF, from yfinance. \n",
    "\n",
    "Align all the data to the end of the business quarter (i.e., use the value on the last day of each quarter).\n",
    "\n",
    "For the ETF, calculate one day percent changes and shift the data back by one quarter (we're interested in the correlation between macroeconomic data in one quarter and the performance of the S&P in the next quarter). For example, if the quarterly percentage change on 3/31 is 5% and on 6/30 is 2.5% (i.e., the change in value between 3/31 and 6/30), we want to align the percent change on 6/30 with the the macroeconomic data as of 3/31. So we need to replace the data on 3/31 by 2.5%\n",
    "\n",
    "Using the pandas join function, join all the data into one dataframe with the quarter end date as the index\n",
    "\n",
    "Generate the correlation matrix. This is what you should get:\n",
    "\n",
    "<pre>\n",
    "            TB3MS\t     DGS10\t    NB000334Q\t CPIAUCSL\t   SPY\n",
    "TB3MS   \t1.000000\t0.409817\t0.063098\t0.049515\t-0.079082\n",
    "DGS10\t    0.409817\t1.000000\t0.056068\t0.060827\t-0.329453\n",
    "NB000334Q\t0.063098\t0.056068\t1.000000\t0.162265\t-0.009601\n",
    "CPIAUCSL\t0.049515\t0.060827\t0.162265\t1.000000\t-0.398615\n",
    "SPY\t        -0.079082\t-0.329453\t-0.009601\t-0.398615\t1.000000\n",
    "\n",
    "</pre>\n",
    "\n",
    "<h3>Notes:</h3>\n",
    "\n",
    "1. positive numbers will shift forward while negative numbers will shift backward\n",
    "\n",
    "    \n",
    "2. To rename a column, use df.rename(columns={\"old_name\":\"new_name\"})\n",
    "\n",
    "3. To join two dataframes use:\n",
    "    new_df = old_df1.join(old_df2)"
   ]
  },
  {
   "cell_type": "markdown",
   "metadata": {},
   "source": [
    "<h3>Install fredapi</h3>"
   ]
  },
  {
   "cell_type": "code",
   "execution_count": 6,
   "metadata": {},
   "outputs": [],
   "source": [
    "# !pip install fredapi"
   ]
  },
  {
   "cell_type": "markdown",
   "metadata": {},
   "source": [
    "<h3>Using the api</h3>\n",
    "<li>Make sure you have the api key</li>\n",
    "<li>Then use the example below to get data</li>"
   ]
  },
  {
   "cell_type": "code",
   "execution_count": 7,
   "metadata": {},
   "outputs": [],
   "source": [
    "\n",
    "with open(\"credentials/fred.txt\") as f:\n",
    "    API_KEY = f.read().strip()"
   ]
  },
  {
   "cell_type": "code",
   "execution_count": 8,
   "metadata": {},
   "outputs": [
    {
     "data": {
      "text/plain": [
       "2010-01-01    0.06\n",
       "2010-02-01    0.11\n",
       "2010-03-01    0.15\n",
       "2010-04-01    0.16\n",
       "2010-05-01    0.16\n",
       "              ... \n",
       "2022-08-01    2.63\n",
       "2022-09-01    3.13\n",
       "2022-10-01    3.72\n",
       "2022-11-01    4.15\n",
       "2022-12-01    4.25\n",
       "Length: 156, dtype: float64"
      ]
     },
     "execution_count": 8,
     "metadata": {},
     "output_type": "execute_result"
    }
   ],
   "source": [
    "#Import fredapi and datetime\n",
    "import fredapi as fa\n",
    "import datetime as datetime\n",
    "\n",
    "#Copy your key into \n",
    "#Create a fred object that knows the api key\n",
    "#Each request will then automatically contain that key\n",
    "fred = fa.Fred(api_key=API_KEY)\n",
    "\n",
    "#Get a data series\n",
    "#For example, to get the TB3MS series use\n",
    "start = datetime.datetime(month=1,day=1,year=2010)\n",
    "end=datetime.datetime(month=12,day=31,year=2022)\n",
    "\n",
    "fred.get_series(\"TB3MS\",observation_start=start,observation_end=end)"
   ]
  },
  {
   "cell_type": "markdown",
   "metadata": {},
   "source": [
    "<h3>Problem setup</h3>"
   ]
  },
  {
   "cell_type": "code",
   "execution_count": 9,
   "metadata": {},
   "outputs": [
    {
     "name": "stdout",
     "output_type": "stream",
     "text": [
      "[*********************100%%**********************]  1 of 1 completed\n"
     ]
    }
   ],
   "source": [
    "import fredapi as fa\n",
    "fred = fa.Fred(api_key=API_KEY)\n",
    "\n",
    "#Date range\n",
    "import datetime\n",
    "import numpy as np\n",
    "start = datetime.datetime(month=1,day=1,year=2010)\n",
    "end = datetime.datetime(month=12,day=31,year=2022)\n",
    "\n",
    "#DATA IDENTIFIERS\n",
    "tbill3 = \"TB3MS\" #3 month t-bill market yield \n",
    "tnote10 = \"DGS10\" #10 year constant maturity market yield\n",
    "gdp_index = \"NB000334Q\" #Real GDP index quarterly (index = 100 at 2012)\n",
    "cpi = \"CPIAUCSL\" #Consumer price for all urban consumers seasonally adjusted\n",
    "\n",
    "import yfinance as yf\n",
    "#Setting up SPY dataframe\n",
    "spy_df = yf.download(\"SPY\", start=start, end=end)[\"Adj Close\"].pct_change().resample('Q').last().shift(-1).to_frame()\n",
    "spy_df.rename(columns={\"Adj Close\":\"SPY\"}, inplace=True)\n",
    "\n",
    "#Setting up tbill3 dataframe\n",
    "tbill3_df = fred.get_series(tbill3, observation_start=start, observation_end=end).resample('Q').last().to_frame(tbill3)\n",
    "\n",
    "#Setting up tnote10 dataframe\n",
    "tnote10_df = fred.get_series(tnote10, observation_start=start, observation_end=end).resample('Q').last().to_frame(tnote10)\n",
    "\n",
    "#Setting up gdp_index dataframe\n",
    "gdp_index_df = fred.get_series(gdp_index, observation_start=start, observation_end=end).resample('Q').last().to_frame(gdp_index)\n",
    "\n",
    "#Setting up cpi dataframe\n",
    "cpi_df = fred.get_series(cpi, observation_start=start, observation_end=end).resample('Q').last().to_frame(cpi)"
   ]
  },
  {
   "cell_type": "code",
   "execution_count": 10,
   "metadata": {},
   "outputs": [
    {
     "data": {
      "text/html": [
       "<div>\n",
       "<style scoped>\n",
       "    .dataframe tbody tr th:only-of-type {\n",
       "        vertical-align: middle;\n",
       "    }\n",
       "\n",
       "    .dataframe tbody tr th {\n",
       "        vertical-align: top;\n",
       "    }\n",
       "\n",
       "    .dataframe thead th {\n",
       "        text-align: right;\n",
       "    }\n",
       "</style>\n",
       "<table border=\"1\" class=\"dataframe\">\n",
       "  <thead>\n",
       "    <tr style=\"text-align: right;\">\n",
       "      <th></th>\n",
       "      <th>TB3MS</th>\n",
       "      <th>DGS10</th>\n",
       "      <th>NB000334Q</th>\n",
       "      <th>CPIAUCSL</th>\n",
       "      <th>SPY</th>\n",
       "    </tr>\n",
       "  </thead>\n",
       "  <tbody>\n",
       "    <tr>\n",
       "      <th>TB3MS</th>\n",
       "      <td>1.000000</td>\n",
       "      <td>0.409817</td>\n",
       "      <td>0.594268</td>\n",
       "      <td>0.568997</td>\n",
       "      <td>0.056633</td>\n",
       "    </tr>\n",
       "    <tr>\n",
       "      <th>DGS10</th>\n",
       "      <td>0.409817</td>\n",
       "      <td>1.000000</td>\n",
       "      <td>-0.166219</td>\n",
       "      <td>-0.081883</td>\n",
       "      <td>-0.186375</td>\n",
       "    </tr>\n",
       "    <tr>\n",
       "      <th>NB000334Q</th>\n",
       "      <td>0.594268</td>\n",
       "      <td>-0.166219</td>\n",
       "      <td>1.000000</td>\n",
       "      <td>0.924669</td>\n",
       "      <td>-0.143251</td>\n",
       "    </tr>\n",
       "    <tr>\n",
       "      <th>CPIAUCSL</th>\n",
       "      <td>0.568997</td>\n",
       "      <td>-0.081883</td>\n",
       "      <td>0.924669</td>\n",
       "      <td>1.000000</td>\n",
       "      <td>-0.184764</td>\n",
       "    </tr>\n",
       "    <tr>\n",
       "      <th>SPY</th>\n",
       "      <td>0.056633</td>\n",
       "      <td>-0.186375</td>\n",
       "      <td>-0.143251</td>\n",
       "      <td>-0.184764</td>\n",
       "      <td>1.000000</td>\n",
       "    </tr>\n",
       "  </tbody>\n",
       "</table>\n",
       "</div>"
      ],
      "text/plain": [
       "              TB3MS     DGS10  NB000334Q  CPIAUCSL       SPY\n",
       "TB3MS      1.000000  0.409817   0.594268  0.568997  0.056633\n",
       "DGS10      0.409817  1.000000  -0.166219 -0.081883 -0.186375\n",
       "NB000334Q  0.594268 -0.166219   1.000000  0.924669 -0.143251\n",
       "CPIAUCSL   0.568997 -0.081883   0.924669  1.000000 -0.184764\n",
       "SPY        0.056633 -0.186375  -0.143251 -0.184764  1.000000"
      ]
     },
     "execution_count": 10,
     "metadata": {},
     "output_type": "execute_result"
    }
   ],
   "source": [
    "combined_df = tbill3_df.join(tnote10_df).join(gdp_index_df).join(cpi_df).join(spy_df)\n",
    "\n",
    "combined_df.corr()"
   ]
  },
  {
   "cell_type": "markdown",
   "metadata": {},
   "source": []
  }
 ],
 "metadata": {
  "kernelspec": {
   "display_name": "Python 3 (ipykernel)",
   "language": "python",
   "name": "python3"
  },
  "language_info": {
   "codemirror_mode": {
    "name": "ipython",
    "version": 3
   },
   "file_extension": ".py",
   "mimetype": "text/x-python",
   "name": "python",
   "nbconvert_exporter": "python",
   "pygments_lexer": "ipython3",
   "version": "3.10.12"
  },
  "toc": {
   "base_numbering": 1,
   "nav_menu": {},
   "number_sections": true,
   "sideBar": true,
   "skip_h1_title": false,
   "title_cell": "Table of Contents",
   "title_sidebar": "Contents",
   "toc_cell": false,
   "toc_position": {},
   "toc_section_display": true,
   "toc_window_display": false
  }
 },
 "nbformat": 4,
 "nbformat_minor": 2
}
