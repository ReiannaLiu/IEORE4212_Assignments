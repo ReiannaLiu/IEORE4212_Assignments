{
 "cells": [
  {
   "cell_type": "markdown",
   "id": "be72adc8",
   "metadata": {},
   "source": [
    "<h1>Rocks vs. Mines</h1>\n",
    "This is a practice assignment and the requirements are fairly straightforward. If you find yourself spinning your wheels, you're probably doing something wrong! Use our handwritten digit class example as a reference"
   ]
  },
  {
   "cell_type": "markdown",
   "id": "4d668f5a",
   "metadata": {},
   "source": [
    "<h3>About the data</h3>\n",
    "The data contains sonar signal data collected after they are bounced off two kinds of objects (underwater). The objects are either rocks or mines and the sonar signals are sent at 60 different frequencies. The value returned is then recorded. The goal of the exercise is to build a model that can figure out whether an object is a rock or a mine\n"
   ]
  },
  {
   "cell_type": "markdown",
   "id": "1f1865e4",
   "metadata": {},
   "source": [
    "<h2>Get the data</h2>"
   ]
  },
  {
   "cell_type": "code",
   "execution_count": 1,
   "id": "dbcaeb1e",
   "metadata": {},
   "outputs": [
    {
     "name": "stderr",
     "output_type": "stream",
     "text": [
      "/Users/reianna/anaconda3/lib/python3.10/site-packages/sklearn/datasets/_openml.py:968: FutureWarning: The default value of `parser` will change from `'liac-arff'` to `'auto'` in 1.4. You can set `parser='auto'` to silence this warning. Therefore, an `ImportError` will be raised from 1.4 if the dataset is dense and pandas is not installed. Note that the pandas parser may return different data types. See the Notes Section in fetch_openml's API doc for details.\n",
      "  warn(\n"
     ]
    }
   ],
   "source": [
    "\n",
    "from sklearn.datasets import fetch_openml\n",
    "sonar = fetch_openml('sonar')"
   ]
  },
  {
   "cell_type": "markdown",
   "id": "f4b841b0",
   "metadata": {},
   "source": [
    "<h2>Organize the data and create training and testing samples</h2>\n",
    "<li>Use 10% of the data for testing and 90% for training (very little data!)</li>\n",
    "<li>Rocks should be 1 (positive) and Mines 0 (negative)</li>\n",
    "<li>X_train,X_test,y_train,y_test</li>"
   ]
  },
  {
   "cell_type": "code",
   "execution_count": 2,
   "id": "41a632cd",
   "metadata": {},
   "outputs": [],
   "source": [
    "x, y = sonar['data'], sonar['target']\n",
    "\n",
    "df = x.assign(target=y)\n",
    "\n",
    "from sklearn.model_selection import train_test_split\n",
    "train, test = train_test_split(df, test_size=0.1, random_state=42)\n",
    "\n",
    "train['y'] = (train['target'] == 'Rock')\n",
    "test['y'] = (test['target'] == 'Rock')\n",
    "\n",
    "train = train.sample(frac=1, random_state=42)\n",
    "\n",
    "x_train = train.iloc[:, 0:60]\n",
    "y_train = train['y']\n",
    "\n",
    "x_test = test.iloc[:, 0:60]\n",
    "y_test = test['y']"
   ]
  },
  {
   "cell_type": "markdown",
   "id": "66e844f7",
   "metadata": {},
   "source": [
    "<h2>Fit a logisticregression model</h2>\n",
    "<li>For this run, don't give any parameters to the model</li>\n",
    "<li>https://scikit-learn.org/stable/modules/generated/sklearn.linear_model.LogisticRegression.html</li>"
   ]
  },
  {
   "cell_type": "code",
   "execution_count": 3,
   "id": "6c83f74f",
   "metadata": {},
   "outputs": [
    {
     "data": {
      "text/html": [
       "<style>#sk-container-id-1 {color: black;background-color: white;}#sk-container-id-1 pre{padding: 0;}#sk-container-id-1 div.sk-toggleable {background-color: white;}#sk-container-id-1 label.sk-toggleable__label {cursor: pointer;display: block;width: 100%;margin-bottom: 0;padding: 0.3em;box-sizing: border-box;text-align: center;}#sk-container-id-1 label.sk-toggleable__label-arrow:before {content: \"▸\";float: left;margin-right: 0.25em;color: #696969;}#sk-container-id-1 label.sk-toggleable__label-arrow:hover:before {color: black;}#sk-container-id-1 div.sk-estimator:hover label.sk-toggleable__label-arrow:before {color: black;}#sk-container-id-1 div.sk-toggleable__content {max-height: 0;max-width: 0;overflow: hidden;text-align: left;background-color: #f0f8ff;}#sk-container-id-1 div.sk-toggleable__content pre {margin: 0.2em;color: black;border-radius: 0.25em;background-color: #f0f8ff;}#sk-container-id-1 input.sk-toggleable__control:checked~div.sk-toggleable__content {max-height: 200px;max-width: 100%;overflow: auto;}#sk-container-id-1 input.sk-toggleable__control:checked~label.sk-toggleable__label-arrow:before {content: \"▾\";}#sk-container-id-1 div.sk-estimator input.sk-toggleable__control:checked~label.sk-toggleable__label {background-color: #d4ebff;}#sk-container-id-1 div.sk-label input.sk-toggleable__control:checked~label.sk-toggleable__label {background-color: #d4ebff;}#sk-container-id-1 input.sk-hidden--visually {border: 0;clip: rect(1px 1px 1px 1px);clip: rect(1px, 1px, 1px, 1px);height: 1px;margin: -1px;overflow: hidden;padding: 0;position: absolute;width: 1px;}#sk-container-id-1 div.sk-estimator {font-family: monospace;background-color: #f0f8ff;border: 1px dotted black;border-radius: 0.25em;box-sizing: border-box;margin-bottom: 0.5em;}#sk-container-id-1 div.sk-estimator:hover {background-color: #d4ebff;}#sk-container-id-1 div.sk-parallel-item::after {content: \"\";width: 100%;border-bottom: 1px solid gray;flex-grow: 1;}#sk-container-id-1 div.sk-label:hover label.sk-toggleable__label {background-color: #d4ebff;}#sk-container-id-1 div.sk-serial::before {content: \"\";position: absolute;border-left: 1px solid gray;box-sizing: border-box;top: 0;bottom: 0;left: 50%;z-index: 0;}#sk-container-id-1 div.sk-serial {display: flex;flex-direction: column;align-items: center;background-color: white;padding-right: 0.2em;padding-left: 0.2em;position: relative;}#sk-container-id-1 div.sk-item {position: relative;z-index: 1;}#sk-container-id-1 div.sk-parallel {display: flex;align-items: stretch;justify-content: center;background-color: white;position: relative;}#sk-container-id-1 div.sk-item::before, #sk-container-id-1 div.sk-parallel-item::before {content: \"\";position: absolute;border-left: 1px solid gray;box-sizing: border-box;top: 0;bottom: 0;left: 50%;z-index: -1;}#sk-container-id-1 div.sk-parallel-item {display: flex;flex-direction: column;z-index: 1;position: relative;background-color: white;}#sk-container-id-1 div.sk-parallel-item:first-child::after {align-self: flex-end;width: 50%;}#sk-container-id-1 div.sk-parallel-item:last-child::after {align-self: flex-start;width: 50%;}#sk-container-id-1 div.sk-parallel-item:only-child::after {width: 0;}#sk-container-id-1 div.sk-dashed-wrapped {border: 1px dashed gray;margin: 0 0.4em 0.5em 0.4em;box-sizing: border-box;padding-bottom: 0.4em;background-color: white;}#sk-container-id-1 div.sk-label label {font-family: monospace;font-weight: bold;display: inline-block;line-height: 1.2em;}#sk-container-id-1 div.sk-label-container {text-align: center;}#sk-container-id-1 div.sk-container {/* jupyter's `normalize.less` sets `[hidden] { display: none; }` but bootstrap.min.css set `[hidden] { display: none !important; }` so we also need the `!important` here to be able to override the default hidden behavior on the sphinx rendered scikit-learn.org. See: https://github.com/scikit-learn/scikit-learn/issues/21755 */display: inline-block !important;position: relative;}#sk-container-id-1 div.sk-text-repr-fallback {display: none;}</style><div id=\"sk-container-id-1\" class=\"sk-top-container\"><div class=\"sk-text-repr-fallback\"><pre>LogisticRegression(random_state=42)</pre><b>In a Jupyter environment, please rerun this cell to show the HTML representation or trust the notebook. <br />On GitHub, the HTML representation is unable to render, please try loading this page with nbviewer.org.</b></div><div class=\"sk-container\" hidden><div class=\"sk-item\"><div class=\"sk-estimator sk-toggleable\"><input class=\"sk-toggleable__control sk-hidden--visually\" id=\"sk-estimator-id-1\" type=\"checkbox\" checked><label for=\"sk-estimator-id-1\" class=\"sk-toggleable__label sk-toggleable__label-arrow\">LogisticRegression</label><div class=\"sk-toggleable__content\"><pre>LogisticRegression(random_state=42)</pre></div></div></div></div></div>"
      ],
      "text/plain": [
       "LogisticRegression(random_state=42)"
      ]
     },
     "execution_count": 3,
     "metadata": {},
     "output_type": "execute_result"
    }
   ],
   "source": [
    "from sklearn.linear_model import LogisticRegression\n",
    "\n",
    "#Create a model object. Parameters of the model object are known as hyper parameters\n",
    "clf = LogisticRegression(random_state=42)\n",
    "\n",
    "#Fit the data to the model. This estimates the model parameters \n",
    "clf.fit(x_train, y_train)"
   ]
  },
  {
   "cell_type": "markdown",
   "id": "1a231359",
   "metadata": {},
   "source": [
    "<h2>Calculate precision, recall and accuracy</h2>"
   ]
  },
  {
   "cell_type": "code",
   "execution_count": 6,
   "id": "51a7f62f",
   "metadata": {},
   "outputs": [
    {
     "name": "stdout",
     "output_type": "stream",
     "text": [
      "precision:  0.8571428571428571\n",
      "recall:  0.75\n",
      "accuracy:  0.8571428571428571\n",
      "\n",
      "\n",
      "\n"
     ]
    }
   ],
   "source": [
    "from sklearn.metrics import precision_score, recall_score, accuracy_score\n",
    "\n",
    "y_pred = clf.predict(x_test)\n",
    "\n",
    "precision = precision_score(y_test, y_pred)\n",
    "recall = recall_score(y_test, y_pred)\n",
    "accuracy = accuracy_score(y_test, y_pred)\n",
    "print(\"precision: \", precision) \n",
    "print(\"recall: \",recall) \n",
    "print(\"accuracy: \", accuracy) \n",
    "print(\"\\n\\n\")"
   ]
  },
  {
   "cell_type": "markdown",
   "id": "a2713272",
   "metadata": {},
   "source": [
    "<h2>Comment on these numbers</h2>\n",
    "<li>Keep in mind that, if you need to get across the minefield, you don't want to step on a rock and then discover that it is a mine!</li>\n",
    "<li>Which statistic should you focus more on, precision or accuracy?</li>\n",
    "<li>What role will recall play in determining if you have a reasonable model</li>"
   ]
  },
  {
   "cell_type": "markdown",
   "id": "0eecccd7",
   "metadata": {},
   "source": [
    "<h4>Your comment here</h4>\n"
   ]
  },
  {
   "cell_type": "markdown",
   "id": "5287e8b5",
   "metadata": {},
   "source": [
    "<h2>Draw the precision recall curve</h2>"
   ]
  },
  {
   "cell_type": "code",
   "execution_count": 7,
   "id": "3cc3450b",
   "metadata": {},
   "outputs": [
    {
     "data": {
      "text/plain": [
       "<sklearn.metrics._plot.precision_recall_curve.PrecisionRecallDisplay at 0x148a86fb0>"
      ]
     },
     "execution_count": 7,
     "metadata": {},
     "output_type": "execute_result"
    },
    {
     "data": {
      "image/png": "[encoded data removed]",
      "text/plain": [
       "<Figure size 640x480 with 1 Axes>"
      ]
     },
     "metadata": {},
     "output_type": "display_data"
    }
   ],
   "source": [
    "from sklearn.metrics import PrecisionRecallDisplay\n",
    "PrecisionRecallDisplay.from_estimator(clf, x_train, y_train)"
   ]
  },
  {
   "cell_type": "markdown",
   "id": "aa984219",
   "metadata": {},
   "source": [
    "<h2>Draw the ROC curve</h2>"
   ]
  },
  {
   "cell_type": "code",
   "execution_count": null,
   "id": "0638aa3e",
   "metadata": {},
   "outputs": [],
   "source": [
    "from sklearn.metrics import RocCurveDisplay\n",
    "RocCurveDisplay.from_estimator(clf, x_test, y_test)\n"
   ]
  },
  {
   "cell_type": "markdown",
   "id": "eda800c1",
   "metadata": {},
   "source": [
    "<h2>The solver</h2>\n",
    "Logistic regression is a form of regression used to predict the class a case belongs to. In the case of binomial logistic regression, two classes are predicted (usually classified as 0 and 1 since we're dealing with numbers) and that's what we're using in our rocks and mines example\n",
    "\n",
    "The actual regression (details at https://scikit-learn.org/stable/modules/linear_model.html#logistic-regression) is linear, of course. And linear regression is, in practice, done using one of a number of heuristic algorithms. By default, sklearn uses lbfgs (since you asked: Limited Memory Broyden–Fletcher–Goldfarb–Shanno algorithm). Since we have many independent variables (60, to be precise) another algorithm, liblinear (Library for Large Linear Classification) may be more suitable since it is designed for problems with many independent variables. You can change the algorithm by passing the solver argument to your model. Let's try that and see what we get "
   ]
  },
  {
   "cell_type": "markdown",
   "id": "5d9471ff",
   "metadata": {},
   "source": [
    "<h2>Fit a new model using liblinear solver</h2>"
   ]
  },
  {
   "cell_type": "code",
   "execution_count": 8,
   "id": "96ad7030",
   "metadata": {},
   "outputs": [
    {
     "data": {
      "text/html": [
       "<style>#sk-container-id-2 {color: black;background-color: white;}#sk-container-id-2 pre{padding: 0;}#sk-container-id-2 div.sk-toggleable {background-color: white;}#sk-container-id-2 label.sk-toggleable__label {cursor: pointer;display: block;width: 100%;margin-bottom: 0;padding: 0.3em;box-sizing: border-box;text-align: center;}#sk-container-id-2 label.sk-toggleable__label-arrow:before {content: \"▸\";float: left;margin-right: 0.25em;color: #696969;}#sk-container-id-2 label.sk-toggleable__label-arrow:hover:before {color: black;}#sk-container-id-2 div.sk-estimator:hover label.sk-toggleable__label-arrow:before {color: black;}#sk-container-id-2 div.sk-toggleable__content {max-height: 0;max-width: 0;overflow: hidden;text-align: left;background-color: #f0f8ff;}#sk-container-id-2 div.sk-toggleable__content pre {margin: 0.2em;color: black;border-radius: 0.25em;background-color: #f0f8ff;}#sk-container-id-2 input.sk-toggleable__control:checked~div.sk-toggleable__content {max-height: 200px;max-width: 100%;overflow: auto;}#sk-container-id-2 input.sk-toggleable__control:checked~label.sk-toggleable__label-arrow:before {content: \"▾\";}#sk-container-id-2 div.sk-estimator input.sk-toggleable__control:checked~label.sk-toggleable__label {background-color: #d4ebff;}#sk-container-id-2 div.sk-label input.sk-toggleable__control:checked~label.sk-toggleable__label {background-color: #d4ebff;}#sk-container-id-2 input.sk-hidden--visually {border: 0;clip: rect(1px 1px 1px 1px);clip: rect(1px, 1px, 1px, 1px);height: 1px;margin: -1px;overflow: hidden;padding: 0;position: absolute;width: 1px;}#sk-container-id-2 div.sk-estimator {font-family: monospace;background-color: #f0f8ff;border: 1px dotted black;border-radius: 0.25em;box-sizing: border-box;margin-bottom: 0.5em;}#sk-container-id-2 div.sk-estimator:hover {background-color: #d4ebff;}#sk-container-id-2 div.sk-parallel-item::after {content: \"\";width: 100%;border-bottom: 1px solid gray;flex-grow: 1;}#sk-container-id-2 div.sk-label:hover label.sk-toggleable__label {background-color: #d4ebff;}#sk-container-id-2 div.sk-serial::before {content: \"\";position: absolute;border-left: 1px solid gray;box-sizing: border-box;top: 0;bottom: 0;left: 50%;z-index: 0;}#sk-container-id-2 div.sk-serial {display: flex;flex-direction: column;align-items: center;background-color: white;padding-right: 0.2em;padding-left: 0.2em;position: relative;}#sk-container-id-2 div.sk-item {position: relative;z-index: 1;}#sk-container-id-2 div.sk-parallel {display: flex;align-items: stretch;justify-content: center;background-color: white;position: relative;}#sk-container-id-2 div.sk-item::before, #sk-container-id-2 div.sk-parallel-item::before {content: \"\";position: absolute;border-left: 1px solid gray;box-sizing: border-box;top: 0;bottom: 0;left: 50%;z-index: -1;}#sk-container-id-2 div.sk-parallel-item {display: flex;flex-direction: column;z-index: 1;position: relative;background-color: white;}#sk-container-id-2 div.sk-parallel-item:first-child::after {align-self: flex-end;width: 50%;}#sk-container-id-2 div.sk-parallel-item:last-child::after {align-self: flex-start;width: 50%;}#sk-container-id-2 div.sk-parallel-item:only-child::after {width: 0;}#sk-container-id-2 div.sk-dashed-wrapped {border: 1px dashed gray;margin: 0 0.4em 0.5em 0.4em;box-sizing: border-box;padding-bottom: 0.4em;background-color: white;}#sk-container-id-2 div.sk-label label {font-family: monospace;font-weight: bold;display: inline-block;line-height: 1.2em;}#sk-container-id-2 div.sk-label-container {text-align: center;}#sk-container-id-2 div.sk-container {/* jupyter's `normalize.less` sets `[hidden] { display: none; }` but bootstrap.min.css set `[hidden] { display: none !important; }` so we also need the `!important` here to be able to override the default hidden behavior on the sphinx rendered scikit-learn.org. See: https://github.com/scikit-learn/scikit-learn/issues/21755 */display: inline-block !important;position: relative;}#sk-container-id-2 div.sk-text-repr-fallback {display: none;}</style><div id=\"sk-container-id-2\" class=\"sk-top-container\"><div class=\"sk-text-repr-fallback\"><pre>LogisticRegression(random_state=42, solver=&#x27;liblinear&#x27;)</pre><b>In a Jupyter environment, please rerun this cell to show the HTML representation or trust the notebook. <br />On GitHub, the HTML representation is unable to render, please try loading this page with nbviewer.org.</b></div><div class=\"sk-container\" hidden><div class=\"sk-item\"><div class=\"sk-estimator sk-toggleable\"><input class=\"sk-toggleable__control sk-hidden--visually\" id=\"sk-estimator-id-2\" type=\"checkbox\" checked><label for=\"sk-estimator-id-2\" class=\"sk-toggleable__label sk-toggleable__label-arrow\">LogisticRegression</label><div class=\"sk-toggleable__content\"><pre>LogisticRegression(random_state=42, solver=&#x27;liblinear&#x27;)</pre></div></div></div></div></div>"
      ],
      "text/plain": [
       "LogisticRegression(random_state=42, solver='liblinear')"
      ]
     },
     "execution_count": 8,
     "metadata": {},
     "output_type": "execute_result"
    }
   ],
   "source": [
    "from sklearn.linear_model import LogisticRegression\n",
    "\n",
    "#Create a model object. Parameters of the model object are known as hyper parameters\n",
    "clf_lib = LogisticRegression(random_state=42, solver='liblinear')\n",
    "\n",
    "#Fit the data to the model. This estimates the model parameters \n",
    "clf_lib.fit(x_train, y_train)"
   ]
  },
  {
   "cell_type": "markdown",
   "id": "be3738fb",
   "metadata": {},
   "source": [
    "<h2>Calculate precision, recall, and accuracy</h2>"
   ]
  },
  {
   "cell_type": "code",
   "execution_count": 9,
   "id": "62fa172f",
   "metadata": {},
   "outputs": [
    {
     "name": "stdout",
     "output_type": "stream",
     "text": [
      "precision:  0.8333333333333334\n",
      "recall:  0.625\n",
      "accuracy:  0.8095238095238095\n",
      "\n",
      "\n",
      "\n"
     ]
    }
   ],
   "source": [
    "from sklearn.metrics import precision_score, recall_score, accuracy_score\n",
    "\n",
    "y_pred = clf_lib.predict(x_test)\n",
    "\n",
    "precision = precision_score(y_test, y_pred)\n",
    "recall = recall_score(y_test, y_pred)\n",
    "accuracy = accuracy_score(y_test, y_pred)\n",
    "print(\"precision: \", precision) \n",
    "print(\"recall: \",recall) \n",
    "print(\"accuracy: \", accuracy) \n",
    "print(\"\\n\\n\")"
   ]
  },
  {
   "cell_type": "markdown",
   "id": "9eb462d1",
   "metadata": {},
   "source": [
    "<h2>Compare these numbers with the earlier numbers</h2>"
   ]
  },
  {
   "cell_type": "markdown",
   "id": "4cd83c26",
   "metadata": {},
   "source": [
    "<h4>Your response here</h4>\n"
   ]
  },
  {
   "cell_type": "markdown",
   "id": "76c85a57",
   "metadata": {},
   "source": [
    "<h2>Draw the precision recall and roc curves</h2>"
   ]
  },
  {
   "cell_type": "code",
   "execution_count": 10,
   "id": "96fda71f",
   "metadata": {},
   "outputs": [
    {
     "data": {
      "text/plain": [
       "<sklearn.metrics._plot.precision_recall_curve.PrecisionRecallDisplay at 0x148c19b10>"
      ]
     },
     "execution_count": 10,
     "metadata": {},
     "output_type": "execute_result"
    },
    {
     "data": {
      "image/png": "[encoded data removed]",
      "text/plain": [
       "<Figure size 640x480 with 1 Axes>"
      ]
     },
     "metadata": {},
     "output_type": "display_data"
    }
   ],
   "source": [
    "from sklearn.metrics import PrecisionRecallDisplay\n",
    "PrecisionRecallDisplay.from_estimator(clf_lib, x_train, y_train)"
   ]
  },
  {
   "cell_type": "code",
   "execution_count": 11,
   "id": "e3f4b88f",
   "metadata": {},
   "outputs": [
    {
     "data": {
      "text/plain": [
       "<sklearn.metrics._plot.roc_curve.RocCurveDisplay at 0x148cefca0>"
      ]
     },
     "execution_count": 11,
     "metadata": {},
     "output_type": "execute_result"
    },
    {
     "data": {
      "image/png": "[encoded data removed]",
      "text/plain": [
       "<Figure size 640x480 with 1 Axes>"
      ]
     },
     "metadata": {},
     "output_type": "display_data"
    }
   ],
   "source": [
    "from sklearn.metrics import RocCurveDisplay\n",
    "RocCurveDisplay.from_estimator(clf_lib, x_test, y_test)"
   ]
  },
  {
   "cell_type": "markdown",
   "id": "1e38eb95",
   "metadata": {},
   "source": [
    "<h2>Compare the AP and AUC of the two models</h2>"
   ]
  },
  {
   "cell_type": "markdown",
   "id": "ec6a835a",
   "metadata": {},
   "source": [
    "<h4>Your response here</h4>\n"
   ]
  },
  {
   "cell_type": "markdown",
   "id": "7da353c6",
   "metadata": {},
   "source": [
    "<h2>Run a cross validation model</h2>\n",
    "<li>Try 5 folds on the clf model</li>\n",
    "<li>Nice, eh?</li>"
   ]
  },
  {
   "cell_type": "code",
   "execution_count": 12,
   "id": "91770f2f",
   "metadata": {},
   "outputs": [
    {
     "data": {
      "text/plain": [
       "{'fit_time': array([0.02494407, 0.00281405, 0.0023129 , 0.00346398, 0.00222421]),\n",
       " 'score_time': array([0.00133419, 0.00078273, 0.00132012, 0.00082397, 0.00067592]),\n",
       " 'estimator': [LogisticRegression(random_state=42),\n",
       "  LogisticRegression(random_state=42),\n",
       "  LogisticRegression(random_state=42),\n",
       "  LogisticRegression(random_state=42),\n",
       "  LogisticRegression(random_state=42)],\n",
       " 'test_score': array([0.71052632, 0.84210526, 0.62162162, 0.72972973, 0.67567568]),\n",
       " 'train_score': array([0.81208054, 0.84563758, 0.84      , 0.83333333, 0.88      ])}"
      ]
     },
     "execution_count": 12,
     "metadata": {},
     "output_type": "execute_result"
    }
   ],
   "source": [
    "import numpy as np\n",
    "from sklearn.model_selection import cross_val_predict,cross_val_score,cross_validate\n",
    "clf_c = cross_validate(clf, x_train, y_train, cv=5, return_estimator=True, return_train_score=True)\n",
    "clf_c\n"
   ]
  },
  {
   "cell_type": "code",
   "execution_count": 13,
   "id": "1a3f56a3",
   "metadata": {},
   "outputs": [
    {
     "name": "stdout",
     "output_type": "stream",
     "text": [
      "precision:  0.875\n",
      "recall:  0.875\n",
      "accuracy:  0.9047619047619048\n"
     ]
    }
   ],
   "source": [
    "from sklearn.metrics import precision_score, recall_score, accuracy_score\n",
    "b = np.argmax(clf_c['test_score'])\n",
    "best_m = clf_c['estimator'][b]\n",
    "predictions = best_m.predict(x_test)\n",
    "print(\"precision: \", precision_score(y_test, predictions)) \n",
    "print(\"recall: \",recall_score(y_test, predictions)) \n",
    "print(\"accuracy: \", accuracy_score(y_test, predictions)) "
   ]
  },
  {
   "cell_type": "code",
   "execution_count": 14,
   "id": "81c38c86",
   "metadata": {},
   "outputs": [
    {
     "data": {
      "text/plain": [
       "{'fit_time': array([0.00403309, 0.00293493, 0.00276399, 0.00660491, 0.00145364]),\n",
       " 'score_time': array([0.00112271, 0.00084901, 0.00177503, 0.00269794, 0.00069523]),\n",
       " 'estimator': [LogisticRegression(random_state=42, solver='liblinear'),\n",
       "  LogisticRegression(random_state=42, solver='liblinear'),\n",
       "  LogisticRegression(random_state=42, solver='liblinear'),\n",
       "  LogisticRegression(random_state=42, solver='liblinear'),\n",
       "  LogisticRegression(random_state=42, solver='liblinear')],\n",
       " 'test_score': array([0.73684211, 0.84210526, 0.64864865, 0.78378378, 0.67567568]),\n",
       " 'train_score': array([0.80536913, 0.82550336, 0.82666667, 0.81333333, 0.85333333])}"
      ]
     },
     "execution_count": 14,
     "metadata": {},
     "output_type": "execute_result"
    }
   ],
   "source": [
    "import numpy as np\n",
    "from sklearn.model_selection import cross_val_predict,cross_val_score,cross_validate\n",
    "clf_lib_c = cross_validate(clf_lib, x_train, y_train, cv=5, return_estimator=True, return_train_score=True)\n",
    "clf_lib_c"
   ]
  },
  {
   "cell_type": "code",
   "execution_count": 15,
   "id": "4a60ea0b",
   "metadata": {},
   "outputs": [
    {
     "name": "stdout",
     "output_type": "stream",
     "text": [
      "precision:  1.0\n",
      "recall:  0.875\n",
      "accuracy:  0.9523809523809523\n"
     ]
    }
   ],
   "source": [
    "from sklearn.metrics import precision_score, recall_score, accuracy_score\n",
    "b = np.argmax(clf_lib_c['test_score'])\n",
    "best_m = clf_lib_c['estimator'][b]\n",
    "predictions = best_m.predict(x_test)\n",
    "print(\"precision: \", precision_score(y_test, predictions)) \n",
    "print(\"recall: \",recall_score(y_test, predictions))\n",
    "print(\"accuracy: \", accuracy_score(y_test, predictions))"
   ]
  }
 ],
 "metadata": {
  "kernelspec": {
   "display_name": "Python 3 (ipykernel)",
   "language": "python",
   "name": "python3"
  },
  "language_info": {
   "codemirror_mode": {
    "name": "ipython",
    "version": 3
   },
   "file_extension": ".py",
   "mimetype": "text/x-python",
   "name": "python",
   "nbconvert_exporter": "python",
   "pygments_lexer": "ipython3",
   "version": "3.10.12"
  }
 },
 "nbformat": 4,
 "nbformat_minor": 5
}
